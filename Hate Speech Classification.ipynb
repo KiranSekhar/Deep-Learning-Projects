{
 "cells": [
  {
   "cell_type": "code",
   "execution_count": 3,
   "id": "12e8edc8",
   "metadata": {},
   "outputs": [],
   "source": [
    "import numpy as np\n",
    "import pandas as pd\n",
    "import matplotlib.pyplot as plt"
   ]
  },
  {
   "cell_type": "markdown",
   "id": "3d835fb4",
   "metadata": {},
   "source": [
    "**DATASET**"
   ]
  },
  {
   "cell_type": "code",
   "execution_count": 4,
   "id": "0ebc45b8",
   "metadata": {},
   "outputs": [
    {
     "data": {
      "text/html": [
       "<div>\n",
       "<style scoped>\n",
       "    .dataframe tbody tr th:only-of-type {\n",
       "        vertical-align: middle;\n",
       "    }\n",
       "\n",
       "    .dataframe tbody tr th {\n",
       "        vertical-align: top;\n",
       "    }\n",
       "\n",
       "    .dataframe thead th {\n",
       "        text-align: right;\n",
       "    }\n",
       "</style>\n",
       "<table border=\"1\" class=\"dataframe\">\n",
       "  <thead>\n",
       "    <tr style=\"text-align: right;\">\n",
       "      <th></th>\n",
       "      <th>S.NO</th>\n",
       "      <th>count</th>\n",
       "      <th>hate_speech</th>\n",
       "      <th>offensive_language</th>\n",
       "      <th>neither</th>\n",
       "      <th>class</th>\n",
       "      <th>tweet</th>\n",
       "    </tr>\n",
       "  </thead>\n",
       "  <tbody>\n",
       "    <tr>\n",
       "      <th>0</th>\n",
       "      <td>0</td>\n",
       "      <td>3</td>\n",
       "      <td>0</td>\n",
       "      <td>0</td>\n",
       "      <td>3</td>\n",
       "      <td>2</td>\n",
       "      <td>!!! RT @mayasolovely: As a woman you shouldn't...</td>\n",
       "    </tr>\n",
       "    <tr>\n",
       "      <th>1</th>\n",
       "      <td>1</td>\n",
       "      <td>3</td>\n",
       "      <td>0</td>\n",
       "      <td>3</td>\n",
       "      <td>0</td>\n",
       "      <td>1</td>\n",
       "      <td>!!!!! RT @mleew17: boy dats cold...tyga dwn ba...</td>\n",
       "    </tr>\n",
       "    <tr>\n",
       "      <th>2</th>\n",
       "      <td>2</td>\n",
       "      <td>3</td>\n",
       "      <td>0</td>\n",
       "      <td>3</td>\n",
       "      <td>0</td>\n",
       "      <td>1</td>\n",
       "      <td>!!!!!!! RT @UrKindOfBrand Dawg!!!! RT @80sbaby...</td>\n",
       "    </tr>\n",
       "    <tr>\n",
       "      <th>3</th>\n",
       "      <td>3</td>\n",
       "      <td>3</td>\n",
       "      <td>0</td>\n",
       "      <td>2</td>\n",
       "      <td>1</td>\n",
       "      <td>1</td>\n",
       "      <td>!!!!!!!!! RT @C_G_Anderson: @viva_based she lo...</td>\n",
       "    </tr>\n",
       "    <tr>\n",
       "      <th>4</th>\n",
       "      <td>4</td>\n",
       "      <td>6</td>\n",
       "      <td>0</td>\n",
       "      <td>6</td>\n",
       "      <td>0</td>\n",
       "      <td>1</td>\n",
       "      <td>!!!!!!!!!!!!! RT @ShenikaRoberts: The shit you...</td>\n",
       "    </tr>\n",
       "  </tbody>\n",
       "</table>\n",
       "</div>"
      ],
      "text/plain": [
       "   S.NO  count  hate_speech  offensive_language  neither  class  \\\n",
       "0     0      3            0                   0        3      2   \n",
       "1     1      3            0                   3        0      1   \n",
       "2     2      3            0                   3        0      1   \n",
       "3     3      3            0                   2        1      1   \n",
       "4     4      6            0                   6        0      1   \n",
       "\n",
       "                                               tweet  \n",
       "0  !!! RT @mayasolovely: As a woman you shouldn't...  \n",
       "1  !!!!! RT @mleew17: boy dats cold...tyga dwn ba...  \n",
       "2  !!!!!!! RT @UrKindOfBrand Dawg!!!! RT @80sbaby...  \n",
       "3  !!!!!!!!! RT @C_G_Anderson: @viva_based she lo...  \n",
       "4  !!!!!!!!!!!!! RT @ShenikaRoberts: The shit you...  "
      ]
     },
     "execution_count": 4,
     "metadata": {},
     "output_type": "execute_result"
    }
   ],
   "source": [
    "df = pd.read_csv('labeled_data.csv')\n",
    "df.head()"
   ]
  },
  {
   "cell_type": "markdown",
   "id": "517c6ee6",
   "metadata": {},
   "source": [
    "**Supervised Learning**\n",
    "\n",
    "0 - hate speech\n",
    "1 - offensive language\n",
    "2 - neither\n",
    "\n",
    "hate_speech = number of users who judged the tweet to be hate speech.\n",
    "\n",
    "offensive_language = number of users who judged the tweet to be offensive.\n",
    "\n",
    "neither = number of users who judged the tweet to be neither offensive nor non-offensive.\n",
    "\n",
    "class = class label for majority of users. "
   ]
  },
  {
   "cell_type": "code",
   "execution_count": 5,
   "id": "49ef4d1c",
   "metadata": {},
   "outputs": [],
   "source": [
    "classes = ['Hate Speech','Offensive Language','None']"
   ]
  },
  {
   "cell_type": "code",
   "execution_count": 6,
   "id": "ac5be5ea",
   "metadata": {},
   "outputs": [],
   "source": [
    "df.drop(['S.NO','count','hate_speech','offensive_language','neither'],axis=1,inplace=True)"
   ]
  },
  {
   "cell_type": "code",
   "execution_count": 7,
   "id": "3cd6669f",
   "metadata": {},
   "outputs": [
    {
     "data": {
      "text/html": [
       "<div>\n",
       "<style scoped>\n",
       "    .dataframe tbody tr th:only-of-type {\n",
       "        vertical-align: middle;\n",
       "    }\n",
       "\n",
       "    .dataframe tbody tr th {\n",
       "        vertical-align: top;\n",
       "    }\n",
       "\n",
       "    .dataframe thead th {\n",
       "        text-align: right;\n",
       "    }\n",
       "</style>\n",
       "<table border=\"1\" class=\"dataframe\">\n",
       "  <thead>\n",
       "    <tr style=\"text-align: right;\">\n",
       "      <th></th>\n",
       "      <th>class</th>\n",
       "      <th>tweet</th>\n",
       "    </tr>\n",
       "  </thead>\n",
       "  <tbody>\n",
       "    <tr>\n",
       "      <th>0</th>\n",
       "      <td>2</td>\n",
       "      <td>!!! RT @mayasolovely: As a woman you shouldn't...</td>\n",
       "    </tr>\n",
       "    <tr>\n",
       "      <th>1</th>\n",
       "      <td>1</td>\n",
       "      <td>!!!!! RT @mleew17: boy dats cold...tyga dwn ba...</td>\n",
       "    </tr>\n",
       "    <tr>\n",
       "      <th>2</th>\n",
       "      <td>1</td>\n",
       "      <td>!!!!!!! RT @UrKindOfBrand Dawg!!!! RT @80sbaby...</td>\n",
       "    </tr>\n",
       "    <tr>\n",
       "      <th>3</th>\n",
       "      <td>1</td>\n",
       "      <td>!!!!!!!!! RT @C_G_Anderson: @viva_based she lo...</td>\n",
       "    </tr>\n",
       "    <tr>\n",
       "      <th>4</th>\n",
       "      <td>1</td>\n",
       "      <td>!!!!!!!!!!!!! RT @ShenikaRoberts: The shit you...</td>\n",
       "    </tr>\n",
       "  </tbody>\n",
       "</table>\n",
       "</div>"
      ],
      "text/plain": [
       "   class                                              tweet\n",
       "0      2  !!! RT @mayasolovely: As a woman you shouldn't...\n",
       "1      1  !!!!! RT @mleew17: boy dats cold...tyga dwn ba...\n",
       "2      1  !!!!!!! RT @UrKindOfBrand Dawg!!!! RT @80sbaby...\n",
       "3      1  !!!!!!!!! RT @C_G_Anderson: @viva_based she lo...\n",
       "4      1  !!!!!!!!!!!!! RT @ShenikaRoberts: The shit you..."
      ]
     },
     "execution_count": 7,
     "metadata": {},
     "output_type": "execute_result"
    }
   ],
   "source": [
    "df.head()"
   ]
  },
  {
   "cell_type": "code",
   "execution_count": 10,
   "id": "5fe199c1",
   "metadata": {},
   "outputs": [
    {
     "name": "stdout",
     "output_type": "stream",
     "text": [
      "(1430, 2)\n",
      "(19190, 2)\n",
      "(4163, 2)\n"
     ]
    }
   ],
   "source": [
    "hate_tweets = df[df['class']==0]\n",
    "offensive_tweets = df[df['class']==1]\n",
    "neither = df[df['class']==2]\n",
    "print(hate_tweets.shape)\n",
    "print(offensive_tweets.shape)\n",
    "print(neither.shape)"
   ]
  },
  {
   "cell_type": "code",
   "execution_count": 8,
   "id": "74f24aaa",
   "metadata": {},
   "outputs": [
    {
     "data": {
      "text/plain": [
       "(24783, 2)"
      ]
     },
     "execution_count": 8,
     "metadata": {},
     "output_type": "execute_result"
    }
   ],
   "source": [
    "df.shape"
   ]
  },
  {
   "cell_type": "code",
   "execution_count": 9,
   "id": "0140cc8d",
   "metadata": {},
   "outputs": [
    {
     "name": "stdout",
     "output_type": "stream",
     "text": [
      "Hate Speech  :  1430\n",
      "Offensive Language  :  19190\n",
      "None  :  4163\n"
     ]
    },
    {
     "data": {
      "image/png": "[encoded data removed]",
      "text/plain": [
       "<Figure size 432x288 with 1 Axes>"
      ]
     },
     "metadata": {
      "needs_background": "light"
     },
     "output_type": "display_data"
    }
   ],
   "source": [
    "labels = df['class']\n",
    "unique, counts = np.unique(labels, return_counts=True)\n",
    "values = list(zip(unique, counts))\n",
    "plt.bar(classes,counts)\n",
    "for i in values:\n",
    "    print(classes[i[0]],' : ',i[1])\n",
    "plt.show()"
   ]
  },
  {
   "cell_type": "markdown",
   "id": "c7afe006",
   "metadata": {},
   "source": [
    "**Extracting Tweets of All Classes**"
   ]
  },
  {
   "cell_type": "code",
   "execution_count": 11,
   "id": "5a5a20a3",
   "metadata": {},
   "outputs": [
    {
     "name": "stdout",
     "output_type": "stream",
     "text": [
      "(11440, 2)\n",
      "(12000, 2)\n",
      "(12489, 2)\n"
     ]
    }
   ],
   "source": [
    "for i in range(3):\n",
    "    hate_tweets = pd.concat([hate_tweets,hate_tweets],ignore_index = True)\n",
    "neither = pd.concat([neither,neither,neither], ignore_index = True)\n",
    "offensive_tweets = offensive_tweets.iloc[0:12000,:]\n",
    "print(hate_tweets.shape)\n",
    "print(offensive_tweets.shape)\n",
    "print(neither.shape)"
   ]
  },
  {
   "cell_type": "markdown",
   "id": "b235ac74",
   "metadata": {},
   "source": [
    "**Balancing the Dataset**\n",
    "\n",
    "Taking around 12000 tweets for all the classes\n",
    "\n",
    "Repeating Hate tweets 8 times\n",
    "\n",
    "Repeating Neither tweets 2 times"
   ]
  },
  {
   "cell_type": "code",
   "execution_count": 12,
   "id": "a4edcc35",
   "metadata": {},
   "outputs": [
    {
     "data": {
      "text/plain": [
       "(35929, 2)"
      ]
     },
     "execution_count": 12,
     "metadata": {},
     "output_type": "execute_result"
    }
   ],
   "source": [
    "df = pd.concat([hate_tweets,offensive_tweets,neither],ignore_index = True)\n",
    "df.shape"
   ]
  },
  {
   "cell_type": "code",
   "execution_count": 13,
   "id": "09194e15",
   "metadata": {},
   "outputs": [
    {
     "name": "stdout",
     "output_type": "stream",
     "text": [
      "Hate Speech  :  11440\n",
      "Offensive Language  :  12000\n",
      "None  :  12489\n"
     ]
    },
    {
     "data": {
      "image/png": "[encoded data removed]",
      "text/plain": [
       "<Figure size 432x288 with 1 Axes>"
      ]
     },
     "metadata": {
      "needs_background": "light"
     },
     "output_type": "display_data"
    }
   ],
   "source": [
    "labels = df['class']\n",
    "unique, counts = np.unique(labels, return_counts=True)\n",
    "values = list(zip(unique, counts))\n",
    "plt.bar(classes,counts)\n",
    "for i in values:\n",
    "    print(classes[i[0]],' : ',i[1])\n",
    "plt.show()"
   ]
  },
  {
   "cell_type": "code",
   "execution_count": 14,
   "id": "112c0982",
   "metadata": {},
   "outputs": [
    {
     "data": {
      "text/html": [
       "<div>\n",
       "<style scoped>\n",
       "    .dataframe tbody tr th:only-of-type {\n",
       "        vertical-align: middle;\n",
       "    }\n",
       "\n",
       "    .dataframe tbody tr th {\n",
       "        vertical-align: top;\n",
       "    }\n",
       "\n",
       "    .dataframe thead th {\n",
       "        text-align: right;\n",
       "    }\n",
       "</style>\n",
       "<table border=\"1\" class=\"dataframe\">\n",
       "  <thead>\n",
       "    <tr style=\"text-align: right;\">\n",
       "      <th></th>\n",
       "      <th>class</th>\n",
       "      <th>tweet</th>\n",
       "    </tr>\n",
       "  </thead>\n",
       "  <tbody>\n",
       "    <tr>\n",
       "      <th>0</th>\n",
       "      <td>0</td>\n",
       "      <td>\"@Blackman38Tide: @WhaleLookyHere @HowdyDowdy1...</td>\n",
       "    </tr>\n",
       "    <tr>\n",
       "      <th>1</th>\n",
       "      <td>0</td>\n",
       "      <td>\"@CB_Baby24: @white_thunduh alsarabsss\" hes a ...</td>\n",
       "    </tr>\n",
       "    <tr>\n",
       "      <th>2</th>\n",
       "      <td>0</td>\n",
       "      <td>\"@DevilGrimz: @VigxRArts you're fucking gay, b...</td>\n",
       "    </tr>\n",
       "    <tr>\n",
       "      <th>3</th>\n",
       "      <td>0</td>\n",
       "      <td>\"@MarkRoundtreeJr: LMFAOOOO I HATE BLACK PEOPL...</td>\n",
       "    </tr>\n",
       "    <tr>\n",
       "      <th>4</th>\n",
       "      <td>0</td>\n",
       "      <td>\"@NoChillPaz: \"At least I'm not a nigger\" http...</td>\n",
       "    </tr>\n",
       "  </tbody>\n",
       "</table>\n",
       "</div>"
      ],
      "text/plain": [
       "   class                                              tweet\n",
       "0      0  \"@Blackman38Tide: @WhaleLookyHere @HowdyDowdy1...\n",
       "1      0  \"@CB_Baby24: @white_thunduh alsarabsss\" hes a ...\n",
       "2      0  \"@DevilGrimz: @VigxRArts you're fucking gay, b...\n",
       "3      0  \"@MarkRoundtreeJr: LMFAOOOO I HATE BLACK PEOPL...\n",
       "4      0  \"@NoChillPaz: \"At least I'm not a nigger\" http..."
      ]
     },
     "execution_count": 14,
     "metadata": {},
     "output_type": "execute_result"
    }
   ],
   "source": [
    "df.head()"
   ]
  },
  {
   "cell_type": "markdown",
   "id": "26f8da7e",
   "metadata": {},
   "source": [
    "**Tweets Preprocessing**"
   ]
  },
  {
   "cell_type": "code",
   "execution_count": 15,
   "id": "74d1b8da",
   "metadata": {},
   "outputs": [
    {
     "name": "stderr",
     "output_type": "stream",
     "text": [
      "[nltk_data] Downloading package wordnet to\n",
      "[nltk_data]     C:\\Users\\Meenakshi\\AppData\\Roaming\\nltk_data...\n",
      "[nltk_data]   Package wordnet is already up-to-date!\n",
      "[nltk_data] Downloading package stopwords to\n",
      "[nltk_data]     C:\\Users\\Meenakshi\\AppData\\Roaming\\nltk_data...\n",
      "[nltk_data]   Package stopwords is already up-to-date!\n"
     ]
    },
    {
     "data": {
      "text/plain": [
       "True"
      ]
     },
     "execution_count": 15,
     "metadata": {},
     "output_type": "execute_result"
    }
   ],
   "source": [
    "import nltk\n",
    "from nltk.stem import WordNetLemmatizer\n",
    "from nltk.corpus import stopwords\n",
    "import re\n",
    "nltk.download('wordnet')\n",
    "nltk.download('stopwords')"
   ]
  },
  {
   "cell_type": "code",
   "execution_count": 16,
   "id": "d4118365",
   "metadata": {},
   "outputs": [],
   "source": [
    "d = {'luv':'love','wud':'would','lyk':'like','wateva':'whatever','ttyl':'talk to you later',\n",
    "               'kul':'cool','fyn':'fine','omg':'oh my god!','fam':'family','bruh':'brother',\n",
    "               'cud':'could','fud':'food', 'u': 'you', \n",
    "     'ur':'your', 'bday' : 'birthday', 'bihday' : 'birthday'}"
   ]
  },
  {
   "cell_type": "code",
   "execution_count": 17,
   "id": "cfd0d8d9",
   "metadata": {},
   "outputs": [],
   "source": [
    "stop_words = set(stopwords.words(\"english\"))\n",
    "stop_words.add('rt')\n",
    "stop_words.remove('not')\n",
    "lemmatizer = WordNetLemmatizer()\n",
    "giant_url_regex = ('http[s]?://(?:[a-zA-Z]|[0-9]|[$-_@.&+]|' '[!*\\(\\),]|(?:%[0-9a-fA-F][0-9a-fA-F]))+')\n",
    "mention_regex = '@[\\w\\-]+'\n",
    "\n",
    "def clean_text(text):\n",
    "    text = re.sub('\"', \"\", text)\n",
    "    text = re.sub(mention_regex, ' ',text) #removing all user names\n",
    "    text = re.sub(giant_url_regex, ' ', text)  #remocing the urls\n",
    "    text = text.lower()\n",
    "    text = re.sub(\"hm+\", \"\", text) #removing variants of hmmm\n",
    "    text = re.sub(\"[^a-z]+\", \" \", text) #removing all numbers, special chars like @,#,? etc\n",
    "    text = text.split()\n",
    "    text = [word for word in text if not word in stop_words]\n",
    "    text = [d[word] if word in d else word for word in text]  #replacing some slangs\n",
    "    text = [lemmatizer.lemmatize(token) for token in text]\n",
    "    text = [lemmatizer.lemmatize(token, \"v\") for token in text]\n",
    "    text = \" \".join(text)\n",
    "    return text"
   ]
  },
  {
   "cell_type": "code",
   "execution_count": 18,
   "id": "613cfc76",
   "metadata": {},
   "outputs": [
    {
     "data": {
      "text/html": [
       "<div>\n",
       "<style scoped>\n",
       "    .dataframe tbody tr th:only-of-type {\n",
       "        vertical-align: middle;\n",
       "    }\n",
       "\n",
       "    .dataframe tbody tr th {\n",
       "        vertical-align: top;\n",
       "    }\n",
       "\n",
       "    .dataframe thead th {\n",
       "        text-align: right;\n",
       "    }\n",
       "</style>\n",
       "<table border=\"1\" class=\"dataframe\">\n",
       "  <thead>\n",
       "    <tr style=\"text-align: right;\">\n",
       "      <th></th>\n",
       "      <th>class</th>\n",
       "      <th>tweet</th>\n",
       "      <th>processed_tweets</th>\n",
       "    </tr>\n",
       "  </thead>\n",
       "  <tbody>\n",
       "    <tr>\n",
       "      <th>0</th>\n",
       "      <td>0</td>\n",
       "      <td>\"@Blackman38Tide: @WhaleLookyHere @HowdyDowdy1...</td>\n",
       "      <td>queer gaywad</td>\n",
       "    </tr>\n",
       "    <tr>\n",
       "      <th>1</th>\n",
       "      <td>0</td>\n",
       "      <td>\"@CB_Baby24: @white_thunduh alsarabsss\" hes a ...</td>\n",
       "      <td>alsarabsss he beaner smh tell he mexican</td>\n",
       "    </tr>\n",
       "    <tr>\n",
       "      <th>2</th>\n",
       "      <td>0</td>\n",
       "      <td>\"@DevilGrimz: @VigxRArts you're fucking gay, b...</td>\n",
       "      <td>fuck gay blacklist hoe hold tehgodclan anyway</td>\n",
       "    </tr>\n",
       "    <tr>\n",
       "      <th>3</th>\n",
       "      <td>0</td>\n",
       "      <td>\"@MarkRoundtreeJr: LMFAOOOO I HATE BLACK PEOPL...</td>\n",
       "      <td>lmfaoooo hate black people black people nigger</td>\n",
       "    </tr>\n",
       "    <tr>\n",
       "      <th>4</th>\n",
       "      <td>0</td>\n",
       "      <td>\"@NoChillPaz: \"At least I'm not a nigger\" http...</td>\n",
       "      <td>least not nigger lmfao</td>\n",
       "    </tr>\n",
       "  </tbody>\n",
       "</table>\n",
       "</div>"
      ],
      "text/plain": [
       "   class                                              tweet  \\\n",
       "0      0  \"@Blackman38Tide: @WhaleLookyHere @HowdyDowdy1...   \n",
       "1      0  \"@CB_Baby24: @white_thunduh alsarabsss\" hes a ...   \n",
       "2      0  \"@DevilGrimz: @VigxRArts you're fucking gay, b...   \n",
       "3      0  \"@MarkRoundtreeJr: LMFAOOOO I HATE BLACK PEOPL...   \n",
       "4      0  \"@NoChillPaz: \"At least I'm not a nigger\" http...   \n",
       "\n",
       "                                 processed_tweets  \n",
       "0                                    queer gaywad  \n",
       "1        alsarabsss he beaner smh tell he mexican  \n",
       "2   fuck gay blacklist hoe hold tehgodclan anyway  \n",
       "3  lmfaoooo hate black people black people nigger  \n",
       "4                          least not nigger lmfao  "
      ]
     },
     "execution_count": 18,
     "metadata": {},
     "output_type": "execute_result"
    }
   ],
   "source": [
    "df['processed_tweets'] = df.tweet.apply(lambda x: clean_text(x))   # df.review.map(clean_text) Also can be used\n",
    "df.head()"
   ]
  },
  {
   "cell_type": "code",
   "execution_count": 19,
   "id": "3fffe220",
   "metadata": {},
   "outputs": [
    {
     "name": "stdout",
     "output_type": "stream",
     "text": [
      "(35929,)\n",
      "(35929,)\n"
     ]
    }
   ],
   "source": [
    "x = df.processed_tweets\n",
    "y = df['class']\n",
    "print(x.shape)\n",
    "print(y.shape)"
   ]
  },
  {
   "cell_type": "markdown",
   "id": "263c0ade",
   "metadata": {},
   "source": [
    "**Word Frequency and Tweets Length**"
   ]
  },
  {
   "cell_type": "code",
   "execution_count": 20,
   "id": "e5656e74",
   "metadata": {},
   "outputs": [
    {
     "name": "stdout",
     "output_type": "stream",
     "text": [
      "The total words in the tweets are :  275540\n",
      "The total UNIQUE words in the tweets are :  14146\n"
     ]
    }
   ],
   "source": [
    "# finding unique words\n",
    "word_unique = []\n",
    "for i in x:\n",
    "    for j in i.split():\n",
    "        word_unique.append(j)\n",
    "unique, counts = np.unique(word_unique, return_counts=True)\n",
    "print(\"The total words in the tweets are : \", len(word_unique))\n",
    "print(\"The total UNIQUE words in the tweets are : \", len(unique))"
   ]
  },
  {
   "cell_type": "code",
   "execution_count": 21,
   "id": "aa05e25b",
   "metadata": {},
   "outputs": [
    {
     "name": "stdout",
     "output_type": "stream",
     "text": [
      "The Average Length tweets are :  7.669013888502324\n",
      "The max length of tweets is :  28\n",
      "The min length of tweets is :  0\n"
     ]
    }
   ],
   "source": [
    "# finding length of tweets\n",
    "tweets_length = []\n",
    "for i in x:\n",
    "    tweets_length.append(len(i.split()))\n",
    "print(\"The Average Length tweets are : \",np.mean(tweets_length))\n",
    "print(\"The max length of tweets is : \", np.max(tweets_length))\n",
    "print(\"The min length of tweets is : \", np.min(tweets_length))"
   ]
  },
  {
   "cell_type": "code",
   "execution_count": 22,
   "id": "233a2cfe",
   "metadata": {},
   "outputs": [
    {
     "data": {
      "text/html": [
       "<div>\n",
       "<style scoped>\n",
       "    .dataframe tbody tr th:only-of-type {\n",
       "        vertical-align: middle;\n",
       "    }\n",
       "\n",
       "    .dataframe tbody tr th {\n",
       "        vertical-align: top;\n",
       "    }\n",
       "\n",
       "    .dataframe thead th {\n",
       "        text-align: right;\n",
       "    }\n",
       "</style>\n",
       "<table border=\"1\" class=\"dataframe\">\n",
       "  <thead>\n",
       "    <tr style=\"text-align: right;\">\n",
       "      <th></th>\n",
       "      <th>0</th>\n",
       "    </tr>\n",
       "  </thead>\n",
       "  <tbody>\n",
       "    <tr>\n",
       "      <th>count</th>\n",
       "      <td>35929.000000</td>\n",
       "    </tr>\n",
       "    <tr>\n",
       "      <th>mean</th>\n",
       "      <td>7.669014</td>\n",
       "    </tr>\n",
       "    <tr>\n",
       "      <th>std</th>\n",
       "      <td>3.989625</td>\n",
       "    </tr>\n",
       "    <tr>\n",
       "      <th>min</th>\n",
       "      <td>0.000000</td>\n",
       "    </tr>\n",
       "    <tr>\n",
       "      <th>25%</th>\n",
       "      <td>4.000000</td>\n",
       "    </tr>\n",
       "    <tr>\n",
       "      <th>50%</th>\n",
       "      <td>7.000000</td>\n",
       "    </tr>\n",
       "    <tr>\n",
       "      <th>75%</th>\n",
       "      <td>11.000000</td>\n",
       "    </tr>\n",
       "    <tr>\n",
       "      <th>max</th>\n",
       "      <td>28.000000</td>\n",
       "    </tr>\n",
       "  </tbody>\n",
       "</table>\n",
       "</div>"
      ],
      "text/plain": [
       "                  0\n",
       "count  35929.000000\n",
       "mean       7.669014\n",
       "std        3.989625\n",
       "min        0.000000\n",
       "25%        4.000000\n",
       "50%        7.000000\n",
       "75%       11.000000\n",
       "max       28.000000"
      ]
     },
     "execution_count": 22,
     "metadata": {},
     "output_type": "execute_result"
    }
   ],
   "source": [
    "tweets_length = pd.DataFrame(tweets_length)\n",
    "tweets_length.describe()\n"
   ]
  },
  {
   "cell_type": "code",
   "execution_count": 23,
   "id": "d94b1a39",
   "metadata": {},
   "outputs": [
    {
     "name": "stdout",
     "output_type": "stream",
     "text": [
      "Top 20 Occuring Words with their frequency are:\n"
     ]
    },
    {
     "data": {
      "text/html": [
       "<div>\n",
       "<style scoped>\n",
       "    .dataframe tbody tr th:only-of-type {\n",
       "        vertical-align: middle;\n",
       "    }\n",
       "\n",
       "    .dataframe tbody tr th {\n",
       "        vertical-align: top;\n",
       "    }\n",
       "\n",
       "    .dataframe thead th {\n",
       "        text-align: right;\n",
       "    }\n",
       "</style>\n",
       "<table border=\"1\" class=\"dataframe\">\n",
       "  <thead>\n",
       "    <tr style=\"text-align: right;\">\n",
       "      <th></th>\n",
       "      <th>0</th>\n",
       "      <th>1</th>\n",
       "    </tr>\n",
       "  </thead>\n",
       "  <tbody>\n",
       "    <tr>\n",
       "      <th>0</th>\n",
       "      <td>bitch</td>\n",
       "      <td>9066</td>\n",
       "    </tr>\n",
       "    <tr>\n",
       "      <th>1</th>\n",
       "      <td>like</td>\n",
       "      <td>3817</td>\n",
       "    </tr>\n",
       "    <tr>\n",
       "      <th>2</th>\n",
       "      <td>get</td>\n",
       "      <td>3636</td>\n",
       "    </tr>\n",
       "    <tr>\n",
       "      <th>3</th>\n",
       "      <td>hoe</td>\n",
       "      <td>3426</td>\n",
       "    </tr>\n",
       "    <tr>\n",
       "      <th>4</th>\n",
       "      <td>trash</td>\n",
       "      <td>3217</td>\n",
       "    </tr>\n",
       "    <tr>\n",
       "      <th>5</th>\n",
       "      <td>fuck</td>\n",
       "      <td>3103</td>\n",
       "    </tr>\n",
       "    <tr>\n",
       "      <th>6</th>\n",
       "      <td>nigga</td>\n",
       "      <td>2819</td>\n",
       "    </tr>\n",
       "    <tr>\n",
       "      <th>7</th>\n",
       "      <td>faggot</td>\n",
       "      <td>2239</td>\n",
       "    </tr>\n",
       "    <tr>\n",
       "      <th>8</th>\n",
       "      <td>as</td>\n",
       "      <td>2073</td>\n",
       "    </tr>\n",
       "    <tr>\n",
       "      <th>9</th>\n",
       "      <td>you</td>\n",
       "      <td>1851</td>\n",
       "    </tr>\n",
       "    <tr>\n",
       "      <th>10</th>\n",
       "      <td>pussy</td>\n",
       "      <td>1847</td>\n",
       "    </tr>\n",
       "    <tr>\n",
       "      <th>11</th>\n",
       "      <td>go</td>\n",
       "      <td>1773</td>\n",
       "    </tr>\n",
       "    <tr>\n",
       "      <th>12</th>\n",
       "      <td>not</td>\n",
       "      <td>1764</td>\n",
       "    </tr>\n",
       "    <tr>\n",
       "      <th>13</th>\n",
       "      <td>bird</td>\n",
       "      <td>1515</td>\n",
       "    </tr>\n",
       "    <tr>\n",
       "      <th>14</th>\n",
       "      <td>lol</td>\n",
       "      <td>1494</td>\n",
       "    </tr>\n",
       "    <tr>\n",
       "      <th>15</th>\n",
       "      <td>nigger</td>\n",
       "      <td>1459</td>\n",
       "    </tr>\n",
       "    <tr>\n",
       "      <th>16</th>\n",
       "      <td>say</td>\n",
       "      <td>1456</td>\n",
       "    </tr>\n",
       "    <tr>\n",
       "      <th>17</th>\n",
       "      <td>make</td>\n",
       "      <td>1373</td>\n",
       "    </tr>\n",
       "    <tr>\n",
       "      <th>18</th>\n",
       "      <td>amp</td>\n",
       "      <td>1329</td>\n",
       "    </tr>\n",
       "    <tr>\n",
       "      <th>19</th>\n",
       "      <td>white</td>\n",
       "      <td>1328</td>\n",
       "    </tr>\n",
       "  </tbody>\n",
       "</table>\n",
       "</div>"
      ],
      "text/plain": [
       "         0     1\n",
       "0    bitch  9066\n",
       "1     like  3817\n",
       "2      get  3636\n",
       "3      hoe  3426\n",
       "4    trash  3217\n",
       "5     fuck  3103\n",
       "6    nigga  2819\n",
       "7   faggot  2239\n",
       "8       as  2073\n",
       "9      you  1851\n",
       "10   pussy  1847\n",
       "11      go  1773\n",
       "12     not  1764\n",
       "13    bird  1515\n",
       "14     lol  1494\n",
       "15  nigger  1459\n",
       "16     say  1456\n",
       "17    make  1373\n",
       "18     amp  1329\n",
       "19   white  1328"
      ]
     },
     "execution_count": 23,
     "metadata": {},
     "output_type": "execute_result"
    }
   ],
   "source": [
    "#Sorting the Unique words based on their Frequency\n",
    "col = list(zip(unique, counts))\n",
    "col = sorted(col, key = lambda x: x[1],reverse=True)\n",
    "col=pd.DataFrame(col)\n",
    "print(\"Top 20 Occuring Words with their frequency are:\")\n",
    "col.iloc[:20,:]"
   ]
  },
  {
   "cell_type": "code",
   "execution_count": 24,
   "id": "1fbbd1b8",
   "metadata": {},
   "outputs": [
    {
     "data": {
      "text/html": [
       "<div>\n",
       "<style scoped>\n",
       "    .dataframe tbody tr th:only-of-type {\n",
       "        vertical-align: middle;\n",
       "    }\n",
       "\n",
       "    .dataframe tbody tr th {\n",
       "        vertical-align: top;\n",
       "    }\n",
       "\n",
       "    .dataframe thead th {\n",
       "        text-align: right;\n",
       "    }\n",
       "</style>\n",
       "<table border=\"1\" class=\"dataframe\">\n",
       "  <thead>\n",
       "    <tr style=\"text-align: right;\">\n",
       "      <th></th>\n",
       "      <th>1</th>\n",
       "    </tr>\n",
       "  </thead>\n",
       "  <tbody>\n",
       "    <tr>\n",
       "      <th>count</th>\n",
       "      <td>14146.000000</td>\n",
       "    </tr>\n",
       "    <tr>\n",
       "      <th>mean</th>\n",
       "      <td>19.478298</td>\n",
       "    </tr>\n",
       "    <tr>\n",
       "      <th>std</th>\n",
       "      <td>128.082239</td>\n",
       "    </tr>\n",
       "    <tr>\n",
       "      <th>min</th>\n",
       "      <td>1.000000</td>\n",
       "    </tr>\n",
       "    <tr>\n",
       "      <th>25%</th>\n",
       "      <td>1.000000</td>\n",
       "    </tr>\n",
       "    <tr>\n",
       "      <th>50%</th>\n",
       "      <td>3.000000</td>\n",
       "    </tr>\n",
       "    <tr>\n",
       "      <th>75%</th>\n",
       "      <td>9.000000</td>\n",
       "    </tr>\n",
       "    <tr>\n",
       "      <th>max</th>\n",
       "      <td>9066.000000</td>\n",
       "    </tr>\n",
       "  </tbody>\n",
       "</table>\n",
       "</div>"
      ],
      "text/plain": [
       "                  1\n",
       "count  14146.000000\n",
       "mean      19.478298\n",
       "std      128.082239\n",
       "min        1.000000\n",
       "25%        1.000000\n",
       "50%        3.000000\n",
       "75%        9.000000\n",
       "max     9066.000000"
      ]
     },
     "execution_count": 24,
     "metadata": {},
     "output_type": "execute_result"
    }
   ],
   "source": [
    "col.describe()"
   ]
  },
  {
   "cell_type": "markdown",
   "id": "c4c05a61",
   "metadata": {},
   "source": [
    "**TF-IDF Vectorizer**"
   ]
  },
  {
   "cell_type": "code",
   "execution_count": 25,
   "id": "c77d1813",
   "metadata": {},
   "outputs": [],
   "source": [
    "from sklearn.feature_extraction.text import TfidfVectorizer"
   ]
  },
  {
   "cell_type": "code",
   "execution_count": 26,
   "id": "fe634b41",
   "metadata": {},
   "outputs": [
    {
     "name": "stdout",
     "output_type": "stream",
     "text": [
      "8000\n",
      "(8000,)\n"
     ]
    }
   ],
   "source": [
    "vectorizer = TfidfVectorizer(max_features = 8000 )\n",
    "# tokenize and build vocab\n",
    "\n",
    "vectorizer.fit(x)\n",
    "# summarize\n",
    "\n",
    "print(len(vectorizer.vocabulary_))\n",
    "print(vectorizer.idf_.shape)"
   ]
  },
  {
   "cell_type": "code",
   "execution_count": 27,
   "id": "96a4624c",
   "metadata": {},
   "outputs": [
    {
     "name": "stdout",
     "output_type": "stream",
     "text": [
      "(35929, 8000)\n"
     ]
    }
   ],
   "source": [
    "x_tfidf = vectorizer.transform(x).toarray()\n",
    "print(x_tfidf.shape)"
   ]
  },
  {
   "cell_type": "code",
   "execution_count": 28,
   "id": "41930a2d",
   "metadata": {},
   "outputs": [],
   "source": [
    "from sklearn.linear_model import LogisticRegression\n",
    "from sklearn.metrics import classification_report\n",
    "from sklearn.svm import LinearSVC\n",
    "from sklearn.svm import SVC\n",
    "from sklearn.linear_model import SGDClassifier\n",
    "from sklearn.model_selection import train_test_split as tts\n",
    "from sklearn.metrics import confusion_matrix, accuracy_score"
   ]
  },
  {
   "cell_type": "code",
   "execution_count": 29,
   "id": "9e11551a",
   "metadata": {},
   "outputs": [
    {
     "name": "stdout",
     "output_type": "stream",
     "text": [
      "(34132, 8000)\n",
      "(1797, 8000)\n",
      "(34132,)\n",
      "(1797,)\n"
     ]
    }
   ],
   "source": [
    "x_train,x_test,y_train,y_test = tts(x_tfidf,y,test_size = 0.05)\n",
    "print(x_train.shape)\n",
    "print(x_test.shape)\n",
    "print(y_train.shape)\n",
    "print(y_test.shape)"
   ]
  },
  {
   "cell_type": "markdown",
   "id": "12a49edc",
   "metadata": {},
   "source": [
    "**SVM Model 1**"
   ]
  },
  {
   "cell_type": "code",
   "execution_count": 30,
   "id": "8c42ebcc",
   "metadata": {},
   "outputs": [
    {
     "name": "stderr",
     "output_type": "stream",
     "text": [
      "D:\\Anaconda\\lib\\site-packages\\sklearn\\svm\\_base.py:985: ConvergenceWarning: Liblinear failed to converge, increase the number of iterations.\n",
      "  warnings.warn(\"Liblinear failed to converge, increase \"\n"
     ]
    }
   ],
   "source": [
    "svm_model = LinearSVC(class_weight='balanced',multi_class='crammer_singer',max_iter = -1).fit(x_train, y_train)"
   ]
  },
  {
   "cell_type": "code",
   "execution_count": 31,
   "id": "17bf9026",
   "metadata": {},
   "outputs": [],
   "source": [
    "svm_model_predict = svm_model.predict(x_test)\n",
    "svm_report = classification_report(y_test, svm_model_predict )"
   ]
  },
  {
   "cell_type": "code",
   "execution_count": 32,
   "id": "4dfd4e9f",
   "metadata": {},
   "outputs": [
    {
     "name": "stdout",
     "output_type": "stream",
     "text": [
      "              precision    recall  f1-score   support\n",
      "\n",
      "           0       0.88      0.96      0.91       556\n",
      "           1       0.95      0.85      0.90       640\n",
      "           2       0.96      0.99      0.98       601\n",
      "\n",
      "    accuracy                           0.93      1797\n",
      "   macro avg       0.93      0.93      0.93      1797\n",
      "weighted avg       0.93      0.93      0.93      1797\n",
      "\n"
     ]
    }
   ],
   "source": [
    "print(svm_report)"
   ]
  },
  {
   "cell_type": "markdown",
   "id": "27344ca4",
   "metadata": {},
   "source": [
    "**SGD Classifier**"
   ]
  },
  {
   "cell_type": "code",
   "execution_count": 33,
   "id": "560f6773",
   "metadata": {},
   "outputs": [],
   "source": [
    " svm_model_3 = SGDClassifier(n_jobs=-1,class_weight='balanced',penalty='l2').fit(x_train, y_train)"
   ]
  },
  {
   "cell_type": "code",
   "execution_count": 34,
   "id": "44d955ed",
   "metadata": {},
   "outputs": [],
   "source": [
    "svm_model_predict_3 = svm_model_3.predict(x_test)\n",
    "svm_report_3 = classification_report(y_test, svm_model_predict_3 )"
   ]
  },
  {
   "cell_type": "code",
   "execution_count": 35,
   "id": "e4c3d457",
   "metadata": {},
   "outputs": [
    {
     "name": "stdout",
     "output_type": "stream",
     "text": [
      "              precision    recall  f1-score   support\n",
      "\n",
      "           0       0.86      0.90      0.88       556\n",
      "           1       0.91      0.84      0.87       640\n",
      "           2       0.93      0.97      0.95       601\n",
      "\n",
      "    accuracy                           0.90      1797\n",
      "   macro avg       0.90      0.90      0.90      1797\n",
      "weighted avg       0.90      0.90      0.90      1797\n",
      "\n"
     ]
    }
   ],
   "source": [
    "print(svm_report_3)"
   ]
  },
  {
   "cell_type": "markdown",
   "id": "2bf0f73d",
   "metadata": {},
   "source": [
    "**Logistic Regression**"
   ]
  },
  {
   "cell_type": "code",
   "execution_count": 36,
   "id": "dbeeee92",
   "metadata": {},
   "outputs": [
    {
     "name": "stderr",
     "output_type": "stream",
     "text": [
      "[Parallel(n_jobs=-1)]: Using backend LokyBackend with 8 concurrent workers.\n",
      "[Parallel(n_jobs=-1)]: Done   1 out of   1 | elapsed:  8.9min finished\n"
     ]
    }
   ],
   "source": [
    "logistic_reg_model = LogisticRegression(n_jobs = -1, penalty='l2', multi_class='multinomial',class_weight = 'balanced',verbose=1).fit(x_train,y_train)"
   ]
  },
  {
   "cell_type": "code",
   "execution_count": 37,
   "id": "81f289b5",
   "metadata": {},
   "outputs": [],
   "source": [
    "lr_model_predict = logistic_reg_model.predict(x_test)\n",
    "lr_model_report = classification_report(y_test, lr_model_predict)"
   ]
  },
  {
   "cell_type": "code",
   "execution_count": 38,
   "id": "bc429487",
   "metadata": {},
   "outputs": [
    {
     "name": "stdout",
     "output_type": "stream",
     "text": [
      "              precision    recall  f1-score   support\n",
      "\n",
      "           0       0.88      0.94      0.91       556\n",
      "           1       0.94      0.85      0.90       640\n",
      "           2       0.95      0.98      0.96       601\n",
      "\n",
      "    accuracy                           0.92      1797\n",
      "   macro avg       0.92      0.93      0.92      1797\n",
      "weighted avg       0.92      0.92      0.92      1797\n",
      "\n"
     ]
    }
   ],
   "source": [
    "print(lr_model_report)"
   ]
  },
  {
   "cell_type": "markdown",
   "id": "81bd06b8",
   "metadata": {},
   "source": [
    "**Padding and Tokenization**"
   ]
  },
  {
   "cell_type": "code",
   "execution_count": 39,
   "id": "6499ce27",
   "metadata": {},
   "outputs": [],
   "source": [
    "from keras.preprocessing.text import Tokenizer\n",
    "from keras.preprocessing.sequence import pad_sequences"
   ]
  },
  {
   "cell_type": "code",
   "execution_count": 40,
   "id": "187df4b3",
   "metadata": {},
   "outputs": [
    {
     "name": "stdout",
     "output_type": "stream",
     "text": [
      "35929\n",
      "Mean is:  7.669013888502324\n",
      "Max is:  28\n",
      "Min is:  0\n"
     ]
    }
   ],
   "source": [
    "num_words = 8000\n",
    "embed_dim = 32\n",
    "tokenizer = Tokenizer(num_words=num_words,oov_token = \"<oov>\" )\n",
    "tokenizer.fit_on_texts(x)\n",
    "word_index=tokenizer.word_index\n",
    "sequences = tokenizer.texts_to_sequences(x)\n",
    "length=[]\n",
    "for i in sequences:\n",
    "    length.append(len(i))\n",
    "print(len(length))\n",
    "print(\"Mean is: \",np.mean(length))\n",
    "print(\"Max is: \",np.max(length))\n",
    "print(\"Min is: \",np.min(length))"
   ]
  },
  {
   "cell_type": "code",
   "execution_count": 41,
   "id": "5392ba82",
   "metadata": {},
   "outputs": [
    {
     "data": {
      "text/plain": [
       "(35929, 24)"
      ]
     },
     "execution_count": 41,
     "metadata": {},
     "output_type": "execute_result"
    }
   ],
   "source": [
    "pad_length = 24\n",
    "sequences = pad_sequences(sequences, maxlen = pad_length, truncating = 'pre', padding = 'post')\n",
    "sequences.shape"
   ]
  },
  {
   "cell_type": "code",
   "execution_count": 42,
   "id": "dfd18484",
   "metadata": {},
   "outputs": [
    {
     "name": "stdout",
     "output_type": "stream",
     "text": [
      "(34132, 24)\n",
      "(1797, 24)\n",
      "(34132,)\n",
      "(1797,)\n"
     ]
    }
   ],
   "source": [
    "x_train,x_test,y_train,y_test = tts(sequences,y,test_size = 0.05)\n",
    "print(x_train.shape)\n",
    "print(x_test.shape)\n",
    "print(y_train.shape)\n",
    "print(y_test.shape)"
   ]
  },
  {
   "cell_type": "markdown",
   "id": "bb2719f2",
   "metadata": {},
   "source": [
    "**Training Model on Embeddings**"
   ]
  },
  {
   "cell_type": "code",
   "execution_count": 43,
   "id": "e94b21c5",
   "metadata": {},
   "outputs": [],
   "source": [
    "from keras.layers import Dense, Embedding, Dropout , Activation, Flatten, SimpleRNN\n",
    "from keras.layers import GlobalMaxPool1D\n",
    "from keras.models import Model, Sequential\n",
    "import tensorflow as tf"
   ]
  },
  {
   "cell_type": "code",
   "execution_count": 50,
   "id": "7aaab480",
   "metadata": {},
   "outputs": [
    {
     "name": "stdout",
     "output_type": "stream",
     "text": [
      "Model: \"sequential_5\"\n",
      "_________________________________________________________________\n",
      " Layer (type)                Output Shape              Param #   \n",
      "=================================================================\n",
      " embedding_5 (Embedding)     (None, 24, 32)            256000    \n",
      "                                                                 \n",
      " simple_rnn_5 (SimpleRNN)    (None, 24, 8)             328       \n",
      "                                                                 \n",
      " global_max_pooling1d_5 (Glo  (None, 8)                0         \n",
      " balMaxPooling1D)                                                \n",
      "                                                                 \n",
      " dense_10 (Dense)            (None, 20)                180       \n",
      "                                                                 \n",
      " dropout_5 (Dropout)         (None, 20)                0         \n",
      "                                                                 \n",
      " dense_11 (Dense)            (None, 3)                 63        \n",
      "                                                                 \n",
      "=================================================================\n",
      "Total params: 256,571\n",
      "Trainable params: 256,571\n",
      "Non-trainable params: 0\n",
      "_________________________________________________________________\n"
     ]
    }
   ],
   "source": [
    "recall = tf.keras.metrics.Recall()\n",
    "precision = tf.keras.metrics.Precision()\n",
    "\n",
    "model_5 = Sequential([Embedding(num_words, embed_dim, input_length = pad_length),\n",
    "                   SimpleRNN(8, return_sequences = True),\n",
    "                   GlobalMaxPool1D(),\n",
    "                   Dense(20,activation = 'relu',kernel_initializer='he_uniform'),\n",
    "                   Dropout(0.25),\n",
    "                   Dense(3,activation = 'softmax')])\n",
    "model_5.compile(loss='sparse_categorical_crossentropy', optimizer='adam', metrics=['accuracy'])\n",
    "model_5.summary()"
   ]
  },
  {
   "cell_type": "code",
   "execution_count": 51,
   "id": "393a6500",
   "metadata": {},
   "outputs": [
    {
     "name": "stdout",
     "output_type": "stream",
     "text": [
      "Epoch 1/5\n",
      "1014/1014 [==============================] - 14s 12ms/step - loss: 0.4566 - accuracy: 0.8266 - val_loss: 0.2272 - val_accuracy: 0.9227\n",
      "Epoch 2/5\n",
      "1014/1014 [==============================] - 11s 11ms/step - loss: 0.1903 - accuracy: 0.9431 - val_loss: 0.1746 - val_accuracy: 0.9397\n",
      "Epoch 3/5\n",
      "1014/1014 [==============================] - 11s 11ms/step - loss: 0.1286 - accuracy: 0.9615 - val_loss: 0.1453 - val_accuracy: 0.9537\n",
      "Epoch 4/5\n",
      "1014/1014 [==============================] - 11s 11ms/step - loss: 0.0932 - accuracy: 0.9726 - val_loss: 0.1319 - val_accuracy: 0.9590\n",
      "Epoch 5/5\n",
      "1014/1014 [==============================] - 11s 11ms/step - loss: 0.0743 - accuracy: 0.9788 - val_loss: 0.1241 - val_accuracy: 0.9596\n"
     ]
    }
   ],
   "source": [
    "history = model_5.fit(x = x_train, y = y_train, epochs = 5,validation_split = 0.05)"
   ]
  },
  {
   "cell_type": "code",
   "execution_count": 52,
   "id": "26873afb",
   "metadata": {},
   "outputs": [],
   "source": [
    "train_acc = history.history['accuracy']\n",
    "valid_acc = history.history['val_accuracy']\n",
    "train_loss = history.history['loss']\n",
    "val_loss = history.history['val_loss']"
   ]
  },
  {
   "cell_type": "markdown",
   "id": "9ad9c9b2",
   "metadata": {},
   "source": [
    "**Graph and Metrics**"
   ]
  },
  {
   "cell_type": "code",
   "execution_count": 53,
   "id": "8aa89ee9",
   "metadata": {},
   "outputs": [],
   "source": [
    "import matplotlib\n",
    "from matplotlib import pyplot as plt"
   ]
  },
  {
   "cell_type": "code",
   "execution_count": 54,
   "id": "9eba4325",
   "metadata": {},
   "outputs": [
    {
     "data": {
      "text/plain": [
       "<matplotlib.legend.Legend at 0x20c76b130a0>"
      ]
     },
     "execution_count": 54,
     "metadata": {},
     "output_type": "execute_result"
    },
    {
     "data": {
      "image/png": "[encoded data removed]",
      "text/plain": [
       "<Figure size 720x720 with 2 Axes>"
      ]
     },
     "metadata": {
      "needs_background": "light"
     },
     "output_type": "display_data"
    }
   ],
   "source": [
    "fig=plt.figure(figsize=(10,10))\n",
    "fig.add_subplot(2, 1, 1)\n",
    "plt.title('Loss')\n",
    "plt.grid()\n",
    "plt.plot(train_loss, color='blue', label='Train')\n",
    "plt.plot(val_loss, color='red', label='Validation')\n",
    "plt.legend()\n",
    "# plot accuracy\n",
    "fig.add_subplot(2, 1, 2)\n",
    "plt.title('Classification Accuracy')\n",
    "plt.grid()\n",
    "plt.plot(train_acc, color='blue', label='Train')\n",
    "plt.plot(valid_acc, color='red', label='Validation')\n",
    "plt.legend()"
   ]
  },
  {
   "cell_type": "code",
   "execution_count": 55,
   "id": "c4ddbf09",
   "metadata": {},
   "outputs": [
    {
     "name": "stdout",
     "output_type": "stream",
     "text": [
      "57/57 [==============================] - 0s 5ms/step - loss: 0.1264 - accuracy: 0.9644\n"
     ]
    }
   ],
   "source": [
    "evaluate = model_5.evaluate(x_test,y_test)"
   ]
  },
  {
   "cell_type": "code",
   "execution_count": 56,
   "id": "5942c18b",
   "metadata": {},
   "outputs": [
    {
     "name": "stdout",
     "output_type": "stream",
     "text": [
      "Test Acuracy is : 96.44 %\n",
      "Test Loss is : 0.1264\n"
     ]
    }
   ],
   "source": [
    "print(\"Test Acuracy is : {:.2f} %\".format(evaluate[1]*100))\n",
    "print(\"Test Loss is : {:.4f}\".format(evaluate[0]))"
   ]
  },
  {
   "cell_type": "code",
   "execution_count": 58,
   "id": "678a955e",
   "metadata": {},
   "outputs": [],
   "source": [
    "predictions = model_5.predict(x_test)"
   ]
  },
  {
   "cell_type": "code",
   "execution_count": 59,
   "id": "06083a5b",
   "metadata": {},
   "outputs": [],
   "source": [
    "predict = []\n",
    "for i in predictions:\n",
    "    predict.append(np.argmax(i))"
   ]
  },
  {
   "cell_type": "code",
   "execution_count": 60,
   "id": "530c0795",
   "metadata": {},
   "outputs": [
    {
     "name": "stdout",
     "output_type": "stream",
     "text": [
      "The Confusion matrix is: \n",
      " [[561  30   0]\n",
      " [  5 554   6]\n",
      " [  2  21 618]]\n"
     ]
    }
   ],
   "source": [
    "cm = confusion_matrix(predict,y_test)\n",
    "acc = accuracy_score(predict,y_test)\n",
    "print(\"The Confusion matrix is: \\n\",cm)"
   ]
  },
  {
   "cell_type": "code",
   "execution_count": 61,
   "id": "b1cd4dff",
   "metadata": {},
   "outputs": [
    {
     "name": "stdout",
     "output_type": "stream",
     "text": [
      "96.43850862548692\n"
     ]
    }
   ],
   "source": [
    "print(acc*100)"
   ]
  },
  {
   "cell_type": "code",
   "execution_count": 62,
   "id": "486ca5ca",
   "metadata": {},
   "outputs": [],
   "source": [
    "from sklearn import metrics"
   ]
  },
  {
   "cell_type": "code",
   "execution_count": 64,
   "id": "a8336b12",
   "metadata": {},
   "outputs": [
    {
     "name": "stdout",
     "output_type": "stream",
     "text": [
      "              precision    recall  f1-score   support\n",
      "\n",
      "           0       0.95      0.99      0.97       568\n",
      "           1       0.98      0.92      0.95       605\n",
      "           2       0.96      0.99      0.98       624\n",
      "\n",
      "    accuracy                           0.96      1797\n",
      "   macro avg       0.96      0.96      0.96      1797\n",
      "weighted avg       0.96      0.96      0.96      1797\n",
      "\n"
     ]
    }
   ],
   "source": [
    "print(metrics.classification_report(y_test, predict))"
   ]
  }
 ],
 "metadata": {
  "kernelspec": {
   "display_name": "Python 3",
   "language": "python",
   "name": "python3"
  },
  "language_info": {
   "codemirror_mode": {
    "name": "ipython",
    "version": 3
   },
   "file_extension": ".py",
   "mimetype": "text/x-python",
   "name": "python",
   "nbconvert_exporter": "python",
   "pygments_lexer": "ipython3",
   "version": "3.8.8"
  }
 },
 "nbformat": 4,
 "nbformat_minor": 5
}
