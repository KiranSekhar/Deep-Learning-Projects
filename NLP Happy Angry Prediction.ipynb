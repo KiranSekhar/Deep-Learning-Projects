{
 "cells": [
  {
   "cell_type": "code",
   "execution_count": 1,
   "id": "micro-disposition",
   "metadata": {},
   "outputs": [],
   "source": [
    "import pandas as panda\n",
    "import numpy as np\n",
    "import string\n",
    "\n",
    "import nltk\n",
    "from nltk.tokenize import word_tokenize\n",
    "from nltk.corpus import stopwords\n",
    "from nltk.stem.porter import *\n",
    "from nltk.tokenize.treebank import TreebankWordDetokenizer\n",
    "from nltk.stem import WordNetLemmatizer\n",
    "\n",
    "from keras.preprocessing.text import Tokenizer\n",
    "from keras.preprocessing.sequence import pad_sequences\n",
    "from keras import regularizers\n",
    "from keras import backend as K\n",
    "from keras.callbacks import ModelCheckpoint\n",
    "\n",
    "from sklearn.preprocessing import OneHotEncoder\n",
    "from sklearn.feature_extraction.text import CountVectorizer\n",
    "from sklearn.feature_extraction.text import TfidfVectorizer\n",
    "from sklearn.model_selection import train_test_split\n",
    "\n",
    "from keras.models import Sequential\n",
    "from keras import layers\n",
    "from keras.optimizers import RMSprop,Adam\n",
    "\n",
    "from sklearn.metrics import confusion_matrix\n",
    "import seaborn as sns\n",
    "import matplotlib.pyplot as plt"
   ]
  },
  {
   "cell_type": "code",
   "execution_count": 2,
   "id": "moral-puppy",
   "metadata": {},
   "outputs": [
    {
     "data": {
      "text/html": [
       "<div>\n",
       "<style scoped>\n",
       "    .dataframe tbody tr th:only-of-type {\n",
       "        vertical-align: middle;\n",
       "    }\n",
       "\n",
       "    .dataframe tbody tr th {\n",
       "        vertical-align: top;\n",
       "    }\n",
       "\n",
       "    .dataframe thead th {\n",
       "        text-align: right;\n",
       "    }\n",
       "</style>\n",
       "<table border=\"1\" class=\"dataframe\">\n",
       "  <thead>\n",
       "    <tr style=\"text-align: right;\">\n",
       "      <th></th>\n",
       "      <th>Unnamed: 0</th>\n",
       "      <th>count</th>\n",
       "      <th>angry</th>\n",
       "      <th>happy</th>\n",
       "      <th>neither</th>\n",
       "      <th>class</th>\n",
       "      <th>tweet</th>\n",
       "    </tr>\n",
       "  </thead>\n",
       "  <tbody>\n",
       "    <tr>\n",
       "      <th>0</th>\n",
       "      <td>1</td>\n",
       "      <td>3</td>\n",
       "      <td>0</td>\n",
       "      <td>3</td>\n",
       "      <td>0</td>\n",
       "      <td>1</td>\n",
       "      <td>\" Keeks is a bitch she curves everyone \" lol I...</td>\n",
       "    </tr>\n",
       "    <tr>\n",
       "      <th>1</th>\n",
       "      <td>2</td>\n",
       "      <td>3</td>\n",
       "      <td>0</td>\n",
       "      <td>3</td>\n",
       "      <td>0</td>\n",
       "      <td>1</td>\n",
       "      <td>\" Murda Gang bitch its Gang Land \"</td>\n",
       "    </tr>\n",
       "    <tr>\n",
       "      <th>2</th>\n",
       "      <td>3</td>\n",
       "      <td>3</td>\n",
       "      <td>0</td>\n",
       "      <td>2</td>\n",
       "      <td>1</td>\n",
       "      <td>1</td>\n",
       "      <td>\" So hoes that smoke are losers ? \" yea ... go...</td>\n",
       "    </tr>\n",
       "    <tr>\n",
       "      <th>3</th>\n",
       "      <td>4</td>\n",
       "      <td>3</td>\n",
       "      <td>0</td>\n",
       "      <td>3</td>\n",
       "      <td>0</td>\n",
       "      <td>1</td>\n",
       "      <td>\" bad bitches is the only thing that i like \"</td>\n",
       "    </tr>\n",
       "    <tr>\n",
       "      <th>4</th>\n",
       "      <td>5</td>\n",
       "      <td>3</td>\n",
       "      <td>1</td>\n",
       "      <td>2</td>\n",
       "      <td>0</td>\n",
       "      <td>1</td>\n",
       "      <td>\" bitch get up off me \"</td>\n",
       "    </tr>\n",
       "    <tr>\n",
       "      <th>...</th>\n",
       "      <td>...</td>\n",
       "      <td>...</td>\n",
       "      <td>...</td>\n",
       "      <td>...</td>\n",
       "      <td>...</td>\n",
       "      <td>...</td>\n",
       "      <td>...</td>\n",
       "    </tr>\n",
       "    <tr>\n",
       "      <th>24768</th>\n",
       "      <td>25291</td>\n",
       "      <td>3</td>\n",
       "      <td>0</td>\n",
       "      <td>2</td>\n",
       "      <td>1</td>\n",
       "      <td>1</td>\n",
       "      <td>you's a muthaf***in lie &amp;#8220;@LifeAsKing: @2...</td>\n",
       "    </tr>\n",
       "    <tr>\n",
       "      <th>24769</th>\n",
       "      <td>25292</td>\n",
       "      <td>3</td>\n",
       "      <td>0</td>\n",
       "      <td>1</td>\n",
       "      <td>2</td>\n",
       "      <td>2</td>\n",
       "      <td>you've gone and broke the wrong heart baby, an...</td>\n",
       "    </tr>\n",
       "    <tr>\n",
       "      <th>24770</th>\n",
       "      <td>25294</td>\n",
       "      <td>3</td>\n",
       "      <td>0</td>\n",
       "      <td>3</td>\n",
       "      <td>0</td>\n",
       "      <td>1</td>\n",
       "      <td>young buck wanna eat!!.. dat nigguh like I ain...</td>\n",
       "    </tr>\n",
       "    <tr>\n",
       "      <th>24771</th>\n",
       "      <td>25295</td>\n",
       "      <td>6</td>\n",
       "      <td>0</td>\n",
       "      <td>6</td>\n",
       "      <td>0</td>\n",
       "      <td>1</td>\n",
       "      <td>youu got wild bitches tellin you lies</td>\n",
       "    </tr>\n",
       "    <tr>\n",
       "      <th>24772</th>\n",
       "      <td>25296</td>\n",
       "      <td>3</td>\n",
       "      <td>0</td>\n",
       "      <td>0</td>\n",
       "      <td>3</td>\n",
       "      <td>2</td>\n",
       "      <td>~~Ruffled | Ntac Eileen Dahlia - Beautiful col...</td>\n",
       "    </tr>\n",
       "  </tbody>\n",
       "</table>\n",
       "<p>24773 rows × 7 columns</p>\n",
       "</div>"
      ],
      "text/plain": [
       "       Unnamed: 0  count  angry  happy  neither  class  \\\n",
       "0               1      3      0      3        0      1   \n",
       "1               2      3      0      3        0      1   \n",
       "2               3      3      0      2        1      1   \n",
       "3               4      3      0      3        0      1   \n",
       "4               5      3      1      2        0      1   \n",
       "...           ...    ...    ...    ...      ...    ...   \n",
       "24768       25291      3      0      2        1      1   \n",
       "24769       25292      3      0      1        2      2   \n",
       "24770       25294      3      0      3        0      1   \n",
       "24771       25295      6      0      6        0      1   \n",
       "24772       25296      3      0      0        3      2   \n",
       "\n",
       "                                                   tweet  \n",
       "0      \" Keeks is a bitch she curves everyone \" lol I...  \n",
       "1                     \" Murda Gang bitch its Gang Land \"  \n",
       "2      \" So hoes that smoke are losers ? \" yea ... go...  \n",
       "3          \" bad bitches is the only thing that i like \"  \n",
       "4                                \" bitch get up off me \"  \n",
       "...                                                  ...  \n",
       "24768  you's a muthaf***in lie &#8220;@LifeAsKing: @2...  \n",
       "24769  you've gone and broke the wrong heart baby, an...  \n",
       "24770  young buck wanna eat!!.. dat nigguh like I ain...  \n",
       "24771              youu got wild bitches tellin you lies  \n",
       "24772  ~~Ruffled | Ntac Eileen Dahlia - Beautiful col...  \n",
       "\n",
       "[24773 rows x 7 columns]"
      ]
     },
     "execution_count": 2,
     "metadata": {},
     "output_type": "execute_result"
    }
   ],
   "source": [
    "data = panda.read_csv(\"labeled_data.csv\")\n",
    "data"
   ]
  },
  {
   "cell_type": "code",
   "execution_count": 3,
   "id": "stainless-dietary",
   "metadata": {},
   "outputs": [
    {
     "name": "stdout",
     "output_type": "stream",
     "text": [
      "<class 'pandas.core.frame.DataFrame'>\n",
      "RangeIndex: 24773 entries, 0 to 24772\n",
      "Data columns (total 7 columns):\n",
      " #   Column      Non-Null Count  Dtype \n",
      "---  ------      --------------  ----- \n",
      " 0   Unnamed: 0  24773 non-null  int64 \n",
      " 1   count       24773 non-null  int64 \n",
      " 2   angry       24773 non-null  int64 \n",
      " 3   happy       24773 non-null  int64 \n",
      " 4   neither     24773 non-null  int64 \n",
      " 5   class       24773 non-null  int64 \n",
      " 6   tweet       24773 non-null  object\n",
      "dtypes: int64(6), object(1)\n",
      "memory usage: 1.3+ MB\n"
     ]
    }
   ],
   "source": [
    "data.info()"
   ]
  },
  {
   "cell_type": "code",
   "execution_count": 4,
   "id": "continent-blend",
   "metadata": {},
   "outputs": [
    {
     "data": {
      "text/plain": [
       "<AxesSubplot:>"
      ]
     },
     "execution_count": 4,
     "metadata": {},
     "output_type": "execute_result"
    },
    {
     "data": {
      "image/png": "[encoded data removed]",
      "text/plain": [
       "<Figure size 432x288 with 1 Axes>"
      ]
     },
     "metadata": {
      "needs_background": "light"
     },
     "output_type": "display_data"
    }
   ],
   "source": [
    "data['class'].hist()"
   ]
  },
  {
   "cell_type": "code",
   "execution_count": 5,
   "id": "charitable-shoulder",
   "metadata": {},
   "outputs": [],
   "source": [
    "tweet=data.tweet"
   ]
  },
  {
   "cell_type": "code",
   "execution_count": 6,
   "id": "elegant-excellence",
   "metadata": {},
   "outputs": [],
   "source": [
    "def remove_space(tweet):  \n",
    "    \n",
    "    \n",
    "    regex_pat = re.compile(r'\\s+')\n",
    "    tweet_space = tweet.str.replace(regex_pat, ' ')    \n",
    "    newtweet=tweet.str.replace(r'\\s+', ' ')    \n",
    "    newtweet=newtweet.str.replace(r'^\\s+|\\s+?$','')   \n",
    "    newtweet=newtweet.str.replace(r'\\d+(\\.\\d+)?','numbr')\n",
    "    tweet_lower = newtweet.str.lower()\n",
    "    \n",
    "    return tweet_lower"
   ]
  },
  {
   "cell_type": "code",
   "execution_count": 7,
   "id": "valid-vault",
   "metadata": {},
   "outputs": [
    {
     "name": "stderr",
     "output_type": "stream",
     "text": [
      "<ipython-input-6-5f5475067ae5>:6: FutureWarning: The default value of regex will change from True to False in a future version.\n",
      "  newtweet=tweet.str.replace(r'\\s+', ' ')\n",
      "<ipython-input-6-5f5475067ae5>:7: FutureWarning: The default value of regex will change from True to False in a future version.\n",
      "  newtweet=newtweet.str.replace(r'^\\s+|\\s+?$','')\n",
      "<ipython-input-6-5f5475067ae5>:8: FutureWarning: The default value of regex will change from True to False in a future version.\n",
      "  newtweet=newtweet.str.replace(r'\\d+(\\.\\d+)?','numbr')\n"
     ]
    },
    {
     "data": {
      "text/html": [
       "<div>\n",
       "<style scoped>\n",
       "    .dataframe tbody tr th:only-of-type {\n",
       "        vertical-align: middle;\n",
       "    }\n",
       "\n",
       "    .dataframe tbody tr th {\n",
       "        vertical-align: top;\n",
       "    }\n",
       "\n",
       "    .dataframe thead th {\n",
       "        text-align: right;\n",
       "    }\n",
       "</style>\n",
       "<table border=\"1\" class=\"dataframe\">\n",
       "  <thead>\n",
       "    <tr style=\"text-align: right;\">\n",
       "      <th></th>\n",
       "      <th>Unnamed: 0</th>\n",
       "      <th>count</th>\n",
       "      <th>angry</th>\n",
       "      <th>happy</th>\n",
       "      <th>neither</th>\n",
       "      <th>class</th>\n",
       "      <th>tweet</th>\n",
       "      <th>tweets_w/o_space</th>\n",
       "    </tr>\n",
       "  </thead>\n",
       "  <tbody>\n",
       "    <tr>\n",
       "      <th>0</th>\n",
       "      <td>1</td>\n",
       "      <td>3</td>\n",
       "      <td>0</td>\n",
       "      <td>3</td>\n",
       "      <td>0</td>\n",
       "      <td>1</td>\n",
       "      <td>\" Keeks is a bitch she curves everyone \" lol I...</td>\n",
       "      <td>\" keeks is a bitch she curves everyone \" lol i...</td>\n",
       "    </tr>\n",
       "    <tr>\n",
       "      <th>1</th>\n",
       "      <td>2</td>\n",
       "      <td>3</td>\n",
       "      <td>0</td>\n",
       "      <td>3</td>\n",
       "      <td>0</td>\n",
       "      <td>1</td>\n",
       "      <td>\" Murda Gang bitch its Gang Land \"</td>\n",
       "      <td>\" murda gang bitch its gang land \"</td>\n",
       "    </tr>\n",
       "    <tr>\n",
       "      <th>2</th>\n",
       "      <td>3</td>\n",
       "      <td>3</td>\n",
       "      <td>0</td>\n",
       "      <td>2</td>\n",
       "      <td>1</td>\n",
       "      <td>1</td>\n",
       "      <td>\" So hoes that smoke are losers ? \" yea ... go...</td>\n",
       "      <td>\" so hoes that smoke are losers ? \" yea ... go...</td>\n",
       "    </tr>\n",
       "    <tr>\n",
       "      <th>3</th>\n",
       "      <td>4</td>\n",
       "      <td>3</td>\n",
       "      <td>0</td>\n",
       "      <td>3</td>\n",
       "      <td>0</td>\n",
       "      <td>1</td>\n",
       "      <td>\" bad bitches is the only thing that i like \"</td>\n",
       "      <td>\" bad bitches is the only thing that i like \"</td>\n",
       "    </tr>\n",
       "    <tr>\n",
       "      <th>4</th>\n",
       "      <td>5</td>\n",
       "      <td>3</td>\n",
       "      <td>1</td>\n",
       "      <td>2</td>\n",
       "      <td>0</td>\n",
       "      <td>1</td>\n",
       "      <td>\" bitch get up off me \"</td>\n",
       "      <td>\" bitch get up off me \"</td>\n",
       "    </tr>\n",
       "  </tbody>\n",
       "</table>\n",
       "</div>"
      ],
      "text/plain": [
       "   Unnamed: 0  count  angry  happy  neither  class  \\\n",
       "0           1      3      0      3        0      1   \n",
       "1           2      3      0      3        0      1   \n",
       "2           3      3      0      2        1      1   \n",
       "3           4      3      0      3        0      1   \n",
       "4           5      3      1      2        0      1   \n",
       "\n",
       "                                               tweet  \\\n",
       "0  \" Keeks is a bitch she curves everyone \" lol I...   \n",
       "1                 \" Murda Gang bitch its Gang Land \"   \n",
       "2  \" So hoes that smoke are losers ? \" yea ... go...   \n",
       "3      \" bad bitches is the only thing that i like \"   \n",
       "4                            \" bitch get up off me \"   \n",
       "\n",
       "                                    tweets_w/o_space  \n",
       "0  \" keeks is a bitch she curves everyone \" lol i...  \n",
       "1                 \" murda gang bitch its gang land \"  \n",
       "2  \" so hoes that smoke are losers ? \" yea ... go...  \n",
       "3      \" bad bitches is the only thing that i like \"  \n",
       "4                            \" bitch get up off me \"  "
      ]
     },
     "execution_count": 7,
     "metadata": {},
     "output_type": "execute_result"
    }
   ],
   "source": [
    "tweets_space= remove_space(tweet)\n",
    "data[\"tweets_w/o_space\"]=tweets_space\n",
    "data.head()"
   ]
  },
  {
   "cell_type": "code",
   "execution_count": 8,
   "id": "broke-panel",
   "metadata": {},
   "outputs": [],
   "source": [
    "def remove_urls(tweet):\n",
    "    url_pattern = re.compile(r'https?://\\S+|www\\.\\S+')\n",
    "    return url_pattern.sub(r'', tweet)\n",
    "\n",
    "data[\"tweet_w/o_url\"] = data[\"tweets_w/o_space\"].apply(lambda tweet: remove_urls(tweet))"
   ]
  },
  {
   "cell_type": "code",
   "execution_count": 9,
   "id": "unusual-appendix",
   "metadata": {},
   "outputs": [
    {
     "name": "stderr",
     "output_type": "stream",
     "text": [
      "[nltk_data] Downloading package wordnet to\n",
      "[nltk_data]     C:\\Users\\Admin\\AppData\\Roaming\\nltk_data...\n",
      "[nltk_data]   Unzipping corpora\\wordnet.zip.\n"
     ]
    },
    {
     "data": {
      "text/plain": [
       "True"
      ]
     },
     "execution_count": 9,
     "metadata": {},
     "output_type": "execute_result"
    }
   ],
   "source": [
    "import nltk\n",
    "nltk.download('wordnet')"
   ]
  },
  {
   "cell_type": "code",
   "execution_count": 10,
   "id": "coupled-wright",
   "metadata": {},
   "outputs": [],
   "source": [
    "from nltk.stem import WordNetLemmatizer\n",
    "\n",
    "data['tweet_lem'] = [''.join([WordNetLemmatizer().lemmatize(re.sub('[^A-Za-z]',' ',tweet)) for tweet in lis]) \n",
    "                     for lis in data['tweet_w/o_url']]"
   ]
  },
  {
   "cell_type": "code",
   "execution_count": 11,
   "id": "flexible-resolution",
   "metadata": {},
   "outputs": [],
   "source": [
    "data[\"tokenized_tweet\"] = data[\"tweet_lem\"].apply(lambda x: x.split())"
   ]
  },
  {
   "cell_type": "code",
   "execution_count": 12,
   "id": "traditional-things",
   "metadata": {},
   "outputs": [
    {
     "name": "stderr",
     "output_type": "stream",
     "text": [
      "[nltk_data] Downloading package stopwords to\n",
      "[nltk_data]     C:\\Users\\Admin\\AppData\\Roaming\\nltk_data...\n",
      "[nltk_data]   Unzipping corpora\\stopwords.zip.\n"
     ]
    },
    {
     "data": {
      "text/plain": [
       "True"
      ]
     },
     "execution_count": 12,
     "metadata": {},
     "output_type": "execute_result"
    }
   ],
   "source": [
    "import nltk\n",
    "nltk.download('stopwords')"
   ]
  },
  {
   "cell_type": "code",
   "execution_count": 13,
   "id": "boolean-algebra",
   "metadata": {},
   "outputs": [],
   "source": [
    "stopwords = nltk.corpus.stopwords.words(\"english\")\n",
    "other_exclusions = [\"#ff\", \"ff\", \"rt\"]\n",
    "stopwords.extend(other_exclusions)\n",
    "stemmer = PorterStemmer()"
   ]
  },
  {
   "cell_type": "code",
   "execution_count": 15,
   "id": "abroad-worth",
   "metadata": {},
   "outputs": [],
   "source": [
    "data[\"tweet_w/o_stop\"] = data[\"tokenized_tweet\"].apply(lambda x: [item for item in x if item not in stopwords])"
   ]
  },
  {
   "cell_type": "code",
   "execution_count": 16,
   "id": "narrow-religious",
   "metadata": {},
   "outputs": [],
   "source": [
    "processed_tweet = data[\"tweet_w/o_stop\"].apply(lambda x: [stemmer.stem(i) for i in x]) \n",
    "    "
   ]
  },
  {
   "cell_type": "code",
   "execution_count": 17,
   "id": "developmental-nickel",
   "metadata": {},
   "outputs": [],
   "source": [
    " for i in range(len(processed_tweet)):\n",
    "        processed_tweet[i] = ' '.join(processed_tweet[i])\n",
    "        tweets_p= processed_tweet"
   ]
  },
  {
   "cell_type": "code",
   "execution_count": 18,
   "id": "desperate-trader",
   "metadata": {},
   "outputs": [],
   "source": [
    "data['processed_tweet'] = tweets_p"
   ]
  },
  {
   "cell_type": "code",
   "execution_count": 19,
   "id": "foreign-german",
   "metadata": {},
   "outputs": [
    {
     "data": {
      "text/plain": [
       "0        \" Keeks is a bitch she curves everyone \" lol I...\n",
       "1                       \" Murda Gang bitch its Gang Land \"\n",
       "2        \" So hoes that smoke are losers ? \" yea ... go...\n",
       "3            \" bad bitches is the only thing that i like \"\n",
       "4                                  \" bitch get up off me \"\n",
       "                               ...                        \n",
       "24768    you's a muthaf***in lie &#8220;@LifeAsKing: @2...\n",
       "24769    you've gone and broke the wrong heart baby, an...\n",
       "24770    young buck wanna eat!!.. dat nigguh like I ain...\n",
       "24771                youu got wild bitches tellin you lies\n",
       "24772    ~~Ruffled | Ntac Eileen Dahlia - Beautiful col...\n",
       "Name: tweet, Length: 24773, dtype: object"
      ]
     },
     "execution_count": 19,
     "metadata": {},
     "output_type": "execute_result"
    }
   ],
   "source": [
    "data.tweet"
   ]
  },
  {
   "cell_type": "code",
   "execution_count": 20,
   "id": "crucial-madonna",
   "metadata": {},
   "outputs": [
    {
     "data": {
      "text/plain": [
       "0        keek bitch curv everyon lol walk convers like smh\n",
       "1                               murda gang bitch gang land\n",
       "2                                hoe smoke loser yea go ig\n",
       "3                                     bad bitch thing like\n",
       "4                                                bitch get\n",
       "                               ...                        \n",
       "24768    muthaf lie numbr lifeask numbr pearl corey ema...\n",
       "24769      gone broke wrong heart babi drove redneck crazi\n",
       "24770    young buck wanna eat dat nigguh like aint fuck...\n",
       "24771                       youu got wild bitch tellin lie\n",
       "24772    ruffl ntac eileen dahlia beauti color combin p...\n",
       "Name: processed_tweet, Length: 24773, dtype: object"
      ]
     },
     "execution_count": 20,
     "metadata": {},
     "output_type": "execute_result"
    }
   ],
   "source": [
    "data.processed_tweet"
   ]
  },
  {
   "cell_type": "code",
   "execution_count": 21,
   "id": "d15058e8",
   "metadata": {},
   "outputs": [],
   "source": [
    "tweetstop = data['tweet_w/o_stop'] "
   ]
  },
  {
   "cell_type": "code",
   "execution_count": 22,
   "id": "44947b3e",
   "metadata": {},
   "outputs": [],
   "source": [
    "labels = data['class']"
   ]
  },
  {
   "cell_type": "code",
   "execution_count": 23,
   "id": "d6e95c42",
   "metadata": {},
   "outputs": [],
   "source": [
    "from sklearn.preprocessing import OneHotEncoder\n",
    "\n",
    "encoder = OneHotEncoder(sparse=False)\n",
    "\n",
    "labels = encoder.fit_transform(np.array(labels).reshape(-1, 1))"
   ]
  },
  {
   "cell_type": "code",
   "execution_count": 24,
   "id": "4514c3a5",
   "metadata": {},
   "outputs": [],
   "source": [
    "from nltk.tokenize.treebank import TreebankWordDetokenizer\n",
    "def detokenize(text):\n",
    "    return TreebankWordDetokenizer().detokenize(text)"
   ]
  },
  {
   "cell_type": "code",
   "execution_count": 25,
   "id": "9c43ff27",
   "metadata": {},
   "outputs": [
    {
     "name": "stdout",
     "output_type": "stream",
     "text": [
      "['keeks bitch curves everyone lol walked conversation like smh', 'murda gang bitch gang land', 'hoes smoke losers yea go ig', 'bad bitches thing like', 'bitch get']\n"
     ]
    }
   ],
   "source": [
    "data1 = []\n",
    "\n",
    "for i in range(len(tweetstop)):\n",
    "    data1.append(detokenize(tweetstop[i]))\n",
    "print(data1[:5])"
   ]
  },
  {
   "cell_type": "code",
   "execution_count": 26,
   "id": "d1a27356",
   "metadata": {},
   "outputs": [],
   "source": [
    "data1 = np.array(data1)"
   ]
  },
  {
   "cell_type": "code",
   "execution_count": 27,
   "id": "681675ae",
   "metadata": {},
   "outputs": [
    {
     "name": "stdout",
     "output_type": "stream",
     "text": [
      "[[   0    0    0 ... 1842    4  128]\n",
      " [   0    0    0 ...    2 1117 1843]\n",
      " [   0    0    0 ...  315   22  693]\n",
      " ...\n",
      " [   0    0    0 ...   96   95  246]\n",
      " [   0    0    0 ...    3 1826 1245]\n",
      " [   0    0    0 ...   94   17   48]]\n"
     ]
    }
   ],
   "source": [
    "max_words = 5000\n",
    "max_len = 200\n",
    "\n",
    "tokenizer = Tokenizer(num_words=max_words)\n",
    "tokenizer.fit_on_texts(data1)\n",
    "sequences = tokenizer.texts_to_sequences(data1)\n",
    "tweets_in = pad_sequences(sequences, maxlen=max_len)\n",
    "print(tweets_in)"
   ]
  },
  {
   "cell_type": "code",
   "execution_count": 28,
   "id": "fceb8430",
   "metadata": {},
   "outputs": [
    {
     "name": "stdout",
     "output_type": "stream",
     "text": [
      "18579 6194 18579 6194\n"
     ]
    }
   ],
   "source": [
    "from sklearn.model_selection import train_test_split\n",
    "X_train, X_test, y_train, y_test = train_test_split(tweets_in,labels, random_state=0)\n",
    "print (len(X_train),len(X_test),len(y_train),len(y_test))"
   ]
  },
  {
   "cell_type": "code",
   "execution_count": 29,
   "id": "675f383e",
   "metadata": {},
   "outputs": [],
   "source": [
    "model = Sequential()\n",
    "\n",
    "model.add(layers.Embedding(max_words, 20))\n",
    "\n",
    "model.add(layers.LSTM(15,dropout=0.5))\n",
    "\n",
    "model.add(layers.Flatten())\n",
    "model.add(layers.Dropout(0.25))\n",
    "\n",
    "model.add(layers.Dense(512,activation='relu'))\n",
    "model.add(layers.Dense(3,activation='softmax'))\n",
    "\n",
    "model.compile(optimizer='adam',loss='categorical_crossentropy', metrics=['accuracy'])"
   ]
  },
  {
   "cell_type": "code",
   "execution_count": 30,
   "id": "ec9feeb4",
   "metadata": {},
   "outputs": [
    {
     "name": "stdout",
     "output_type": "stream",
     "text": [
      "WARNING:tensorflow:`period` argument is deprecated. Please use `save_freq` to specify the frequency in number of batches seen.\n"
     ]
    }
   ],
   "source": [
    "checkpoint = ModelCheckpoint(\"best_model.hdf5\", monitor='val_accuracy', verbose=1,save_best_only=True, mode='auto',\n",
    "                             period=1,save_weights_only=False)"
   ]
  },
  {
   "cell_type": "code",
   "execution_count": 31,
   "id": "debe8dda",
   "metadata": {},
   "outputs": [
    {
     "name": "stdout",
     "output_type": "stream",
     "text": [
      "Epoch 1/10\n",
      "20/20 [==============================] - 21s 879ms/step - loss: 1.0409 - accuracy: 0.6901 - val_loss: 0.7739 - val_accuracy: 0.7706\n",
      "\n",
      "Epoch 00001: val_accuracy improved from -inf to 0.77058, saving model to best_model.hdf5\n",
      "Epoch 2/10\n",
      "20/20 [==============================] - 14s 715ms/step - loss: 0.7090 - accuracy: 0.7721 - val_loss: 0.6424 - val_accuracy: 0.7706\n",
      "\n",
      "Epoch 00002: val_accuracy did not improve from 0.77058\n",
      "Epoch 3/10\n",
      "20/20 [==============================] - 15s 750ms/step - loss: 0.6220 - accuracy: 0.7764 - val_loss: 0.5982 - val_accuracy: 0.7706\n",
      "\n",
      "Epoch 00003: val_accuracy did not improve from 0.77058\n",
      "Epoch 4/10\n",
      "20/20 [==============================] - 14s 730ms/step - loss: 0.5606 - accuracy: 0.7765 - val_loss: 0.5049 - val_accuracy: 0.7838\n",
      "\n",
      "Epoch 00004: val_accuracy improved from 0.77058 to 0.78382, saving model to best_model.hdf5\n",
      "Epoch 5/10\n",
      "20/20 [==============================] - 16s 832ms/step - loss: 0.4502 - accuracy: 0.8270 - val_loss: 0.4142 - val_accuracy: 0.8579\n",
      "\n",
      "Epoch 00005: val_accuracy improved from 0.78382 to 0.85793, saving model to best_model.hdf5\n",
      "Epoch 6/10\n",
      "20/20 [==============================] - 16s 794ms/step - loss: 0.3548 - accuracy: 0.8827 - val_loss: 0.3909 - val_accuracy: 0.8662\n",
      "\n",
      "Epoch 00006: val_accuracy improved from 0.85793 to 0.86616, saving model to best_model.hdf5\n",
      "Epoch 7/10\n",
      "20/20 [==============================] - 16s 792ms/step - loss: 0.3139 - accuracy: 0.8951 - val_loss: 0.3716 - val_accuracy: 0.8736\n",
      "\n",
      "Epoch 00007: val_accuracy improved from 0.86616 to 0.87359, saving model to best_model.hdf5\n",
      "Epoch 8/10\n",
      "20/20 [==============================] - 15s 774ms/step - loss: 0.2927 - accuracy: 0.9036 - val_loss: 0.3718 - val_accuracy: 0.8770\n",
      "\n",
      "Epoch 00008: val_accuracy improved from 0.87359 to 0.87698, saving model to best_model.hdf5\n",
      "Epoch 9/10\n",
      "20/20 [==============================] - 16s 788ms/step - loss: 0.2823 - accuracy: 0.9086 - val_loss: 0.3731 - val_accuracy: 0.8784\n",
      "\n",
      "Epoch 00009: val_accuracy improved from 0.87698 to 0.87843, saving model to best_model.hdf5\n",
      "Epoch 10/10\n",
      "20/20 [==============================] - 16s 789ms/step - loss: 0.2559 - accuracy: 0.9175 - val_loss: 0.3798 - val_accuracy: 0.8786\n",
      "\n",
      "Epoch 00010: val_accuracy improved from 0.87843 to 0.87859, saving model to best_model.hdf5\n"
     ]
    }
   ],
   "source": [
    "history1 = model.fit(X_train, y_train,steps_per_epoch=20,epochs=10,validation_data=(X_test, y_test),callbacks=[checkpoint])"
   ]
  },
  {
   "cell_type": "code",
   "execution_count": 60,
   "id": "d5828fe1",
   "metadata": {},
   "outputs": [
    {
     "data": {
      "image/png": "[encoded data removed]",
      "text/plain": [
       "<Figure size 432x288 with 1 Axes>"
      ]
     },
     "metadata": {
      "needs_background": "light"
     },
     "output_type": "display_data"
    },
    {
     "data": {
      "text/plain": [
       "<Figure size 432x288 with 0 Axes>"
      ]
     },
     "metadata": {},
     "output_type": "display_data"
    }
   ],
   "source": [
    "import matplotlib.pyplot as plt\n",
    "acc = history1.history['accuracy']\n",
    "val_acc = history1.history['val_accuracy']\n",
    "\n",
    "epochs = range(1, 11)\n",
    "\n",
    "plt.plot(epochs, acc, 'red', label='Training acc')\n",
    "plt.plot(epochs, val_acc, 'maroon', label='Validation acc')\n",
    "plt.title('Training and validation accuracy for LSTM Model with word level one hot encoding as Feature')\n",
    "plt.xlabel('Epochs')\n",
    "plt.ylabel('Accuracy')\n",
    "plt.legend()\n",
    "plt.figure()\n",
    "plt.show()"
   ]
  },
  {
   "cell_type": "code",
   "execution_count": 61,
   "id": "df5e0570",
   "metadata": {},
   "outputs": [
    {
     "data": {
      "image/png": "[encoded data removed]",
      "text/plain": [
       "<Figure size 432x288 with 1 Axes>"
      ]
     },
     "metadata": {
      "needs_background": "light"
     },
     "output_type": "display_data"
    }
   ],
   "source": [
    "loss = history1.history['loss']\n",
    "val_loss = history1.history['val_loss']\n",
    "\n",
    "epochs = range(1, 11)\n",
    "\n",
    "plt.plot(epochs, loss, 'green', label='Training loss')\n",
    "plt.plot(epochs, val_loss, 'b', label='Validation loss')\n",
    "plt.title('Training and validation loss for LSTM Model with word level one hot encoding as Feature')\n",
    "plt.xlabel('Epochs')\n",
    "plt.ylabel('Loss')\n",
    "plt.legend()\n",
    "plt.show()"
   ]
  },
  {
   "cell_type": "code",
   "execution_count": 34,
   "id": "speaking-occasions",
   "metadata": {},
   "outputs": [
    {
     "data": {
      "text/plain": [
       "array([[0., 0., 0., ..., 0., 0., 0.],\n",
       "       [0., 0., 0., ..., 0., 0., 0.],\n",
       "       [0., 0., 0., ..., 0., 0., 0.],\n",
       "       ...,\n",
       "       [0., 0., 0., ..., 0., 0., 0.],\n",
       "       [0., 0., 0., ..., 0., 0., 0.],\n",
       "       [0., 0., 0., ..., 0., 0., 0.]])"
      ]
     },
     "execution_count": 34,
     "metadata": {},
     "output_type": "execute_result"
    }
   ],
   "source": [
    "tfidf_vectorizer = TfidfVectorizer(ngram_range=(1, 2),max_df=0.75, min_df=5, max_features=1000)\n",
    "tfidf = tfidf_vectorizer.fit_transform(data['processed_tweet'] ).toarray()\n",
    "tfidf"
   ]
  },
  {
   "cell_type": "code",
   "execution_count": 35,
   "id": "caeda8c7",
   "metadata": {},
   "outputs": [
    {
     "data": {
      "text/plain": [
       "(24773, 1000)"
      ]
     },
     "execution_count": 35,
     "metadata": {},
     "output_type": "execute_result"
    }
   ],
   "source": [
    "tfidf.shape"
   ]
  },
  {
   "cell_type": "code",
   "execution_count": 36,
   "id": "dabc6aa2",
   "metadata": {},
   "outputs": [],
   "source": [
    "from sklearn.model_selection import train_test_split\n",
    "X = tfidf\n",
    "X_train1, X_test1, y_train1, y_test1 = train_test_split(X, labels, random_state=42, test_size=0.2)"
   ]
  },
  {
   "cell_type": "code",
   "execution_count": 37,
   "id": "44bea091",
   "metadata": {},
   "outputs": [
    {
     "name": "stdout",
     "output_type": "stream",
     "text": [
      "Epoch 1/10\n",
      "20/20 [==============================] - 142s 7s/step - loss: 0.7280 - accuracy: 0.7691 - val_loss: 0.6738 - val_accuracy: 0.7709\n",
      "\n",
      "Epoch 00001: val_accuracy did not improve from 0.87859\n",
      "Epoch 2/10\n",
      "20/20 [==============================] - 156s 8s/step - loss: 0.6707 - accuracy: 0.7751 - val_loss: 0.6712 - val_accuracy: 0.7709\n",
      "\n",
      "Epoch 00002: val_accuracy did not improve from 0.87859\n",
      "Epoch 3/10\n",
      "20/20 [==============================] - 175s 9s/step - loss: 0.6659 - accuracy: 0.7751 - val_loss: 0.6717 - val_accuracy: 0.7709\n",
      "\n",
      "Epoch 00003: val_accuracy did not improve from 0.87859\n",
      "Epoch 4/10\n",
      "20/20 [==============================] - 189s 9s/step - loss: 0.6650 - accuracy: 0.7751 - val_loss: 0.6703 - val_accuracy: 0.7709\n",
      "\n",
      "Epoch 00004: val_accuracy did not improve from 0.87859\n",
      "Epoch 5/10\n",
      "20/20 [==============================] - 192s 10s/step - loss: 0.6641 - accuracy: 0.7751 - val_loss: 0.6704 - val_accuracy: 0.7709\n",
      "\n",
      "Epoch 00005: val_accuracy did not improve from 0.87859\n",
      "Epoch 6/10\n",
      "20/20 [==============================] - 197s 10s/step - loss: 0.6635 - accuracy: 0.7751 - val_loss: 0.6705 - val_accuracy: 0.7709\n",
      "\n",
      "Epoch 00006: val_accuracy did not improve from 0.87859\n",
      "Epoch 7/10\n",
      "20/20 [==============================] - 188s 9s/step - loss: 0.6643 - accuracy: 0.7751 - val_loss: 0.6708 - val_accuracy: 0.7709\n",
      "\n",
      "Epoch 00007: val_accuracy did not improve from 0.87859\n",
      "Epoch 8/10\n",
      "20/20 [==============================] - 108s 5s/step - loss: 0.6634 - accuracy: 0.7751 - val_loss: 0.6705 - val_accuracy: 0.7709\n",
      "\n",
      "Epoch 00008: val_accuracy did not improve from 0.87859\n",
      "Epoch 9/10\n",
      "20/20 [==============================] - 117s 6s/step - loss: 0.6618 - accuracy: 0.7751 - val_loss: 0.6709 - val_accuracy: 0.7709\n",
      "\n",
      "Epoch 00009: val_accuracy did not improve from 0.87859\n",
      "Epoch 10/10\n",
      "20/20 [==============================] - 116s 6s/step - loss: 0.6624 - accuracy: 0.7751 - val_loss: 0.6703 - val_accuracy: 0.7709\n",
      "\n",
      "Epoch 00010: val_accuracy did not improve from 0.87859\n"
     ]
    }
   ],
   "source": [
    "history2 = model.fit(X_train1, y_train1, steps_per_epoch=20, epochs=10,  validation_data=(X_test1, y_test1),\n",
    "                     callbacks=[checkpoint])"
   ]
  },
  {
   "cell_type": "code",
   "execution_count": 38,
   "id": "80f10f74",
   "metadata": {},
   "outputs": [
    {
     "data": {
      "image/png": "[encoded data removed]",
      "text/plain": [
       "<Figure size 432x288 with 1 Axes>"
      ]
     },
     "metadata": {
      "needs_background": "light"
     },
     "output_type": "display_data"
    },
    {
     "data": {
      "text/plain": [
       "<Figure size 432x288 with 0 Axes>"
      ]
     },
     "metadata": {},
     "output_type": "display_data"
    }
   ],
   "source": [
    "import matplotlib.pyplot as plt\n",
    "acc = history2.history['accuracy']\n",
    "val_acc = history2.history['val_accuracy']\n",
    "\n",
    "epochs = range(1, 11)\n",
    "\n",
    "plt.plot(epochs, acc, 'green', label='Training acc')\n",
    "plt.plot(epochs, val_acc, 'yellow', label='Validation acc')\n",
    "plt.title('Training and validation accuracy for LSTM Model with TFIDF Feature')\n",
    "plt.xlabel('Epochs')\n",
    "plt.ylabel('Accuracy')\n",
    "plt.legend()\n",
    "plt.figure()\n",
    "plt.show()"
   ]
  },
  {
   "cell_type": "code",
   "execution_count": 39,
   "id": "a81e6e37",
   "metadata": {},
   "outputs": [
    {
     "data": {
      "image/png": "[encoded data removed]",
      "text/plain": [
       "<Figure size 432x288 with 1 Axes>"
      ]
     },
     "metadata": {
      "needs_background": "light"
     },
     "output_type": "display_data"
    }
   ],
   "source": [
    "loss = history2.history['loss']\n",
    "val_loss = history2.history['val_loss']\n",
    "\n",
    "epochs = range(1, 11)\n",
    "\n",
    "plt.plot(epochs, loss, 'green', label='Training loss')\n",
    "plt.plot(epochs, val_loss, 'yellow', label='Validation loss')\n",
    "plt.title('Training and validation loss for LSTM Model with TFIDF Feature')\n",
    "plt.xlabel('Epochs')\n",
    "plt.ylabel('Loss')\n",
    "plt.legend()\n",
    "plt.show()"
   ]
  },
  {
   "cell_type": "code",
   "execution_count": 40,
   "id": "0c8c6d73",
   "metadata": {},
   "outputs": [
    {
     "data": {
      "text/plain": [
       "array([[0, 0, 0, ..., 0, 0, 0],\n",
       "       [0, 0, 0, ..., 0, 0, 0],\n",
       "       [0, 0, 0, ..., 0, 0, 0],\n",
       "       ...,\n",
       "       [0, 0, 0, ..., 0, 0, 0],\n",
       "       [0, 0, 0, ..., 0, 0, 0],\n",
       "       [0, 0, 0, ..., 0, 0, 0]], dtype=int64)"
      ]
     },
     "execution_count": 40,
     "metadata": {},
     "output_type": "execute_result"
    }
   ],
   "source": [
    "bow_vectorizer = CountVectorizer( max_features=100, stop_words='english', ngram_range=(2,2))\n",
    "bagofwords=bow_vectorizer.fit_transform(data['processed_tweet'] ).toarray()\n",
    "bagofwords"
   ]
  },
  {
   "cell_type": "code",
   "execution_count": 41,
   "id": "40cc03f7",
   "metadata": {},
   "outputs": [
    {
     "data": {
      "text/plain": [
       "(24773, 100)"
      ]
     },
     "execution_count": 41,
     "metadata": {},
     "output_type": "execute_result"
    }
   ],
   "source": [
    "bagofwords.shape"
   ]
  },
  {
   "cell_type": "code",
   "execution_count": 42,
   "id": "25b9b540",
   "metadata": {},
   "outputs": [],
   "source": [
    "X = bagofwords\n",
    "X_train2, X_test2, y_train2, y_test2 = train_test_split(X, labels, random_state=42, test_size=0.2)"
   ]
  },
  {
   "cell_type": "code",
   "execution_count": 43,
   "id": "65f0354e",
   "metadata": {},
   "outputs": [
    {
     "name": "stdout",
     "output_type": "stream",
     "text": [
      "Epoch 1/10\n",
      "20/20 [==============================] - 8s 304ms/step - loss: 0.6622 - accuracy: 0.7751 - val_loss: 0.6710 - val_accuracy: 0.7709\n",
      "\n",
      "Epoch 00001: val_accuracy did not improve from 0.87859\n",
      "Epoch 2/10\n",
      "20/20 [==============================] - 6s 283ms/step - loss: 0.6614 - accuracy: 0.7751 - val_loss: 0.6714 - val_accuracy: 0.7709\n",
      "\n",
      "Epoch 00002: val_accuracy did not improve from 0.87859\n",
      "Epoch 3/10\n",
      "20/20 [==============================] - 6s 284ms/step - loss: 0.6618 - accuracy: 0.7751 - val_loss: 0.6711 - val_accuracy: 0.7709\n",
      "\n",
      "Epoch 00003: val_accuracy did not improve from 0.87859\n",
      "Epoch 4/10\n",
      "20/20 [==============================] - 5s 273ms/step - loss: 0.6615 - accuracy: 0.7751 - val_loss: 0.6706 - val_accuracy: 0.7709\n",
      "\n",
      "Epoch 00004: val_accuracy did not improve from 0.87859\n",
      "Epoch 5/10\n",
      "20/20 [==============================] - 5s 267ms/step - loss: 0.6614 - accuracy: 0.7751 - val_loss: 0.6703 - val_accuracy: 0.7709\n",
      "\n",
      "Epoch 00005: val_accuracy did not improve from 0.87859\n",
      "Epoch 6/10\n",
      "20/20 [==============================] - 5s 264ms/step - loss: 0.6611 - accuracy: 0.7751 - val_loss: 0.6704 - val_accuracy: 0.7709\n",
      "\n",
      "Epoch 00006: val_accuracy did not improve from 0.87859\n",
      "Epoch 7/10\n",
      "20/20 [==============================] - 5s 262ms/step - loss: 0.6607 - accuracy: 0.7751 - val_loss: 0.6702 - val_accuracy: 0.7709\n",
      "\n",
      "Epoch 00007: val_accuracy did not improve from 0.87859\n",
      "Epoch 8/10\n",
      "20/20 [==============================] - 5s 263ms/step - loss: 0.6607 - accuracy: 0.7751 - val_loss: 0.6701 - val_accuracy: 0.7709\n",
      "\n",
      "Epoch 00008: val_accuracy did not improve from 0.87859\n",
      "Epoch 9/10\n",
      "20/20 [==============================] - 5s 261ms/step - loss: 0.6604 - accuracy: 0.7751 - val_loss: 0.6699 - val_accuracy: 0.7709\n",
      "\n",
      "Epoch 00009: val_accuracy did not improve from 0.87859\n",
      "Epoch 10/10\n",
      "20/20 [==============================] - 6s 276ms/step - loss: 0.6609 - accuracy: 0.7751 - val_loss: 0.6699 - val_accuracy: 0.7709\n",
      "\n",
      "Epoch 00010: val_accuracy did not improve from 0.87859\n"
     ]
    }
   ],
   "source": [
    "history3 = model.fit(X_train2, y_train2, epochs=10, steps_per_epoch=20, validation_data=(X_test2, y_test2),\n",
    "                     callbacks=[checkpoint])"
   ]
  },
  {
   "cell_type": "code",
   "execution_count": 44,
   "id": "42eaa3fc",
   "metadata": {},
   "outputs": [
    {
     "data": {
      "image/png": "[encoded data removed]",
      "text/plain": [
       "<Figure size 432x288 with 1 Axes>"
      ]
     },
     "metadata": {
      "needs_background": "light"
     },
     "output_type": "display_data"
    },
    {
     "data": {
      "text/plain": [
       "<Figure size 432x288 with 0 Axes>"
      ]
     },
     "metadata": {},
     "output_type": "display_data"
    }
   ],
   "source": [
    "import matplotlib.pyplot as plt\n",
    "acc = history3.history['accuracy']\n",
    "val_acc = history3.history['val_accuracy']\n",
    "\n",
    "epochs = range(1, 11)\n",
    "\n",
    "plt.plot(epochs, acc, 'purple', label='Training acc')\n",
    "plt.plot(epochs, val_acc, 'red', label='Validation acc')\n",
    "plt.title('Training and validation accuracy for LSTM Model with Bag of words Feature')\n",
    "plt.xlabel('Epochs')\n",
    "plt.ylabel('Accuracy')\n",
    "plt.legend()\n",
    "plt.figure()\n",
    "plt.show()"
   ]
  },
  {
   "cell_type": "code",
   "execution_count": 45,
   "id": "56f142ef",
   "metadata": {},
   "outputs": [
    {
     "data": {
      "image/png": "[encoded data removed]",
      "text/plain": [
       "<Figure size 432x288 with 1 Axes>"
      ]
     },
     "metadata": {
      "needs_background": "light"
     },
     "output_type": "display_data"
    }
   ],
   "source": [
    "loss = history3.history['loss']\n",
    "val_loss = history3.history['val_loss']\n",
    "\n",
    "epochs = range(1, 11)\n",
    "\n",
    "plt.plot(epochs, loss, 'purple', label='Training loss')\n",
    "plt.plot(epochs, val_loss, 'red', label='Validation loss')\n",
    "plt.title('Training and validation loss for LSTM Model with Bag of words Feature')\n",
    "plt.xlabel('Epochs')\n",
    "plt.ylabel('Loss')\n",
    "plt.legend()\n",
    "plt.show()"
   ]
  },
  {
   "cell_type": "code",
   "execution_count": 46,
   "id": "b24a7994",
   "metadata": {},
   "outputs": [
    {
     "data": {
      "text/plain": [
       "(24773, 1300)"
      ]
     },
     "execution_count": 46,
     "metadata": {},
     "output_type": "execute_result"
    }
   ],
   "source": [
    "modelling_features = np.concatenate([tfidf,bagofwords,tweets_in],axis=1)\n",
    "modelling_features.shape"
   ]
  },
  {
   "cell_type": "code",
   "execution_count": 47,
   "id": "191e75e1",
   "metadata": {},
   "outputs": [],
   "source": [
    "X = modelling_features\n",
    "X_train3, X_test3, y_train3, y_test3 = train_test_split(X, labels, random_state=42, test_size=0.2)"
   ]
  },
  {
   "cell_type": "code",
   "execution_count": 48,
   "id": "8b302c17",
   "metadata": {},
   "outputs": [
    {
     "name": "stdout",
     "output_type": "stream",
     "text": [
      "Epoch 1/10\n",
      "20/20 [==============================] - 190s 9s/step - loss: 0.3447 - accuracy: 0.8890 - val_loss: 0.2964 - val_accuracy: 0.9051\n",
      "\n",
      "Epoch 00001: val_accuracy improved from 0.87859 to 0.90515, saving model to best_model.hdf5\n",
      "Epoch 2/10\n",
      "20/20 [==============================] - 197s 10s/step - loss: 0.2767 - accuracy: 0.9101 - val_loss: 0.2820 - val_accuracy: 0.9041\n",
      "\n",
      "Epoch 00002: val_accuracy did not improve from 0.90515\n",
      "Epoch 3/10\n",
      "20/20 [==============================] - 207s 10s/step - loss: 0.2508 - accuracy: 0.9174 - val_loss: 0.2809 - val_accuracy: 0.9025\n",
      "\n",
      "Epoch 00003: val_accuracy did not improve from 0.90515\n",
      "Epoch 4/10\n",
      "20/20 [==============================] - 218s 11s/step - loss: 0.2334 - accuracy: 0.9225 - val_loss: 0.2797 - val_accuracy: 0.9041\n",
      "\n",
      "Epoch 00004: val_accuracy did not improve from 0.90515\n",
      "Epoch 5/10\n",
      "20/20 [==============================] - 204s 10s/step - loss: 0.2141 - accuracy: 0.9257 - val_loss: 0.2810 - val_accuracy: 0.9043\n",
      "\n",
      "Epoch 00005: val_accuracy did not improve from 0.90515\n",
      "Epoch 6/10\n",
      "20/20 [==============================] - 197s 10s/step - loss: 0.1997 - accuracy: 0.9323 - val_loss: 0.2857 - val_accuracy: 0.9023\n",
      "\n",
      "Epoch 00006: val_accuracy did not improve from 0.90515\n",
      "Epoch 7/10\n",
      "20/20 [==============================] - 197s 10s/step - loss: 0.1900 - accuracy: 0.9351 - val_loss: 0.2859 - val_accuracy: 0.9031\n",
      "\n",
      "Epoch 00007: val_accuracy did not improve from 0.90515\n",
      "Epoch 8/10\n",
      "20/20 [==============================] - 195s 10s/step - loss: 0.1776 - accuracy: 0.9373 - val_loss: 0.2911 - val_accuracy: 0.9013\n",
      "\n",
      "Epoch 00008: val_accuracy did not improve from 0.90515\n",
      "Epoch 9/10\n",
      "20/20 [==============================] - 191s 10s/step - loss: 0.1674 - accuracy: 0.9421 - val_loss: 0.3056 - val_accuracy: 0.9007\n",
      "\n",
      "Epoch 00009: val_accuracy did not improve from 0.90515\n",
      "Epoch 10/10\n",
      "20/20 [==============================] - 211s 11s/step - loss: 0.1612 - accuracy: 0.9424 - val_loss: 0.3132 - val_accuracy: 0.9013\n",
      "\n",
      "Epoch 00010: val_accuracy did not improve from 0.90515\n"
     ]
    }
   ],
   "source": [
    "history4= model.fit(X_train3, y_train3, epochs=10, steps_per_epoch=20, validation_data=(X_test3, y_test3),\n",
    "                    callbacks=[checkpoint])"
   ]
  },
  {
   "cell_type": "code",
   "execution_count": 49,
   "id": "075b58c1",
   "metadata": {},
   "outputs": [
    {
     "data": {
      "image/png": "[encoded data removed]",
      "text/plain": [
       "<Figure size 432x288 with 1 Axes>"
      ]
     },
     "metadata": {
      "needs_background": "light"
     },
     "output_type": "display_data"
    },
    {
     "data": {
      "text/plain": [
       "<Figure size 432x288 with 0 Axes>"
      ]
     },
     "metadata": {},
     "output_type": "display_data"
    }
   ],
   "source": [
    "acc = history4.history['accuracy']\n",
    "val_acc = history4.history['val_accuracy']\n",
    "\n",
    "epochs = range(1, 11)\n",
    "\n",
    "plt.plot(epochs, acc, 'yellow', label='Training acc')\n",
    "plt.plot(epochs, val_acc, 'red', label='Validation acc')\n",
    "plt.title('Training and validation accuracy for LSTM Model with [Bag of words + TFIDF + Word level one hot encoding] Feature')\n",
    "plt.xlabel('Epochs')\n",
    "plt.ylabel('Accuracy')\n",
    "plt.legend()\n",
    "plt.figure()\n",
    "plt.show()"
   ]
  },
  {
   "cell_type": "code",
   "execution_count": 50,
   "id": "dcf06550",
   "metadata": {},
   "outputs": [
    {
     "data": {
      "image/png": "[encoded data removed]",
      "text/plain": [
       "<Figure size 432x288 with 1 Axes>"
      ]
     },
     "metadata": {
      "needs_background": "light"
     },
     "output_type": "display_data"
    }
   ],
   "source": [
    "loss = history4.history['loss']\n",
    "val_loss = history4.history['val_loss']\n",
    "\n",
    "epochs = range(1, 11)\n",
    "\n",
    "plt.plot(epochs, loss, 'yellow', label='Training loss')\n",
    "plt.plot(epochs, val_loss, 'red', label='Validation loss')\n",
    "plt.title('Training and validation loss for LSTM Model with [Bag of words + TFIDF + Word level one hot encoding] Feature')\n",
    "plt.xlabel('Epochs')\n",
    "plt.ylabel('Loss')\n",
    "plt.legend()\n",
    "plt.show()"
   ]
  },
  {
   "cell_type": "code",
   "execution_count": 59,
   "id": "370d1cea",
   "metadata": {},
   "outputs": [
    {
     "name": "stdout",
     "output_type": "stream",
     "text": [
      "Model: \"sequential\"\n",
      "_________________________________________________________________\n",
      "Layer (type)                 Output Shape              Param #   \n",
      "=================================================================\n",
      "embedding (Embedding)        (None, None, 20)          100000    \n",
      "_________________________________________________________________\n",
      "lstm (LSTM)                  (None, 15)                2160      \n",
      "_________________________________________________________________\n",
      "flatten (Flatten)            (None, 15)                0         \n",
      "_________________________________________________________________\n",
      "dropout (Dropout)            (None, 15)                0         \n",
      "_________________________________________________________________\n",
      "dense (Dense)                (None, 512)               8192      \n",
      "_________________________________________________________________\n",
      "dense_1 (Dense)              (None, 3)                 1539      \n",
      "=================================================================\n",
      "Total params: 111,891\n",
      "Trainable params: 111,891\n",
      "Non-trainable params: 0\n",
      "_________________________________________________________________\n"
     ]
    }
   ],
   "source": [
    "model.summary()"
   ]
  }
 ],
 "metadata": {
  "kernelspec": {
   "display_name": "Python 3",
   "language": "python",
   "name": "python3"
  },
  "language_info": {
   "codemirror_mode": {
    "name": "ipython",
    "version": 3
   },
   "file_extension": ".py",
   "mimetype": "text/x-python",
   "name": "python",
   "nbconvert_exporter": "python",
   "pygments_lexer": "ipython3",
   "version": "3.8.8"
  }
 },
 "nbformat": 4,
 "nbformat_minor": 5
}
