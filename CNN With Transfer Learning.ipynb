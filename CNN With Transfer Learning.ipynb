{
 "cells": [
  {
   "cell_type": "code",
   "execution_count": 1,
   "id": "c5a4e414",
   "metadata": {},
   "outputs": [],
   "source": [
    "import os, shutil\n",
    "import numpy as np\n",
    "\n",
    "from keras import layers\n",
    "from keras import models\n",
    "from keras import optimizers\n",
    "from keras.preprocessing.image import ImageDataGenerator\n",
    "\n",
    "from keras.preprocessing import image\n",
    "import matplotlib.pyplot as plt"
   ]
  },
  {
   "cell_type": "code",
   "execution_count": 2,
   "id": "c8de38c3",
   "metadata": {},
   "outputs": [],
   "source": [
    "original_dataset_dir1 = r\"C:\\Users\\Admin\\dataset\\dataset\\training_set\\cats\"\n",
    "original_dataset_dir2 = r\"C:\\Users\\Admin\\dataset\\dataset\\training_set\\dogs\"\n",
    "\n",
    "\n",
    "base_dir = r\"C:\\Users\\Admin\\dataset\\dataset\\cats_and_dogs_small\"\n",
    "os.mkdir(base_dir)\n",
    "\n",
    "train_dir = os.path.join(base_dir, 'train')\n",
    "os.mkdir(train_dir)\n",
    "\n",
    "validation_dir = os.path.join(base_dir, 'validation')\n",
    "os.mkdir(validation_dir)\n",
    "\n",
    "test_dir = os.path.join(base_dir, 'test')\n",
    "os.mkdir(test_dir)\n",
    "\n",
    "\n",
    "\n",
    "train_cats_dir = os.path.join(train_dir, 'cats')\n",
    "os.mkdir(train_cats_dir)\n",
    "\n",
    "train_dogs_dir = os.path.join(train_dir, 'dogs')\n",
    "os.mkdir(train_dogs_dir)\n",
    "\n",
    "validation_cats_dir = os.path.join(validation_dir, 'cats')\n",
    "os.mkdir(validation_cats_dir)\n",
    "\n",
    "validation_dogs_dir = os.path.join(validation_dir, 'dogs')\n",
    "os.mkdir(validation_dogs_dir)\n",
    "\n",
    "test_cats_dir = os.path.join(test_dir, 'cats')\n",
    "os.mkdir(test_cats_dir)\n",
    "\n",
    "test_dogs_dir = os.path.join(test_dir, 'dogs')\n",
    "os.mkdir(test_dogs_dir)\n",
    "\n",
    "\n",
    "fnames = ['cat.{}.jpg'.format(i) for i in range(2000)]\n",
    "for fname in fnames:\n",
    "    src = os.path.join(original_dataset_dir1, fname)\n",
    "    dst = os.path.join(train_cats_dir, fname)\n",
    "    shutil.copyfile(src, dst)\n",
    "    \n",
    "fnames = ['cat.{}.jpg'.format(i) for i in range(2000, 3000)]\n",
    "for fname in fnames:\n",
    "    src = os.path.join(original_dataset_dir1, fname)\n",
    "    dst = os.path.join(validation_cats_dir, fname)\n",
    "    shutil.copyfile(src, dst)\n",
    "\n",
    "fnames = ['cat.{}.jpg'.format(i) for i in range(3000, 4000)]\n",
    "for fname in fnames:\n",
    "    src = os.path.join(original_dataset_dir1, fname)\n",
    "    dst = os.path.join(test_cats_dir, fname)\n",
    "    shutil.copyfile(src, dst)\n",
    "    \n",
    "fnames = ['dog.{}.jpg'.format(i) for i in range(2000)]\n",
    "for fname in fnames:\n",
    "    src = os.path.join(original_dataset_dir2, fname)\n",
    "    dst = os.path.join(train_dogs_dir, fname)\n",
    "    shutil.copyfile(src, dst)\n",
    "    \n",
    "fnames = ['dog.{}.jpg'.format(i) for i in range(2000, 3000)]\n",
    "for fname in fnames:\n",
    "    src = os.path.join(original_dataset_dir2, fname)\n",
    "    dst = os.path.join(validation_dogs_dir, fname)\n",
    "    shutil.copyfile(src, dst)\n",
    "    \n",
    "fnames = ['dog.{}.jpg'.format(i) for i in range(3000, 4000)]\n",
    "for fname in fnames:\n",
    "    src = os.path.join(original_dataset_dir2, fname)\n",
    "    dst = os.path.join(test_dogs_dir, fname)\n",
    "    shutil.copyfile(src, dst)"
   ]
  },
  {
   "cell_type": "code",
   "execution_count": 25,
   "id": "23a5ca13",
   "metadata": {},
   "outputs": [],
   "source": [
    "from keras.applications import VGG16\n",
    "conv_base = VGG16(weights='imagenet',include_top=False,input_shape=(150, 150, 3))"
   ]
  },
  {
   "cell_type": "code",
   "execution_count": 26,
   "id": "970efca7",
   "metadata": {},
   "outputs": [
    {
     "name": "stdout",
     "output_type": "stream",
     "text": [
      "Found 4000 images belonging to 2 classes.\n",
      "Found 2000 images belonging to 2 classes.\n",
      "Found 2000 images belonging to 2 classes.\n"
     ]
    }
   ],
   "source": [
    "from keras.preprocessing.image import ImageDataGenerator\n",
    "\n",
    "datagen = ImageDataGenerator(rescale=1./255)\n",
    "batch_size = 20\n",
    "\n",
    "def extract_features(directory, sample_count):\n",
    "    features = np.zeros(shape=(sample_count, 4, 4, 512))\n",
    "    labels = np.zeros(shape=(sample_count))\n",
    "    generator = datagen.flow_from_directory(\n",
    "        directory,\n",
    "        target_size=(150, 150),\n",
    "        batch_size=batch_size,\n",
    "        class_mode='binary')\n",
    "    i = 0\n",
    "    for inputs_batch, labels_batch in generator:\n",
    "        features_batch = conv_base.predict(inputs_batch)\n",
    "        features[i * batch_size : (i + 1) * batch_size] = features_batch\n",
    "        labels[i * batch_size : (i + 1) * batch_size] = labels_batch\n",
    "        i += 1\n",
    "        if i * batch_size >= sample_count:\n",
    "            break\n",
    "    return features, labels\n",
    "\n",
    "train_features, train_labels = extract_features(train_dir, 2000)\n",
    "validation_features, validation_labels = extract_features(validation_dir, 1000)\n",
    "test_features, test_labels = extract_features(test_dir, 1000)"
   ]
  },
  {
   "cell_type": "code",
   "execution_count": 27,
   "id": "d5c67df8",
   "metadata": {},
   "outputs": [],
   "source": [
    "train_features = np.reshape(train_features, (2000, 4 * 4 * 512))\n",
    "validation_features = np.reshape(validation_features, (1000, 4 * 4 * 512))\n",
    "test_features = np.reshape(test_features, (1000, 4 * 4 * 512))"
   ]
  },
  {
   "cell_type": "code",
   "execution_count": 28,
   "id": "40b53f5d",
   "metadata": {},
   "outputs": [],
   "source": [
    "model2 = models.Sequential()\n",
    "\n",
    "model2.add(layers.Dense(256, activation='relu', input_dim=4 * 4 * 512))\n",
    "\n",
    "model2.add(layers.Dropout(0.5))\n",
    "\n",
    "model2.add(layers.Dense(1, activation='sigmoid'))\n",
    "\n",
    "model2.compile(optimizer=optimizers.RMSprop(lr=2e-5),loss='binary_crossentropy',metrics=['acc'])"
   ]
  },
  {
   "cell_type": "code",
   "execution_count": 29,
   "id": "e615fe00",
   "metadata": {},
   "outputs": [
    {
     "name": "stdout",
     "output_type": "stream",
     "text": [
      "Epoch 1/15\n",
      "100/100 [==============================] - 4s 43ms/step - loss: 0.5918 - acc: 0.6655 - val_loss: 0.4571 - val_acc: 0.8220\n",
      "Epoch 2/15\n",
      "100/100 [==============================] - 4s 36ms/step - loss: 0.4340 - acc: 0.8000 - val_loss: 0.3863 - val_acc: 0.8400\n",
      "Epoch 3/15\n",
      "100/100 [==============================] - 4s 37ms/step - loss: 0.3603 - acc: 0.8530 - val_loss: 0.3517 - val_acc: 0.8500\n",
      "Epoch 4/15\n",
      "100/100 [==============================] - 4s 40ms/step - loss: 0.3186 - acc: 0.8690 - val_loss: 0.3363 - val_acc: 0.8570\n",
      "Epoch 5/15\n",
      "100/100 [==============================] - 4s 37ms/step - loss: 0.2898 - acc: 0.8855 - val_loss: 0.3240 - val_acc: 0.8530\n",
      "Epoch 6/15\n",
      "100/100 [==============================] - 4s 39ms/step - loss: 0.2659 - acc: 0.8955 - val_loss: 0.3119 - val_acc: 0.8670\n",
      "Epoch 7/15\n",
      "100/100 [==============================] - 4s 37ms/step - loss: 0.2474 - acc: 0.9055 - val_loss: 0.3023 - val_acc: 0.8690\n",
      "Epoch 8/15\n",
      "100/100 [==============================] - 4s 37ms/step - loss: 0.2325 - acc: 0.9120 - val_loss: 0.3034 - val_acc: 0.8680\n",
      "Epoch 9/15\n",
      "100/100 [==============================] - 4s 37ms/step - loss: 0.2255 - acc: 0.9115 - val_loss: 0.2967 - val_acc: 0.8750\n",
      "Epoch 10/15\n",
      "100/100 [==============================] - 4s 41ms/step - loss: 0.2193 - acc: 0.9180 - val_loss: 0.2922 - val_acc: 0.8720\n",
      "Epoch 11/15\n",
      "100/100 [==============================] - 4s 38ms/step - loss: 0.1955 - acc: 0.9270 - val_loss: 0.2973 - val_acc: 0.8700\n",
      "Epoch 12/15\n",
      "100/100 [==============================] - 4s 37ms/step - loss: 0.1912 - acc: 0.9260 - val_loss: 0.2896 - val_acc: 0.8700\n",
      "Epoch 13/15\n",
      "100/100 [==============================] - 4s 38ms/step - loss: 0.1859 - acc: 0.9305 - val_loss: 0.2864 - val_acc: 0.8700\n",
      "Epoch 14/15\n",
      "100/100 [==============================] - 4s 38ms/step - loss: 0.1794 - acc: 0.9325 - val_loss: 0.2889 - val_acc: 0.8720\n",
      "Epoch 15/15\n",
      "100/100 [==============================] - 4s 38ms/step - loss: 0.1633 - acc: 0.9405 - val_loss: 0.2835 - val_acc: 0.8750\n"
     ]
    }
   ],
   "source": [
    "history2 = model2.fit(train_features, train_labels,epochs=15,batch_size=20,validation_data=(validation_features, validation_labels))"
   ]
  },
  {
   "cell_type": "code",
   "execution_count": 30,
   "id": "9048b104",
   "metadata": {},
   "outputs": [
    {
     "data": {
      "image/png": "[encoded data removed]",
      "text/plain": [
       "<Figure size 432x288 with 1 Axes>"
      ]
     },
     "metadata": {
      "needs_background": "light"
     },
     "output_type": "display_data"
    },
    {
     "data": {
      "text/plain": [
       "<Figure size 432x288 with 0 Axes>"
      ]
     },
     "metadata": {},
     "output_type": "display_data"
    }
   ],
   "source": [
    "acc = history2.history['acc']\n",
    "val_acc = history2.history['val_acc']\n",
    "\n",
    "epochs = range(1, 16)\n",
    "\n",
    "plt.plot(epochs, acc, 'red', label='Training acc')\n",
    "plt.plot(epochs, val_acc, 'yellow', label='Validation acc')\n",
    "plt.title('Training and validation accuracy for CONVNET with features extracted from conv_base')\n",
    "plt.xlabel('Epochs')\n",
    "plt.ylabel('Accuracy')\n",
    "plt.legend()\n",
    "plt.figure()\n",
    "plt.show()"
   ]
  },
  {
   "cell_type": "code",
   "execution_count": 31,
   "id": "953b9030",
   "metadata": {},
   "outputs": [
    {
     "data": {
      "image/png": "[encoded data removed]",
      "text/plain": [
       "<Figure size 432x288 with 1 Axes>"
      ]
     },
     "metadata": {
      "needs_background": "light"
     },
     "output_type": "display_data"
    }
   ],
   "source": [
    "loss = history2.history['loss']\n",
    "val_loss = history2.history['val_loss']\n",
    "\n",
    "epochs = range(1, 16)\n",
    "\n",
    "plt.plot(epochs, loss, 'red', label='Training loss')\n",
    "plt.plot(epochs, val_loss, 'yellow', label='Validation loss')\n",
    "plt.title('Training and validation loss for CONVNET with features extracted from conv_base')\n",
    "plt.xlabel('Epochs')\n",
    "plt.ylabel('Loss')\n",
    "plt.legend()\n",
    "plt.show()"
   ]
  },
  {
   "cell_type": "code",
   "execution_count": 32,
   "id": "7ccb7d3e",
   "metadata": {},
   "outputs": [
    {
     "name": "stdout",
     "output_type": "stream",
     "text": [
      "Model: \"sequential_2\"\n",
      "_________________________________________________________________\n",
      "Layer (type)                 Output Shape              Param #   \n",
      "=================================================================\n",
      "dense_4 (Dense)              (None, 256)               2097408   \n",
      "_________________________________________________________________\n",
      "dropout_1 (Dropout)          (None, 256)               0         \n",
      "_________________________________________________________________\n",
      "dense_5 (Dense)              (None, 1)                 257       \n",
      "=================================================================\n",
      "Total params: 2,097,665\n",
      "Trainable params: 2,097,665\n",
      "Non-trainable params: 0\n",
      "_________________________________________________________________\n"
     ]
    }
   ],
   "source": [
    "model2.summary()"
   ]
  },
  {
   "cell_type": "code",
   "execution_count": 33,
   "id": "edc77499",
   "metadata": {},
   "outputs": [],
   "source": [
    "model3 = models.Sequential()\n",
    "\n",
    "model3.add(conv_base)\n",
    "\n",
    "model3.add(layers.Flatten())\n",
    "\n",
    "model3.add(layers.Dense(256, activation='relu'))\n",
    "model3.add(layers.Dense(1, activation='sigmoid'))"
   ]
  },
  {
   "cell_type": "code",
   "execution_count": 36,
   "id": "8371795e",
   "metadata": {},
   "outputs": [],
   "source": [
    "model3.compile(loss='binary_crossentropy',optimizer=optimizers.RMSprop(lr=2e-5),metrics=['acc'])"
   ]
  },
  {
   "cell_type": "code",
   "execution_count": 37,
   "id": "1aa2072c",
   "metadata": {},
   "outputs": [
    {
     "name": "stdout",
     "output_type": "stream",
     "text": [
      "Epoch 1/15\n",
      "50/50 [==============================] - 568s 11s/step - loss: 0.6141 - acc: 0.6794 - val_loss: 0.5039 - val_acc: 0.7875\n",
      "Epoch 2/15\n",
      "50/50 [==============================] - 500s 10s/step - loss: 0.5406 - acc: 0.7450 - val_loss: 0.4339 - val_acc: 0.8169\n",
      "Epoch 3/15\n",
      "50/50 [==============================] - 378s 8s/step - loss: 0.4749 - acc: 0.7831 - val_loss: 0.4062 - val_acc: 0.8175\n",
      "Epoch 4/15\n",
      "50/50 [==============================] - 349s 7s/step - loss: 0.4534 - acc: 0.8000 - val_loss: 0.3633 - val_acc: 0.8469\n",
      "Epoch 5/15\n",
      "50/50 [==============================] - 355s 7s/step - loss: 0.4394 - acc: 0.7956 - val_loss: 0.3467 - val_acc: 0.8506\n",
      "Epoch 6/15\n",
      "50/50 [==============================] - 354s 7s/step - loss: 0.4167 - acc: 0.8106 - val_loss: 0.3305 - val_acc: 0.8531\n",
      "Epoch 7/15\n",
      "50/50 [==============================] - 344s 7s/step - loss: 0.4080 - acc: 0.8250 - val_loss: 0.3197 - val_acc: 0.8612\n",
      "Epoch 8/15\n",
      "50/50 [==============================] - 342s 7s/step - loss: 0.3831 - acc: 0.8381 - val_loss: 0.3093 - val_acc: 0.8606\n",
      "Epoch 9/15\n",
      "50/50 [==============================] - 342s 7s/step - loss: 0.3700 - acc: 0.8406 - val_loss: 0.3080 - val_acc: 0.8575\n",
      "Epoch 10/15\n",
      "50/50 [==============================] - 362s 7s/step - loss: 0.3704 - acc: 0.8375 - val_loss: 0.2988 - val_acc: 0.8650\n",
      "Epoch 11/15\n",
      "50/50 [==============================] - 354s 7s/step - loss: 0.3553 - acc: 0.8388 - val_loss: 0.3036 - val_acc: 0.8656\n",
      "Epoch 12/15\n",
      "50/50 [==============================] - 343s 7s/step - loss: 0.3524 - acc: 0.8500 - val_loss: 0.2844 - val_acc: 0.8819\n",
      "Epoch 13/15\n",
      "50/50 [==============================] - 344s 7s/step - loss: 0.3878 - acc: 0.8175 - val_loss: 0.2772 - val_acc: 0.8831\n",
      "Epoch 14/15\n",
      "50/50 [==============================] - 342s 7s/step - loss: 0.3587 - acc: 0.8350 - val_loss: 0.2749 - val_acc: 0.8819\n",
      "Epoch 15/15\n",
      "50/50 [==============================] - 348s 7s/step - loss: 0.3319 - acc: 0.8606 - val_loss: 0.2805 - val_acc: 0.8750\n"
     ]
    }
   ],
   "source": [
    "history3 = model3.fit_generator(train_generator,steps_per_epoch=50,epochs=15,validation_data=validation_generator,validation_steps=50)"
   ]
  },
  {
   "cell_type": "code",
   "execution_count": 38,
   "id": "ac3fad8a",
   "metadata": {},
   "outputs": [
    {
     "data": {
      "image/png": "[encoded data removed]",
      "text/plain": [
       "<Figure size 432x288 with 1 Axes>"
      ]
     },
     "metadata": {
      "needs_background": "light"
     },
     "output_type": "display_data"
    },
    {
     "data": {
      "text/plain": [
       "<Figure size 432x288 with 0 Axes>"
      ]
     },
     "metadata": {},
     "output_type": "display_data"
    }
   ],
   "source": [
    "acc = history3.history['acc']\n",
    "val_acc = history3.history['val_acc']\n",
    "\n",
    "epochs = range(1, 16)\n",
    "\n",
    "plt.plot(epochs, acc, 'purple', label='Training acc')\n",
    "plt.plot(epochs, val_acc, 'yellow', label='Validation acc')\n",
    "plt.title('Training and validation accuracy for CONVNET with frozen conv_base')\n",
    "plt.xlabel('Epochs')\n",
    "plt.ylabel('Accuracy')\n",
    "plt.legend()\n",
    "plt.figure()\n",
    "plt.show()"
   ]
  },
  {
   "cell_type": "code",
   "execution_count": 39,
   "id": "45f19210",
   "metadata": {},
   "outputs": [
    {
     "data": {
      "image/png": "[encoded data removed]",
      "text/plain": [
       "<Figure size 432x288 with 1 Axes>"
      ]
     },
     "metadata": {
      "needs_background": "light"
     },
     "output_type": "display_data"
    }
   ],
   "source": [
    "loss = history3.history['loss']\n",
    "val_loss = history3.history['val_loss']\n",
    "\n",
    "epochs = range(1, 16)\n",
    "\n",
    "plt.plot(epochs, loss, 'purple', label='Training loss')\n",
    "plt.plot(epochs, val_loss, 'yellow', label='Validation loss')\n",
    "plt.title('Training and validation loss for CONVNET with frozen conv_base')\n",
    "plt.xlabel('Epochs')\n",
    "plt.ylabel('Loss')\n",
    "plt.legend()\n",
    "plt.show()"
   ]
  },
  {
   "cell_type": "code",
   "execution_count": 40,
   "id": "40148184",
   "metadata": {},
   "outputs": [
    {
     "name": "stdout",
     "output_type": "stream",
     "text": [
      "Model: \"sequential_3\"\n",
      "_________________________________________________________________\n",
      "Layer (type)                 Output Shape              Param #   \n",
      "=================================================================\n",
      "vgg16 (Model)                (None, 4, 4, 512)         14714688  \n",
      "_________________________________________________________________\n",
      "flatten_2 (Flatten)          (None, 8192)              0         \n",
      "_________________________________________________________________\n",
      "dense_6 (Dense)              (None, 256)               2097408   \n",
      "_________________________________________________________________\n",
      "dense_7 (Dense)              (None, 1)                 257       \n",
      "=================================================================\n",
      "Total params: 16,812,353\n",
      "Trainable params: 2,097,665\n",
      "Non-trainable params: 14,714,688\n",
      "_________________________________________________________________\n"
     ]
    }
   ],
   "source": [
    "model3.summary()"
   ]
  },
  {
   "cell_type": "code",
   "execution_count": 41,
   "id": "19403905",
   "metadata": {},
   "outputs": [
    {
     "name": "stdout",
     "output_type": "stream",
     "text": [
      "Model: \"vgg16\"\n",
      "_________________________________________________________________\n",
      "Layer (type)                 Output Shape              Param #   \n",
      "=================================================================\n",
      "input_1 (InputLayer)         [(None, 150, 150, 3)]     0         \n",
      "_________________________________________________________________\n",
      "block1_conv1 (Conv2D)        (None, 150, 150, 64)      1792      \n",
      "_________________________________________________________________\n",
      "block1_conv2 (Conv2D)        (None, 150, 150, 64)      36928     \n",
      "_________________________________________________________________\n",
      "block1_pool (MaxPooling2D)   (None, 75, 75, 64)        0         \n",
      "_________________________________________________________________\n",
      "block2_conv1 (Conv2D)        (None, 75, 75, 128)       73856     \n",
      "_________________________________________________________________\n",
      "block2_conv2 (Conv2D)        (None, 75, 75, 128)       147584    \n",
      "_________________________________________________________________\n",
      "block2_pool (MaxPooling2D)   (None, 37, 37, 128)       0         \n",
      "_________________________________________________________________\n",
      "block3_conv1 (Conv2D)        (None, 37, 37, 256)       295168    \n",
      "_________________________________________________________________\n",
      "block3_conv2 (Conv2D)        (None, 37, 37, 256)       590080    \n",
      "_________________________________________________________________\n",
      "block3_conv3 (Conv2D)        (None, 37, 37, 256)       590080    \n",
      "_________________________________________________________________\n",
      "block3_pool (MaxPooling2D)   (None, 18, 18, 256)       0         \n",
      "_________________________________________________________________\n",
      "block4_conv1 (Conv2D)        (None, 18, 18, 512)       1180160   \n",
      "_________________________________________________________________\n",
      "block4_conv2 (Conv2D)        (None, 18, 18, 512)       2359808   \n",
      "_________________________________________________________________\n",
      "block4_conv3 (Conv2D)        (None, 18, 18, 512)       2359808   \n",
      "_________________________________________________________________\n",
      "block4_pool (MaxPooling2D)   (None, 9, 9, 512)         0         \n",
      "_________________________________________________________________\n",
      "block5_conv1 (Conv2D)        (None, 9, 9, 512)         2359808   \n",
      "_________________________________________________________________\n",
      "block5_conv2 (Conv2D)        (None, 9, 9, 512)         2359808   \n",
      "_________________________________________________________________\n",
      "block5_conv3 (Conv2D)        (None, 9, 9, 512)         2359808   \n",
      "_________________________________________________________________\n",
      "block5_pool (MaxPooling2D)   (None, 4, 4, 512)         0         \n",
      "=================================================================\n",
      "Total params: 14,714,688\n",
      "Trainable params: 0\n",
      "Non-trainable params: 14,714,688\n",
      "_________________________________________________________________\n"
     ]
    }
   ],
   "source": [
    "conv_base.summary()"
   ]
  }
 ],
 "metadata": {
  "kernelspec": {
   "display_name": "Python 3",
   "language": "python",
   "name": "python3"
  },
  "language_info": {
   "codemirror_mode": {
    "name": "ipython",
    "version": 3
   },
   "file_extension": ".py",
   "mimetype": "text/x-python",
   "name": "python",
   "nbconvert_exporter": "python",
   "pygments_lexer": "ipython3",
   "version": "3.8.8"
  }
 },
 "nbformat": 4,
 "nbformat_minor": 5
}
