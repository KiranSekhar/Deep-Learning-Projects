{
 "cells": [
  {
   "cell_type": "code",
   "execution_count": 1,
   "id": "everyday-sunday",
   "metadata": {},
   "outputs": [],
   "source": [
    "import keras\n",
    "from keras.models import Sequential\n",
    "from keras.layers import Convolution2D\n",
    "from keras.layers import MaxPooling2D\n",
    "from keras.layers import Flatten\n",
    "from keras.layers import Dense"
   ]
  },
  {
   "cell_type": "code",
   "execution_count": 2,
   "id": "competitive-watch",
   "metadata": {},
   "outputs": [],
   "source": [
    "cnn_model= Sequential()"
   ]
  },
  {
   "cell_type": "code",
   "execution_count": 3,
   "id": "proof-floor",
   "metadata": {},
   "outputs": [],
   "source": [
    "cnn_model.add(Convolution2D(filters=32, \n",
    "                             kernel_size=(3,3), \n",
    "                             input_shape=(64, 64, 3), \n",
    "                             kernel_initializer='he_uniform', \n",
    "                             activation='relu'))"
   ]
  },
  {
   "cell_type": "code",
   "execution_count": 4,
   "id": "informative-ghana",
   "metadata": {},
   "outputs": [],
   "source": [
    "cnn_model.add(MaxPooling2D(pool_size=(2,2)))"
   ]
  },
  {
   "cell_type": "code",
   "execution_count": 5,
   "id": "great-venture",
   "metadata": {},
   "outputs": [],
   "source": [
    "cnn_model.add(Convolution2D(filters=32,\n",
    "                             kernel_size=(3,3), \n",
    "                             kernel_initializer='he_uniform', \n",
    "                             activation='relu'))\n",
    "cnn_model.add(MaxPooling2D(pool_size=(2,2)))"
   ]
  },
  {
   "cell_type": "code",
   "execution_count": 6,
   "id": "successful-strength",
   "metadata": {},
   "outputs": [],
   "source": [
    "cnn_model.add(Flatten())"
   ]
  },
  {
   "cell_type": "code",
   "execution_count": 7,
   "id": "initial-transparency",
   "metadata": {},
   "outputs": [],
   "source": [
    "cnn_model.add(Dense(units=128,kernel_initializer='glorot_uniform', activation='relu')) \n",
    "cnn_model.add(Dense(units=1,kernel_initializer='glorot_uniform',activation='sigmoid'))\n",
    "cnn_model.compile(optimizer = 'adam', loss = 'binary_crossentropy', metrics = ['accuracy'])"
   ]
  },
  {
   "cell_type": "code",
   "execution_count": 8,
   "id": "interested-bruce",
   "metadata": {},
   "outputs": [],
   "source": [
    "from keras.preprocessing.image import ImageDataGenerator"
   ]
  },
  {
   "cell_type": "code",
   "execution_count": 9,
   "id": "beneficial-douglas",
   "metadata": {},
   "outputs": [],
   "source": [
    "train_datagen = ImageDataGenerator(rescale = 1./255,\n",
    "                                   shear_range = 0.2,\n",
    "                                   zoom_range = 0.2,\n",
    "                                   horizontal_flip = True)"
   ]
  },
  {
   "cell_type": "code",
   "execution_count": 10,
   "id": "sophisticated-procurement",
   "metadata": {},
   "outputs": [],
   "source": [
    "test_datagen= ImageDataGenerator(rescale=1./255)"
   ]
  },
  {
   "cell_type": "code",
   "execution_count": 11,
   "id": "agreed-afghanistan",
   "metadata": {},
   "outputs": [
    {
     "name": "stdout",
     "output_type": "stream",
     "text": [
      "Found 8000 images belonging to 2 classes.\n"
     ]
    }
   ],
   "source": [
    "training_set= train_datagen.flow_from_directory(directory= 'dataset/training_set',\n",
    "                                               target_size=(64,64),\n",
    "                                               batch_size=50,\n",
    "                                               class_mode='binary' \n",
    "                                               )"
   ]
  },
  {
   "cell_type": "code",
   "execution_count": 12,
   "id": "driving-concentrate",
   "metadata": {},
   "outputs": [
    {
     "name": "stdout",
     "output_type": "stream",
     "text": [
      "Found 2000 images belonging to 2 classes.\n"
     ]
    }
   ],
   "source": [
    "test_set= test_datagen.flow_from_directory(directory= 'dataset/test_set',\n",
    "                                               target_size=(64,64), \n",
    "                                               batch_size=50,\n",
    "                                               class_mode='binary'\n",
    "                                          )"
   ]
  },
  {
   "cell_type": "code",
   "execution_count": 25,
   "id": "higher-massachusetts",
   "metadata": {},
   "outputs": [
    {
     "name": "stdout",
     "output_type": "stream",
     "text": [
      "Epoch 1/5\n",
      "160/160 [==============================] - 72s 448ms/step - loss: 0.4325 - accuracy: 0.8006 - val_loss: 0.5712 - val_accuracy: 0.7275\n",
      "Epoch 2/5\n",
      "160/160 [==============================] - 75s 468ms/step - loss: 0.4229 - accuracy: 0.8066 - val_loss: 0.4838 - val_accuracy: 0.7800\n",
      "Epoch 3/5\n",
      "160/160 [==============================] - 72s 450ms/step - loss: 0.4168 - accuracy: 0.8080 - val_loss: 0.4870 - val_accuracy: 0.7825\n",
      "Epoch 4/5\n",
      "160/160 [==============================] - 73s 453ms/step - loss: 0.4070 - accuracy: 0.8101 - val_loss: 0.4804 - val_accuracy: 0.7815\n",
      "Epoch 5/5\n",
      "160/160 [==============================] - 70s 439ms/step - loss: 0.3968 - accuracy: 0.8219 - val_loss: 0.4562 - val_accuracy: 0.7910\n"
     ]
    }
   ],
   "source": [
    "history=cnn_model.fit_generator(training_set, \n",
    "                        steps_per_epoch=int(8000/50),\n",
    "                        epochs=5, \n",
    "                        validation_data=test_set, \n",
    "                        validation_steps=int(2000/50) \n",
    "                        )"
   ]
  },
  {
   "cell_type": "code",
   "execution_count": 33,
   "id": "exclusive-envelope",
   "metadata": {},
   "outputs": [
    {
     "data": {
      "image/png": "[encoded data removed]",
      "text/plain": [
       "<Figure size 432x288 with 1 Axes>"
      ]
     },
     "metadata": {
      "needs_background": "light"
     },
     "output_type": "display_data"
    },
    {
     "data": {
      "image/png": "[encoded data removed]",
      "text/plain": [
       "<Figure size 432x288 with 1 Axes>"
      ]
     },
     "metadata": {
      "needs_background": "light"
     },
     "output_type": "display_data"
    }
   ],
   "source": [
    "import matplotlib.pyplot as plt\n",
    "\n",
    "acc = history.history['accuracy']\n",
    "val_acc = history.history['val_accuracy']\n",
    "loss = history.history['loss']\n",
    "val_loss = history.history['val_loss']\n",
    "\n",
    "epochs = range(0, 5)\n",
    "\n",
    "plt.plot(epochs, acc, 'm', label='Training acc')\n",
    "plt.plot(epochs, val_acc, 'red', label='Validation acc')\n",
    "plt.xlabel('epochs')\n",
    "plt.ylabel('accuracy')\n",
    "plt.title('Training and validation accuracy')\n",
    "plt.legend()\n",
    "plt.figure()\n",
    "plt.plot(epochs, loss, 'm', label='Training loss')\n",
    "plt.plot(epochs, val_loss, 'red', label='Validation loss')\n",
    "plt.title('Training and validation loss')\n",
    "plt.legend()\n",
    "plt.xlabel('epochs')\n",
    "plt.ylabel('loss')\n",
    "plt.show()"
   ]
  },
  {
   "cell_type": "code",
   "execution_count": 56,
   "id": "defined-covering",
   "metadata": {},
   "outputs": [],
   "source": [
    "import numpy as np\n",
    "from keras.preprocessing import image\n",
    "test_image = image.load_img('dataset/single_prediction/cat_or_dog_1.jpg', target_size = (64, 64))\n",
    "test_image = image.img_to_array(test_image)\n",
    "test_image = np.expand_dims(test_image, axis = 0)\n",
    "result = cnn_model.predict(test_image)\n",
    "training_set.class_indices\n",
    "if result[0][0] == 1:\n",
    "    prediction = 'dog'\n",
    "else:\n",
    "    prediction = 'cat'"
   ]
  },
  {
   "cell_type": "code",
   "execution_count": 57,
   "id": "saving-galaxy",
   "metadata": {},
   "outputs": [
    {
     "data": {
      "text/plain": [
       "'dog'"
      ]
     },
     "execution_count": 57,
     "metadata": {},
     "output_type": "execute_result"
    }
   ],
   "source": [
    "prediction"
   ]
  },
  {
   "cell_type": "code",
   "execution_count": 58,
   "id": "hearing-accreditation",
   "metadata": {},
   "outputs": [],
   "source": [
    "import numpy as np\n",
    "from keras.preprocessing import image\n",
    "test_image = image.load_img('dataset/single_prediction/cat_or_dog_2.jpg', target_size = (64, 64))\n",
    "test_image = image.img_to_array(test_image)\n",
    "test_image = np.expand_dims(test_image, axis = 0)\n",
    "result = cnn_model.predict(test_image)\n",
    "training_set.class_indices\n",
    "if result[0][0] == 1:\n",
    "    prediction = 'dog'\n",
    "else:\n",
    "    prediction = 'cat'"
   ]
  },
  {
   "cell_type": "code",
   "execution_count": 59,
   "id": "postal-stupid",
   "metadata": {},
   "outputs": [
    {
     "data": {
      "text/plain": [
       "'cat'"
      ]
     },
     "execution_count": 59,
     "metadata": {},
     "output_type": "execute_result"
    }
   ],
   "source": [
    "prediction"
   ]
  }
 ],
 "metadata": {
  "kernelspec": {
   "display_name": "Python 3",
   "language": "python",
   "name": "python3"
  },
  "language_info": {
   "codemirror_mode": {
    "name": "ipython",
    "version": 3
   },
   "file_extension": ".py",
   "mimetype": "text/x-python",
   "name": "python",
   "nbconvert_exporter": "python",
   "pygments_lexer": "ipython3",
   "version": "3.8.8"
  }
 },
 "nbformat": 4,
 "nbformat_minor": 5
}
