{
 "cells": [
  {
   "cell_type": "code",
   "execution_count": 1,
   "id": "micro-disposition",
   "metadata": {},
   "outputs": [],
   "source": [
    "import pandas as panda\n",
    "import numpy as np\n",
    "import string\n",
    "\n",
    "import nltk\n",
    "from nltk.tokenize import word_tokenize\n",
    "from nltk.corpus import stopwords\n",
    "from nltk.stem.porter import *\n",
    "from nltk.tokenize.treebank import TreebankWordDetokenizer\n",
    "from nltk.stem import WordNetLemmatizer\n",
    "\n",
    "from keras.preprocessing.text import Tokenizer\n",
    "from keras.preprocessing.sequence import pad_sequences\n",
    "from keras import regularizers\n",
    "from keras import backend as K\n",
    "from keras.callbacks import ModelCheckpoint\n",
    "\n",
    "from sklearn.preprocessing import OneHotEncoder\n",
    "from sklearn.feature_extraction.text import CountVectorizer\n",
    "from sklearn.feature_extraction.text import TfidfVectorizer\n",
    "from sklearn.model_selection import train_test_split\n",
    "\n",
    "from keras.models import Sequential\n",
    "from keras import layers\n",
    "from keras.optimizers import RMSprop,Adam\n",
    "\n",
    "from sklearn.metrics import confusion_matrix\n",
    "import seaborn as sns\n",
    "import matplotlib.pyplot as plt"
   ]
  },
  {
   "cell_type": "code",
   "execution_count": 2,
   "id": "moral-puppy",
   "metadata": {},
   "outputs": [
    {
     "data": {
      "text/html": [
       "<div>\n",
       "<style scoped>\n",
       "    .dataframe tbody tr th:only-of-type {\n",
       "        vertical-align: middle;\n",
       "    }\n",
       "\n",
       "    .dataframe tbody tr th {\n",
       "        vertical-align: top;\n",
       "    }\n",
       "\n",
       "    .dataframe thead th {\n",
       "        text-align: right;\n",
       "    }\n",
       "</style>\n",
       "<table border=\"1\" class=\"dataframe\">\n",
       "  <thead>\n",
       "    <tr style=\"text-align: right;\">\n",
       "      <th></th>\n",
       "      <th>Unnamed: 0</th>\n",
       "      <th>count</th>\n",
       "      <th>angry</th>\n",
       "      <th>happy</th>\n",
       "      <th>neither</th>\n",
       "      <th>class</th>\n",
       "      <th>tweet</th>\n",
       "    </tr>\n",
       "  </thead>\n",
       "  <tbody>\n",
       "    <tr>\n",
       "      <th>0</th>\n",
       "      <td>1</td>\n",
       "      <td>3</td>\n",
       "      <td>0</td>\n",
       "      <td>3</td>\n",
       "      <td>0</td>\n",
       "      <td>1</td>\n",
       "      <td>\" Keeks is a bitch she curves everyone \" lol I...</td>\n",
       "    </tr>\n",
       "    <tr>\n",
       "      <th>1</th>\n",
       "      <td>2</td>\n",
       "      <td>3</td>\n",
       "      <td>0</td>\n",
       "      <td>3</td>\n",
       "      <td>0</td>\n",
       "      <td>1</td>\n",
       "      <td>\" Murda Gang bitch its Gang Land \"</td>\n",
       "    </tr>\n",
       "    <tr>\n",
       "      <th>2</th>\n",
       "      <td>3</td>\n",
       "      <td>3</td>\n",
       "      <td>0</td>\n",
       "      <td>2</td>\n",
       "      <td>1</td>\n",
       "      <td>1</td>\n",
       "      <td>\" So hoes that smoke are losers ? \" yea ... go...</td>\n",
       "    </tr>\n",
       "    <tr>\n",
       "      <th>3</th>\n",
       "      <td>4</td>\n",
       "      <td>3</td>\n",
       "      <td>0</td>\n",
       "      <td>3</td>\n",
       "      <td>0</td>\n",
       "      <td>1</td>\n",
       "      <td>\" bad bitches is the only thing that i like \"</td>\n",
       "    </tr>\n",
       "    <tr>\n",
       "      <th>4</th>\n",
       "      <td>5</td>\n",
       "      <td>3</td>\n",
       "      <td>1</td>\n",
       "      <td>2</td>\n",
       "      <td>0</td>\n",
       "      <td>1</td>\n",
       "      <td>\" bitch get up off me \"</td>\n",
       "    </tr>\n",
       "    <tr>\n",
       "      <th>...</th>\n",
       "      <td>...</td>\n",
       "      <td>...</td>\n",
       "      <td>...</td>\n",
       "      <td>...</td>\n",
       "      <td>...</td>\n",
       "      <td>...</td>\n",
       "      <td>...</td>\n",
       "    </tr>\n",
       "    <tr>\n",
       "      <th>24768</th>\n",
       "      <td>25291</td>\n",
       "      <td>3</td>\n",
       "      <td>0</td>\n",
       "      <td>2</td>\n",
       "      <td>1</td>\n",
       "      <td>1</td>\n",
       "      <td>you's a muthaf***in lie &amp;#8220;@LifeAsKing: @2...</td>\n",
       "    </tr>\n",
       "    <tr>\n",
       "      <th>24769</th>\n",
       "      <td>25292</td>\n",
       "      <td>3</td>\n",
       "      <td>0</td>\n",
       "      <td>1</td>\n",
       "      <td>2</td>\n",
       "      <td>2</td>\n",
       "      <td>you've gone and broke the wrong heart baby, an...</td>\n",
       "    </tr>\n",
       "    <tr>\n",
       "      <th>24770</th>\n",
       "      <td>25294</td>\n",
       "      <td>3</td>\n",
       "      <td>0</td>\n",
       "      <td>3</td>\n",
       "      <td>0</td>\n",
       "      <td>1</td>\n",
       "      <td>young buck wanna eat!!.. dat nigguh like I ain...</td>\n",
       "    </tr>\n",
       "    <tr>\n",
       "      <th>24771</th>\n",
       "      <td>25295</td>\n",
       "      <td>6</td>\n",
       "      <td>0</td>\n",
       "      <td>6</td>\n",
       "      <td>0</td>\n",
       "      <td>1</td>\n",
       "      <td>youu got wild bitches tellin you lies</td>\n",
       "    </tr>\n",
       "    <tr>\n",
       "      <th>24772</th>\n",
       "      <td>25296</td>\n",
       "      <td>3</td>\n",
       "      <td>0</td>\n",
       "      <td>0</td>\n",
       "      <td>3</td>\n",
       "      <td>2</td>\n",
       "      <td>~~Ruffled | Ntac Eileen Dahlia - Beautiful col...</td>\n",
       "    </tr>\n",
       "  </tbody>\n",
       "</table>\n",
       "<p>24773 rows × 7 columns</p>\n",
       "</div>"
      ],
      "text/plain": [
       "       Unnamed: 0  count  angry  happy  neither  class  \\\n",
       "0               1      3      0      3        0      1   \n",
       "1               2      3      0      3        0      1   \n",
       "2               3      3      0      2        1      1   \n",
       "3               4      3      0      3        0      1   \n",
       "4               5      3      1      2        0      1   \n",
       "...           ...    ...    ...    ...      ...    ...   \n",
       "24768       25291      3      0      2        1      1   \n",
       "24769       25292      3      0      1        2      2   \n",
       "24770       25294      3      0      3        0      1   \n",
       "24771       25295      6      0      6        0      1   \n",
       "24772       25296      3      0      0        3      2   \n",
       "\n",
       "                                                   tweet  \n",
       "0      \" Keeks is a bitch she curves everyone \" lol I...  \n",
       "1                     \" Murda Gang bitch its Gang Land \"  \n",
       "2      \" So hoes that smoke are losers ? \" yea ... go...  \n",
       "3          \" bad bitches is the only thing that i like \"  \n",
       "4                                \" bitch get up off me \"  \n",
       "...                                                  ...  \n",
       "24768  you's a muthaf***in lie &#8220;@LifeAsKing: @2...  \n",
       "24769  you've gone and broke the wrong heart baby, an...  \n",
       "24770  young buck wanna eat!!.. dat nigguh like I ain...  \n",
       "24771              youu got wild bitches tellin you lies  \n",
       "24772  ~~Ruffled | Ntac Eileen Dahlia - Beautiful col...  \n",
       "\n",
       "[24773 rows x 7 columns]"
      ]
     },
     "execution_count": 2,
     "metadata": {},
     "output_type": "execute_result"
    }
   ],
   "source": [
    "data = panda.read_csv(\"labeled_data.csv\")\n",
    "data"
   ]
  },
  {
   "cell_type": "code",
   "execution_count": 3,
   "id": "stainless-dietary",
   "metadata": {},
   "outputs": [
    {
     "name": "stdout",
     "output_type": "stream",
     "text": [
      "<class 'pandas.core.frame.DataFrame'>\n",
      "RangeIndex: 24773 entries, 0 to 24772\n",
      "Data columns (total 7 columns):\n",
      " #   Column      Non-Null Count  Dtype \n",
      "---  ------      --------------  ----- \n",
      " 0   Unnamed: 0  24773 non-null  int64 \n",
      " 1   count       24773 non-null  int64 \n",
      " 2   angry       24773 non-null  int64 \n",
      " 3   happy       24773 non-null  int64 \n",
      " 4   neither     24773 non-null  int64 \n",
      " 5   class       24773 non-null  int64 \n",
      " 6   tweet       24773 non-null  object\n",
      "dtypes: int64(6), object(1)\n",
      "memory usage: 1.3+ MB\n"
     ]
    }
   ],
   "source": [
    "data.info()"
   ]
  },
  {
   "cell_type": "code",
   "execution_count": 4,
   "id": "continent-blend",
   "metadata": {},
   "outputs": [
    {
     "data": {
      "text/plain": [
       "<AxesSubplot:>"
      ]
     },
     "execution_count": 4,
     "metadata": {},
     "output_type": "execute_result"
    },
    {
     "data": {
      "image/png": "[encoded data removed]",
      "text/plain": [
       "<Figure size 432x288 with 1 Axes>"
      ]
     },
     "metadata": {
      "needs_background": "light"
     },
     "output_type": "display_data"
    }
   ],
   "source": [
    "data['class'].hist()"
   ]
  },
  {
   "cell_type": "code",
   "execution_count": 5,
   "id": "charitable-shoulder",
   "metadata": {},
   "outputs": [],
   "source": [
    "tweet=data.tweet"
   ]
  },
  {
   "cell_type": "code",
   "execution_count": 6,
   "id": "elegant-excellence",
   "metadata": {},
   "outputs": [],
   "source": [
    "def remove_space(tweet):  \n",
    "    \n",
    "    \n",
    "    regex_pat = re.compile(r'\\s+')\n",
    "    tweet_space = tweet.str.replace(regex_pat, ' ')    \n",
    "    newtweet=tweet.str.replace(r'\\s+', ' ')    \n",
    "    newtweet=newtweet.str.replace(r'^\\s+|\\s+?$','')   \n",
    "    newtweet=newtweet.str.replace(r'\\d+(\\.\\d+)?','numbr')\n",
    "    tweet_lower = newtweet.str.lower()\n",
    "    \n",
    "    return tweet_lower"
   ]
  },
  {
   "cell_type": "code",
   "execution_count": 7,
   "id": "valid-vault",
   "metadata": {},
   "outputs": [
    {
     "name": "stderr",
     "output_type": "stream",
     "text": [
      "<ipython-input-6-5f5475067ae5>:6: FutureWarning: The default value of regex will change from True to False in a future version.\n",
      "  newtweet=tweet.str.replace(r'\\s+', ' ')\n",
      "<ipython-input-6-5f5475067ae5>:7: FutureWarning: The default value of regex will change from True to False in a future version.\n",
      "  newtweet=newtweet.str.replace(r'^\\s+|\\s+?$','')\n",
      "<ipython-input-6-5f5475067ae5>:8: FutureWarning: The default value of regex will change from True to False in a future version.\n",
      "  newtweet=newtweet.str.replace(r'\\d+(\\.\\d+)?','numbr')\n"
     ]
    },
    {
     "data": {
      "text/html": [
       "<div>\n",
       "<style scoped>\n",
       "    .dataframe tbody tr th:only-of-type {\n",
       "        vertical-align: middle;\n",
       "    }\n",
       "\n",
       "    .dataframe tbody tr th {\n",
       "        vertical-align: top;\n",
       "    }\n",
       "\n",
       "    .dataframe thead th {\n",
       "        text-align: right;\n",
       "    }\n",
       "</style>\n",
       "<table border=\"1\" class=\"dataframe\">\n",
       "  <thead>\n",
       "    <tr style=\"text-align: right;\">\n",
       "      <th></th>\n",
       "      <th>Unnamed: 0</th>\n",
       "      <th>count</th>\n",
       "      <th>angry</th>\n",
       "      <th>happy</th>\n",
       "      <th>neither</th>\n",
       "      <th>class</th>\n",
       "      <th>tweet</th>\n",
       "      <th>tweets_w/o_space</th>\n",
       "    </tr>\n",
       "  </thead>\n",
       "  <tbody>\n",
       "    <tr>\n",
       "      <th>0</th>\n",
       "      <td>1</td>\n",
       "      <td>3</td>\n",
       "      <td>0</td>\n",
       "      <td>3</td>\n",
       "      <td>0</td>\n",
       "      <td>1</td>\n",
       "      <td>\" Keeks is a bitch she curves everyone \" lol I...</td>\n",
       "      <td>\" keeks is a bitch she curves everyone \" lol i...</td>\n",
       "    </tr>\n",
       "    <tr>\n",
       "      <th>1</th>\n",
       "      <td>2</td>\n",
       "      <td>3</td>\n",
       "      <td>0</td>\n",
       "      <td>3</td>\n",
       "      <td>0</td>\n",
       "      <td>1</td>\n",
       "      <td>\" Murda Gang bitch its Gang Land \"</td>\n",
       "      <td>\" murda gang bitch its gang land \"</td>\n",
       "    </tr>\n",
       "    <tr>\n",
       "      <th>2</th>\n",
       "      <td>3</td>\n",
       "      <td>3</td>\n",
       "      <td>0</td>\n",
       "      <td>2</td>\n",
       "      <td>1</td>\n",
       "      <td>1</td>\n",
       "      <td>\" So hoes that smoke are losers ? \" yea ... go...</td>\n",
       "      <td>\" so hoes that smoke are losers ? \" yea ... go...</td>\n",
       "    </tr>\n",
       "    <tr>\n",
       "      <th>3</th>\n",
       "      <td>4</td>\n",
       "      <td>3</td>\n",
       "      <td>0</td>\n",
       "      <td>3</td>\n",
       "      <td>0</td>\n",
       "      <td>1</td>\n",
       "      <td>\" bad bitches is the only thing that i like \"</td>\n",
       "      <td>\" bad bitches is the only thing that i like \"</td>\n",
       "    </tr>\n",
       "    <tr>\n",
       "      <th>4</th>\n",
       "      <td>5</td>\n",
       "      <td>3</td>\n",
       "      <td>1</td>\n",
       "      <td>2</td>\n",
       "      <td>0</td>\n",
       "      <td>1</td>\n",
       "      <td>\" bitch get up off me \"</td>\n",
       "      <td>\" bitch get up off me \"</td>\n",
       "    </tr>\n",
       "  </tbody>\n",
       "</table>\n",
       "</div>"
      ],
      "text/plain": [
       "   Unnamed: 0  count  angry  happy  neither  class  \\\n",
       "0           1      3      0      3        0      1   \n",
       "1           2      3      0      3        0      1   \n",
       "2           3      3      0      2        1      1   \n",
       "3           4      3      0      3        0      1   \n",
       "4           5      3      1      2        0      1   \n",
       "\n",
       "                                               tweet  \\\n",
       "0  \" Keeks is a bitch she curves everyone \" lol I...   \n",
       "1                 \" Murda Gang bitch its Gang Land \"   \n",
       "2  \" So hoes that smoke are losers ? \" yea ... go...   \n",
       "3      \" bad bitches is the only thing that i like \"   \n",
       "4                            \" bitch get up off me \"   \n",
       "\n",
       "                                    tweets_w/o_space  \n",
       "0  \" keeks is a bitch she curves everyone \" lol i...  \n",
       "1                 \" murda gang bitch its gang land \"  \n",
       "2  \" so hoes that smoke are losers ? \" yea ... go...  \n",
       "3      \" bad bitches is the only thing that i like \"  \n",
       "4                            \" bitch get up off me \"  "
      ]
     },
     "execution_count": 7,
     "metadata": {},
     "output_type": "execute_result"
    }
   ],
   "source": [
    "tweets_space= remove_space(tweet)\n",
    "data[\"tweets_w/o_space\"]=tweets_space\n",
    "data.head()"
   ]
  },
  {
   "cell_type": "code",
   "execution_count": 8,
   "id": "broke-panel",
   "metadata": {},
   "outputs": [],
   "source": [
    "def remove_urls(tweet):\n",
    "    url_pattern = re.compile(r'https?://\\S+|www\\.\\S+')\n",
    "    return url_pattern.sub(r'', tweet)\n",
    "\n",
    "data[\"tweet_w/o_url\"] = data[\"tweets_w/o_space\"].apply(lambda tweet: remove_urls(tweet))"
   ]
  },
  {
   "cell_type": "code",
   "execution_count": 9,
   "id": "unusual-appendix",
   "metadata": {},
   "outputs": [
    {
     "name": "stderr",
     "output_type": "stream",
     "text": [
      "[nltk_data] Downloading package wordnet to\n",
      "[nltk_data]     C:\\Users\\Admin\\AppData\\Roaming\\nltk_data...\n",
      "[nltk_data]   Package wordnet is already up-to-date!\n"
     ]
    },
    {
     "data": {
      "text/plain": [
       "True"
      ]
     },
     "execution_count": 9,
     "metadata": {},
     "output_type": "execute_result"
    }
   ],
   "source": [
    "import nltk\n",
    "nltk.download('wordnet')"
   ]
  },
  {
   "cell_type": "code",
   "execution_count": 10,
   "id": "coupled-wright",
   "metadata": {},
   "outputs": [],
   "source": [
    "from nltk.stem import WordNetLemmatizer\n",
    "\n",
    "data['tweet_lem'] = [''.join([WordNetLemmatizer().lemmatize(re.sub('[^A-Za-z]',' ',tweet)) for tweet in lis]) \n",
    "                     for lis in data['tweet_w/o_url']]"
   ]
  },
  {
   "cell_type": "code",
   "execution_count": 11,
   "id": "flexible-resolution",
   "metadata": {},
   "outputs": [],
   "source": [
    "data[\"tokenized_tweet\"] = data[\"tweet_lem\"].apply(lambda x: x.split())"
   ]
  },
  {
   "cell_type": "code",
   "execution_count": 12,
   "id": "heated-decision",
   "metadata": {},
   "outputs": [
    {
     "data": {
      "text/html": [
       "<div>\n",
       "<style scoped>\n",
       "    .dataframe tbody tr th:only-of-type {\n",
       "        vertical-align: middle;\n",
       "    }\n",
       "\n",
       "    .dataframe tbody tr th {\n",
       "        vertical-align: top;\n",
       "    }\n",
       "\n",
       "    .dataframe thead th {\n",
       "        text-align: right;\n",
       "    }\n",
       "</style>\n",
       "<table border=\"1\" class=\"dataframe\">\n",
       "  <thead>\n",
       "    <tr style=\"text-align: right;\">\n",
       "      <th></th>\n",
       "      <th>Unnamed: 0</th>\n",
       "      <th>count</th>\n",
       "      <th>angry</th>\n",
       "      <th>happy</th>\n",
       "      <th>neither</th>\n",
       "      <th>class</th>\n",
       "      <th>tweet</th>\n",
       "      <th>tweets_w/o_space</th>\n",
       "      <th>tweet_w/o_url</th>\n",
       "      <th>tweet_lem</th>\n",
       "      <th>tokenized_tweet</th>\n",
       "    </tr>\n",
       "  </thead>\n",
       "  <tbody>\n",
       "    <tr>\n",
       "      <th>0</th>\n",
       "      <td>1</td>\n",
       "      <td>3</td>\n",
       "      <td>0</td>\n",
       "      <td>3</td>\n",
       "      <td>0</td>\n",
       "      <td>1</td>\n",
       "      <td>\" Keeks is a bitch she curves everyone \" lol I...</td>\n",
       "      <td>\" keeks is a bitch she curves everyone \" lol i...</td>\n",
       "      <td>\" keeks is a bitch she curves everyone \" lol i...</td>\n",
       "      <td>keeks is a bitch she curves everyone   lol i...</td>\n",
       "      <td>[keeks, is, a, bitch, she, curves, everyone, l...</td>\n",
       "    </tr>\n",
       "    <tr>\n",
       "      <th>1</th>\n",
       "      <td>2</td>\n",
       "      <td>3</td>\n",
       "      <td>0</td>\n",
       "      <td>3</td>\n",
       "      <td>0</td>\n",
       "      <td>1</td>\n",
       "      <td>\" Murda Gang bitch its Gang Land \"</td>\n",
       "      <td>\" murda gang bitch its gang land \"</td>\n",
       "      <td>\" murda gang bitch its gang land \"</td>\n",
       "      <td>murda gang bitch its gang land</td>\n",
       "      <td>[murda, gang, bitch, its, gang, land]</td>\n",
       "    </tr>\n",
       "    <tr>\n",
       "      <th>2</th>\n",
       "      <td>3</td>\n",
       "      <td>3</td>\n",
       "      <td>0</td>\n",
       "      <td>2</td>\n",
       "      <td>1</td>\n",
       "      <td>1</td>\n",
       "      <td>\" So hoes that smoke are losers ? \" yea ... go...</td>\n",
       "      <td>\" so hoes that smoke are losers ? \" yea ... go...</td>\n",
       "      <td>\" so hoes that smoke are losers ? \" yea ... go...</td>\n",
       "      <td>so hoes that smoke are losers     yea     go...</td>\n",
       "      <td>[so, hoes, that, smoke, are, losers, yea, go, ...</td>\n",
       "    </tr>\n",
       "    <tr>\n",
       "      <th>3</th>\n",
       "      <td>4</td>\n",
       "      <td>3</td>\n",
       "      <td>0</td>\n",
       "      <td>3</td>\n",
       "      <td>0</td>\n",
       "      <td>1</td>\n",
       "      <td>\" bad bitches is the only thing that i like \"</td>\n",
       "      <td>\" bad bitches is the only thing that i like \"</td>\n",
       "      <td>\" bad bitches is the only thing that i like \"</td>\n",
       "      <td>bad bitches is the only thing that i like</td>\n",
       "      <td>[bad, bitches, is, the, only, thing, that, i, ...</td>\n",
       "    </tr>\n",
       "    <tr>\n",
       "      <th>4</th>\n",
       "      <td>5</td>\n",
       "      <td>3</td>\n",
       "      <td>1</td>\n",
       "      <td>2</td>\n",
       "      <td>0</td>\n",
       "      <td>1</td>\n",
       "      <td>\" bitch get up off me \"</td>\n",
       "      <td>\" bitch get up off me \"</td>\n",
       "      <td>\" bitch get up off me \"</td>\n",
       "      <td>bitch get up off me</td>\n",
       "      <td>[bitch, get, up, off, me]</td>\n",
       "    </tr>\n",
       "  </tbody>\n",
       "</table>\n",
       "</div>"
      ],
      "text/plain": [
       "   Unnamed: 0  count  angry  happy  neither  class  \\\n",
       "0           1      3      0      3        0      1   \n",
       "1           2      3      0      3        0      1   \n",
       "2           3      3      0      2        1      1   \n",
       "3           4      3      0      3        0      1   \n",
       "4           5      3      1      2        0      1   \n",
       "\n",
       "                                               tweet  \\\n",
       "0  \" Keeks is a bitch she curves everyone \" lol I...   \n",
       "1                 \" Murda Gang bitch its Gang Land \"   \n",
       "2  \" So hoes that smoke are losers ? \" yea ... go...   \n",
       "3      \" bad bitches is the only thing that i like \"   \n",
       "4                            \" bitch get up off me \"   \n",
       "\n",
       "                                    tweets_w/o_space  \\\n",
       "0  \" keeks is a bitch she curves everyone \" lol i...   \n",
       "1                 \" murda gang bitch its gang land \"   \n",
       "2  \" so hoes that smoke are losers ? \" yea ... go...   \n",
       "3      \" bad bitches is the only thing that i like \"   \n",
       "4                            \" bitch get up off me \"   \n",
       "\n",
       "                                       tweet_w/o_url  \\\n",
       "0  \" keeks is a bitch she curves everyone \" lol i...   \n",
       "1                 \" murda gang bitch its gang land \"   \n",
       "2  \" so hoes that smoke are losers ? \" yea ... go...   \n",
       "3      \" bad bitches is the only thing that i like \"   \n",
       "4                            \" bitch get up off me \"   \n",
       "\n",
       "                                           tweet_lem  \\\n",
       "0    keeks is a bitch she curves everyone   lol i...   \n",
       "1                   murda gang bitch its gang land     \n",
       "2    so hoes that smoke are losers     yea     go...   \n",
       "3        bad bitches is the only thing that i like     \n",
       "4                              bitch get up off me     \n",
       "\n",
       "                                     tokenized_tweet  \n",
       "0  [keeks, is, a, bitch, she, curves, everyone, l...  \n",
       "1              [murda, gang, bitch, its, gang, land]  \n",
       "2  [so, hoes, that, smoke, are, losers, yea, go, ...  \n",
       "3  [bad, bitches, is, the, only, thing, that, i, ...  \n",
       "4                          [bitch, get, up, off, me]  "
      ]
     },
     "execution_count": 12,
     "metadata": {},
     "output_type": "execute_result"
    }
   ],
   "source": [
    "data.head()"
   ]
  },
  {
   "cell_type": "code",
   "execution_count": 13,
   "id": "traditional-things",
   "metadata": {},
   "outputs": [
    {
     "name": "stderr",
     "output_type": "stream",
     "text": [
      "[nltk_data] Downloading package stopwords to\n",
      "[nltk_data]     C:\\Users\\Admin\\AppData\\Roaming\\nltk_data...\n",
      "[nltk_data]   Package stopwords is already up-to-date!\n"
     ]
    },
    {
     "data": {
      "text/plain": [
       "True"
      ]
     },
     "execution_count": 13,
     "metadata": {},
     "output_type": "execute_result"
    }
   ],
   "source": [
    "import nltk\n",
    "nltk.download('stopwords')"
   ]
  },
  {
   "cell_type": "code",
   "execution_count": 14,
   "id": "boolean-algebra",
   "metadata": {},
   "outputs": [],
   "source": [
    "stopwords = nltk.corpus.stopwords.words(\"english\")\n",
    "other_exclusions = [\"#ff\", \"ff\", \"rt\"]\n",
    "stopwords.extend(other_exclusions)\n",
    "stemmer = PorterStemmer()"
   ]
  },
  {
   "cell_type": "code",
   "execution_count": 15,
   "id": "abroad-worth",
   "metadata": {},
   "outputs": [
    {
     "data": {
      "text/html": [
       "<div>\n",
       "<style scoped>\n",
       "    .dataframe tbody tr th:only-of-type {\n",
       "        vertical-align: middle;\n",
       "    }\n",
       "\n",
       "    .dataframe tbody tr th {\n",
       "        vertical-align: top;\n",
       "    }\n",
       "\n",
       "    .dataframe thead th {\n",
       "        text-align: right;\n",
       "    }\n",
       "</style>\n",
       "<table border=\"1\" class=\"dataframe\">\n",
       "  <thead>\n",
       "    <tr style=\"text-align: right;\">\n",
       "      <th></th>\n",
       "      <th>Unnamed: 0</th>\n",
       "      <th>count</th>\n",
       "      <th>angry</th>\n",
       "      <th>happy</th>\n",
       "      <th>neither</th>\n",
       "      <th>class</th>\n",
       "      <th>tweet</th>\n",
       "      <th>tweets_w/o_space</th>\n",
       "      <th>tweet_w/o_url</th>\n",
       "      <th>tweet_lem</th>\n",
       "      <th>tokenized_tweet</th>\n",
       "      <th>tweet_w/o_stop</th>\n",
       "    </tr>\n",
       "  </thead>\n",
       "  <tbody>\n",
       "    <tr>\n",
       "      <th>0</th>\n",
       "      <td>1</td>\n",
       "      <td>3</td>\n",
       "      <td>0</td>\n",
       "      <td>3</td>\n",
       "      <td>0</td>\n",
       "      <td>1</td>\n",
       "      <td>\" Keeks is a bitch she curves everyone \" lol I...</td>\n",
       "      <td>\" keeks is a bitch she curves everyone \" lol i...</td>\n",
       "      <td>\" keeks is a bitch she curves everyone \" lol i...</td>\n",
       "      <td>keeks is a bitch she curves everyone   lol i...</td>\n",
       "      <td>[keeks, is, a, bitch, she, curves, everyone, l...</td>\n",
       "      <td>[keeks, bitch, curves, everyone, lol, walked, ...</td>\n",
       "    </tr>\n",
       "    <tr>\n",
       "      <th>1</th>\n",
       "      <td>2</td>\n",
       "      <td>3</td>\n",
       "      <td>0</td>\n",
       "      <td>3</td>\n",
       "      <td>0</td>\n",
       "      <td>1</td>\n",
       "      <td>\" Murda Gang bitch its Gang Land \"</td>\n",
       "      <td>\" murda gang bitch its gang land \"</td>\n",
       "      <td>\" murda gang bitch its gang land \"</td>\n",
       "      <td>murda gang bitch its gang land</td>\n",
       "      <td>[murda, gang, bitch, its, gang, land]</td>\n",
       "      <td>[murda, gang, bitch, gang, land]</td>\n",
       "    </tr>\n",
       "    <tr>\n",
       "      <th>2</th>\n",
       "      <td>3</td>\n",
       "      <td>3</td>\n",
       "      <td>0</td>\n",
       "      <td>2</td>\n",
       "      <td>1</td>\n",
       "      <td>1</td>\n",
       "      <td>\" So hoes that smoke are losers ? \" yea ... go...</td>\n",
       "      <td>\" so hoes that smoke are losers ? \" yea ... go...</td>\n",
       "      <td>\" so hoes that smoke are losers ? \" yea ... go...</td>\n",
       "      <td>so hoes that smoke are losers     yea     go...</td>\n",
       "      <td>[so, hoes, that, smoke, are, losers, yea, go, ...</td>\n",
       "      <td>[hoes, smoke, losers, yea, go, ig]</td>\n",
       "    </tr>\n",
       "    <tr>\n",
       "      <th>3</th>\n",
       "      <td>4</td>\n",
       "      <td>3</td>\n",
       "      <td>0</td>\n",
       "      <td>3</td>\n",
       "      <td>0</td>\n",
       "      <td>1</td>\n",
       "      <td>\" bad bitches is the only thing that i like \"</td>\n",
       "      <td>\" bad bitches is the only thing that i like \"</td>\n",
       "      <td>\" bad bitches is the only thing that i like \"</td>\n",
       "      <td>bad bitches is the only thing that i like</td>\n",
       "      <td>[bad, bitches, is, the, only, thing, that, i, ...</td>\n",
       "      <td>[bad, bitches, thing, like]</td>\n",
       "    </tr>\n",
       "    <tr>\n",
       "      <th>4</th>\n",
       "      <td>5</td>\n",
       "      <td>3</td>\n",
       "      <td>1</td>\n",
       "      <td>2</td>\n",
       "      <td>0</td>\n",
       "      <td>1</td>\n",
       "      <td>\" bitch get up off me \"</td>\n",
       "      <td>\" bitch get up off me \"</td>\n",
       "      <td>\" bitch get up off me \"</td>\n",
       "      <td>bitch get up off me</td>\n",
       "      <td>[bitch, get, up, off, me]</td>\n",
       "      <td>[bitch, get]</td>\n",
       "    </tr>\n",
       "  </tbody>\n",
       "</table>\n",
       "</div>"
      ],
      "text/plain": [
       "   Unnamed: 0  count  angry  happy  neither  class  \\\n",
       "0           1      3      0      3        0      1   \n",
       "1           2      3      0      3        0      1   \n",
       "2           3      3      0      2        1      1   \n",
       "3           4      3      0      3        0      1   \n",
       "4           5      3      1      2        0      1   \n",
       "\n",
       "                                               tweet  \\\n",
       "0  \" Keeks is a bitch she curves everyone \" lol I...   \n",
       "1                 \" Murda Gang bitch its Gang Land \"   \n",
       "2  \" So hoes that smoke are losers ? \" yea ... go...   \n",
       "3      \" bad bitches is the only thing that i like \"   \n",
       "4                            \" bitch get up off me \"   \n",
       "\n",
       "                                    tweets_w/o_space  \\\n",
       "0  \" keeks is a bitch she curves everyone \" lol i...   \n",
       "1                 \" murda gang bitch its gang land \"   \n",
       "2  \" so hoes that smoke are losers ? \" yea ... go...   \n",
       "3      \" bad bitches is the only thing that i like \"   \n",
       "4                            \" bitch get up off me \"   \n",
       "\n",
       "                                       tweet_w/o_url  \\\n",
       "0  \" keeks is a bitch she curves everyone \" lol i...   \n",
       "1                 \" murda gang bitch its gang land \"   \n",
       "2  \" so hoes that smoke are losers ? \" yea ... go...   \n",
       "3      \" bad bitches is the only thing that i like \"   \n",
       "4                            \" bitch get up off me \"   \n",
       "\n",
       "                                           tweet_lem  \\\n",
       "0    keeks is a bitch she curves everyone   lol i...   \n",
       "1                   murda gang bitch its gang land     \n",
       "2    so hoes that smoke are losers     yea     go...   \n",
       "3        bad bitches is the only thing that i like     \n",
       "4                              bitch get up off me     \n",
       "\n",
       "                                     tokenized_tweet  \\\n",
       "0  [keeks, is, a, bitch, she, curves, everyone, l...   \n",
       "1              [murda, gang, bitch, its, gang, land]   \n",
       "2  [so, hoes, that, smoke, are, losers, yea, go, ...   \n",
       "3  [bad, bitches, is, the, only, thing, that, i, ...   \n",
       "4                          [bitch, get, up, off, me]   \n",
       "\n",
       "                                      tweet_w/o_stop  \n",
       "0  [keeks, bitch, curves, everyone, lol, walked, ...  \n",
       "1                   [murda, gang, bitch, gang, land]  \n",
       "2                 [hoes, smoke, losers, yea, go, ig]  \n",
       "3                        [bad, bitches, thing, like]  \n",
       "4                                       [bitch, get]  "
      ]
     },
     "execution_count": 15,
     "metadata": {},
     "output_type": "execute_result"
    }
   ],
   "source": [
    "data[\"tweet_w/o_stop\"] = data[\"tokenized_tweet\"].apply(lambda x: [item for item in x if item not in stopwords])\n",
    "data.head()"
   ]
  },
  {
   "cell_type": "code",
   "execution_count": 16,
   "id": "narrow-religious",
   "metadata": {},
   "outputs": [],
   "source": [
    "processed_tweet = data[\"tweet_w/o_stop\"].apply(lambda x: [stemmer.stem(i) for i in x]) \n",
    "    "
   ]
  },
  {
   "cell_type": "code",
   "execution_count": 17,
   "id": "developmental-nickel",
   "metadata": {},
   "outputs": [],
   "source": [
    " for i in range(len(processed_tweet)):\n",
    "        processed_tweet[i] = ' '.join(processed_tweet[i])\n",
    "        tweets_p= processed_tweet"
   ]
  },
  {
   "cell_type": "code",
   "execution_count": 18,
   "id": "desperate-trader",
   "metadata": {},
   "outputs": [],
   "source": [
    "data['processed_tweet'] = tweets_p"
   ]
  },
  {
   "cell_type": "code",
   "execution_count": 19,
   "id": "developed-invite",
   "metadata": {},
   "outputs": [
    {
     "data": {
      "text/html": [
       "<div>\n",
       "<style scoped>\n",
       "    .dataframe tbody tr th:only-of-type {\n",
       "        vertical-align: middle;\n",
       "    }\n",
       "\n",
       "    .dataframe tbody tr th {\n",
       "        vertical-align: top;\n",
       "    }\n",
       "\n",
       "    .dataframe thead th {\n",
       "        text-align: right;\n",
       "    }\n",
       "</style>\n",
       "<table border=\"1\" class=\"dataframe\">\n",
       "  <thead>\n",
       "    <tr style=\"text-align: right;\">\n",
       "      <th></th>\n",
       "      <th>Unnamed: 0</th>\n",
       "      <th>count</th>\n",
       "      <th>angry</th>\n",
       "      <th>happy</th>\n",
       "      <th>neither</th>\n",
       "      <th>class</th>\n",
       "      <th>tweet</th>\n",
       "      <th>tweets_w/o_space</th>\n",
       "      <th>tweet_w/o_url</th>\n",
       "      <th>tweet_lem</th>\n",
       "      <th>tokenized_tweet</th>\n",
       "      <th>tweet_w/o_stop</th>\n",
       "      <th>processed_tweet</th>\n",
       "    </tr>\n",
       "  </thead>\n",
       "  <tbody>\n",
       "    <tr>\n",
       "      <th>0</th>\n",
       "      <td>1</td>\n",
       "      <td>3</td>\n",
       "      <td>0</td>\n",
       "      <td>3</td>\n",
       "      <td>0</td>\n",
       "      <td>1</td>\n",
       "      <td>\" Keeks is a bitch she curves everyone \" lol I...</td>\n",
       "      <td>\" keeks is a bitch she curves everyone \" lol i...</td>\n",
       "      <td>\" keeks is a bitch she curves everyone \" lol i...</td>\n",
       "      <td>keeks is a bitch she curves everyone   lol i...</td>\n",
       "      <td>[keeks, is, a, bitch, she, curves, everyone, l...</td>\n",
       "      <td>[keeks, bitch, curves, everyone, lol, walked, ...</td>\n",
       "      <td>keek bitch curv everyon lol walk convers like smh</td>\n",
       "    </tr>\n",
       "    <tr>\n",
       "      <th>1</th>\n",
       "      <td>2</td>\n",
       "      <td>3</td>\n",
       "      <td>0</td>\n",
       "      <td>3</td>\n",
       "      <td>0</td>\n",
       "      <td>1</td>\n",
       "      <td>\" Murda Gang bitch its Gang Land \"</td>\n",
       "      <td>\" murda gang bitch its gang land \"</td>\n",
       "      <td>\" murda gang bitch its gang land \"</td>\n",
       "      <td>murda gang bitch its gang land</td>\n",
       "      <td>[murda, gang, bitch, its, gang, land]</td>\n",
       "      <td>[murda, gang, bitch, gang, land]</td>\n",
       "      <td>murda gang bitch gang land</td>\n",
       "    </tr>\n",
       "    <tr>\n",
       "      <th>2</th>\n",
       "      <td>3</td>\n",
       "      <td>3</td>\n",
       "      <td>0</td>\n",
       "      <td>2</td>\n",
       "      <td>1</td>\n",
       "      <td>1</td>\n",
       "      <td>\" So hoes that smoke are losers ? \" yea ... go...</td>\n",
       "      <td>\" so hoes that smoke are losers ? \" yea ... go...</td>\n",
       "      <td>\" so hoes that smoke are losers ? \" yea ... go...</td>\n",
       "      <td>so hoes that smoke are losers     yea     go...</td>\n",
       "      <td>[so, hoes, that, smoke, are, losers, yea, go, ...</td>\n",
       "      <td>[hoes, smoke, losers, yea, go, ig]</td>\n",
       "      <td>hoe smoke loser yea go ig</td>\n",
       "    </tr>\n",
       "    <tr>\n",
       "      <th>3</th>\n",
       "      <td>4</td>\n",
       "      <td>3</td>\n",
       "      <td>0</td>\n",
       "      <td>3</td>\n",
       "      <td>0</td>\n",
       "      <td>1</td>\n",
       "      <td>\" bad bitches is the only thing that i like \"</td>\n",
       "      <td>\" bad bitches is the only thing that i like \"</td>\n",
       "      <td>\" bad bitches is the only thing that i like \"</td>\n",
       "      <td>bad bitches is the only thing that i like</td>\n",
       "      <td>[bad, bitches, is, the, only, thing, that, i, ...</td>\n",
       "      <td>[bad, bitches, thing, like]</td>\n",
       "      <td>bad bitch thing like</td>\n",
       "    </tr>\n",
       "    <tr>\n",
       "      <th>4</th>\n",
       "      <td>5</td>\n",
       "      <td>3</td>\n",
       "      <td>1</td>\n",
       "      <td>2</td>\n",
       "      <td>0</td>\n",
       "      <td>1</td>\n",
       "      <td>\" bitch get up off me \"</td>\n",
       "      <td>\" bitch get up off me \"</td>\n",
       "      <td>\" bitch get up off me \"</td>\n",
       "      <td>bitch get up off me</td>\n",
       "      <td>[bitch, get, up, off, me]</td>\n",
       "      <td>[bitch, get]</td>\n",
       "      <td>bitch get</td>\n",
       "    </tr>\n",
       "  </tbody>\n",
       "</table>\n",
       "</div>"
      ],
      "text/plain": [
       "   Unnamed: 0  count  angry  happy  neither  class  \\\n",
       "0           1      3      0      3        0      1   \n",
       "1           2      3      0      3        0      1   \n",
       "2           3      3      0      2        1      1   \n",
       "3           4      3      0      3        0      1   \n",
       "4           5      3      1      2        0      1   \n",
       "\n",
       "                                               tweet  \\\n",
       "0  \" Keeks is a bitch she curves everyone \" lol I...   \n",
       "1                 \" Murda Gang bitch its Gang Land \"   \n",
       "2  \" So hoes that smoke are losers ? \" yea ... go...   \n",
       "3      \" bad bitches is the only thing that i like \"   \n",
       "4                            \" bitch get up off me \"   \n",
       "\n",
       "                                    tweets_w/o_space  \\\n",
       "0  \" keeks is a bitch she curves everyone \" lol i...   \n",
       "1                 \" murda gang bitch its gang land \"   \n",
       "2  \" so hoes that smoke are losers ? \" yea ... go...   \n",
       "3      \" bad bitches is the only thing that i like \"   \n",
       "4                            \" bitch get up off me \"   \n",
       "\n",
       "                                       tweet_w/o_url  \\\n",
       "0  \" keeks is a bitch she curves everyone \" lol i...   \n",
       "1                 \" murda gang bitch its gang land \"   \n",
       "2  \" so hoes that smoke are losers ? \" yea ... go...   \n",
       "3      \" bad bitches is the only thing that i like \"   \n",
       "4                            \" bitch get up off me \"   \n",
       "\n",
       "                                           tweet_lem  \\\n",
       "0    keeks is a bitch she curves everyone   lol i...   \n",
       "1                   murda gang bitch its gang land     \n",
       "2    so hoes that smoke are losers     yea     go...   \n",
       "3        bad bitches is the only thing that i like     \n",
       "4                              bitch get up off me     \n",
       "\n",
       "                                     tokenized_tweet  \\\n",
       "0  [keeks, is, a, bitch, she, curves, everyone, l...   \n",
       "1              [murda, gang, bitch, its, gang, land]   \n",
       "2  [so, hoes, that, smoke, are, losers, yea, go, ...   \n",
       "3  [bad, bitches, is, the, only, thing, that, i, ...   \n",
       "4                          [bitch, get, up, off, me]   \n",
       "\n",
       "                                      tweet_w/o_stop  \\\n",
       "0  [keeks, bitch, curves, everyone, lol, walked, ...   \n",
       "1                   [murda, gang, bitch, gang, land]   \n",
       "2                 [hoes, smoke, losers, yea, go, ig]   \n",
       "3                        [bad, bitches, thing, like]   \n",
       "4                                       [bitch, get]   \n",
       "\n",
       "                                     processed_tweet  \n",
       "0  keek bitch curv everyon lol walk convers like smh  \n",
       "1                         murda gang bitch gang land  \n",
       "2                          hoe smoke loser yea go ig  \n",
       "3                               bad bitch thing like  \n",
       "4                                          bitch get  "
      ]
     },
     "execution_count": 19,
     "metadata": {},
     "output_type": "execute_result"
    }
   ],
   "source": [
    "data.head()"
   ]
  },
  {
   "cell_type": "code",
   "execution_count": 20,
   "id": "foreign-german",
   "metadata": {},
   "outputs": [
    {
     "data": {
      "text/plain": [
       "0        \" Keeks is a bitch she curves everyone \" lol I...\n",
       "1                       \" Murda Gang bitch its Gang Land \"\n",
       "2        \" So hoes that smoke are losers ? \" yea ... go...\n",
       "3            \" bad bitches is the only thing that i like \"\n",
       "4                                  \" bitch get up off me \"\n",
       "                               ...                        \n",
       "24768    you's a muthaf***in lie &#8220;@LifeAsKing: @2...\n",
       "24769    you've gone and broke the wrong heart baby, an...\n",
       "24770    young buck wanna eat!!.. dat nigguh like I ain...\n",
       "24771                youu got wild bitches tellin you lies\n",
       "24772    ~~Ruffled | Ntac Eileen Dahlia - Beautiful col...\n",
       "Name: tweet, Length: 24773, dtype: object"
      ]
     },
     "execution_count": 20,
     "metadata": {},
     "output_type": "execute_result"
    }
   ],
   "source": [
    "data.tweet"
   ]
  },
  {
   "cell_type": "code",
   "execution_count": 21,
   "id": "crucial-madonna",
   "metadata": {},
   "outputs": [
    {
     "data": {
      "text/plain": [
       "0        keek bitch curv everyon lol walk convers like smh\n",
       "1                               murda gang bitch gang land\n",
       "2                                hoe smoke loser yea go ig\n",
       "3                                     bad bitch thing like\n",
       "4                                                bitch get\n",
       "                               ...                        \n",
       "24768    muthaf lie numbr lifeask numbr pearl corey ema...\n",
       "24769      gone broke wrong heart babi drove redneck crazi\n",
       "24770    young buck wanna eat dat nigguh like aint fuck...\n",
       "24771                       youu got wild bitch tellin lie\n",
       "24772    ruffl ntac eileen dahlia beauti color combin p...\n",
       "Name: processed_tweet, Length: 24773, dtype: object"
      ]
     },
     "execution_count": 21,
     "metadata": {},
     "output_type": "execute_result"
    }
   ],
   "source": [
    "data.processed_tweet"
   ]
  },
  {
   "cell_type": "code",
   "execution_count": 22,
   "id": "d15058e8",
   "metadata": {},
   "outputs": [],
   "source": [
    "tweetstop = data['tweet_w/o_stop'] "
   ]
  },
  {
   "cell_type": "code",
   "execution_count": 23,
   "id": "44947b3e",
   "metadata": {},
   "outputs": [],
   "source": [
    "labels = data['class']"
   ]
  },
  {
   "cell_type": "code",
   "execution_count": 24,
   "id": "d6e95c42",
   "metadata": {},
   "outputs": [],
   "source": [
    "from sklearn.preprocessing import OneHotEncoder\n",
    "\n",
    "encoder = OneHotEncoder(sparse=False)\n",
    "\n",
    "labels = encoder.fit_transform(np.array(labels).reshape(-1, 1))"
   ]
  },
  {
   "cell_type": "code",
   "execution_count": 25,
   "id": "4514c3a5",
   "metadata": {},
   "outputs": [],
   "source": [
    "from nltk.tokenize.treebank import TreebankWordDetokenizer\n",
    "def detokenize(text):\n",
    "    return TreebankWordDetokenizer().detokenize(text)"
   ]
  },
  {
   "cell_type": "code",
   "execution_count": 26,
   "id": "9c43ff27",
   "metadata": {},
   "outputs": [
    {
     "name": "stdout",
     "output_type": "stream",
     "text": [
      "['keeks bitch curves everyone lol walked conversation like smh', 'murda gang bitch gang land', 'hoes smoke losers yea go ig', 'bad bitches thing like', 'bitch get']\n"
     ]
    }
   ],
   "source": [
    "data1 = []\n",
    "\n",
    "for i in range(len(tweetstop)):\n",
    "    data1.append(detokenize(tweetstop[i]))\n",
    "print(data1[:5])"
   ]
  },
  {
   "cell_type": "code",
   "execution_count": 27,
   "id": "d1a27356",
   "metadata": {},
   "outputs": [],
   "source": [
    "data1 = np.array(data1)"
   ]
  },
  {
   "cell_type": "code",
   "execution_count": 28,
   "id": "681675ae",
   "metadata": {},
   "outputs": [
    {
     "name": "stdout",
     "output_type": "stream",
     "text": [
      "[[   0    0    0 ...   83   76   15]\n",
      " [   0    0    0 ...    7  605  414]\n",
      " [   0    0    0 ...  470  900   12]\n",
      " ...\n",
      " [   0    0    0 ...   96   95  246]\n",
      " [   0    0    0 ...    3 1826 1247]\n",
      " [   0    0    0 ...   94   17   48]]\n"
     ]
    }
   ],
   "source": [
    "max_words = 5000\n",
    "max_len = 200\n",
    "\n",
    "tokenizer = Tokenizer(num_words=max_words)\n",
    "tokenizer.fit_on_texts(data1)\n",
    "sequences = tokenizer.texts_to_sequences(data1)\n",
    "tweets_in = pad_sequences(sequences, maxlen=max_len)\n",
    "print(tweets_in)"
   ]
  },
  {
   "cell_type": "code",
   "execution_count": 29,
   "id": "fceb8430",
   "metadata": {},
   "outputs": [
    {
     "name": "stdout",
     "output_type": "stream",
     "text": [
      "18587 6196 18587 6196\n"
     ]
    }
   ],
   "source": [
    "from sklearn.model_selection import train_test_split\n",
    "X_train, X_test, y_train, y_test = train_test_split(tweets_in,labels, random_state=0)\n",
    "print (len(X_train),len(X_test),len(y_train),len(y_test))"
   ]
  },
  {
   "cell_type": "code",
   "execution_count": 30,
   "id": "675f383e",
   "metadata": {},
   "outputs": [],
   "source": [
    "model = Sequential()\n",
    "\n",
    "model.add(layers.Embedding(max_words, 20))\n",
    "\n",
    "model.add(layers.LSTM(15,dropout=0.5))\n",
    "\n",
    "model.add(layers.Flatten())\n",
    "model.add(layers.Dropout(0.25))\n",
    "\n",
    "model.add(layers.Dense(512,activation='relu'))\n",
    "model.add(layers.Dense(3,activation='softmax'))\n",
    "\n",
    "model.compile(optimizer='adam',loss='categorical_crossentropy', metrics=['accuracy'])"
   ]
  },
  {
   "cell_type": "code",
   "execution_count": 31,
   "id": "ec9feeb4",
   "metadata": {},
   "outputs": [
    {
     "name": "stdout",
     "output_type": "stream",
     "text": [
      "WARNING:tensorflow:`period` argument is deprecated. Please use `save_freq` to specify the frequency in number of batches seen.\n"
     ]
    }
   ],
   "source": [
    "checkpoint = ModelCheckpoint(\"best_model.hdf5\", monitor='val_accuracy', verbose=1,save_best_only=True, mode='auto',\n",
    "                             period=1,save_weights_only=False)"
   ]
  },
  {
   "cell_type": "code",
   "execution_count": 32,
   "id": "debe8dda",
   "metadata": {},
   "outputs": [
    {
     "name": "stdout",
     "output_type": "stream",
     "text": [
      "Epoch 1/10\n",
      "20/20 [==============================] - ETA: 0s - loss: 0.9616 - accuracy: 0.7525\n",
      "Epoch 00001: val_accuracy improved from -inf to 0.77469, saving model to best_model.hdf5\n",
      "20/20 [==============================] - 9s 429ms/step - loss: 0.9616 - accuracy: 0.7525 - val_loss: 0.7381 - val_accuracy: 0.7747\n",
      "Epoch 2/10\n",
      "20/20 [==============================] - ETA: 0s - loss: 0.6738 - accuracy: 0.7742\n",
      "Epoch 00002: val_accuracy did not improve from 0.77469\n",
      "20/20 [==============================] - 9s 460ms/step - loss: 0.6738 - accuracy: 0.7742 - val_loss: 0.6357 - val_accuracy: 0.7747\n",
      "Epoch 3/10\n",
      "20/20 [==============================] - ETA: 0s - loss: 0.6209 - accuracy: 0.7742\n",
      "Epoch 00003: val_accuracy did not improve from 0.77469\n",
      "20/20 [==============================] - 7s 367ms/step - loss: 0.6209 - accuracy: 0.7742 - val_loss: 0.5986 - val_accuracy: 0.7747\n",
      "Epoch 4/10\n",
      "20/20 [==============================] - ETA: 0s - loss: 0.5600 - accuracy: 0.7743\n",
      "Epoch 00004: val_accuracy improved from 0.77469 to 0.77518, saving model to best_model.hdf5\n",
      "20/20 [==============================] - 8s 392ms/step - loss: 0.5600 - accuracy: 0.7743 - val_loss: 0.5207 - val_accuracy: 0.7752\n",
      "Epoch 5/10\n",
      "20/20 [==============================] - ETA: 0s - loss: 0.4621 - accuracy: 0.8069\n",
      "Epoch 00005: val_accuracy improved from 0.77518 to 0.84135, saving model to best_model.hdf5\n",
      "20/20 [==============================] - 8s 384ms/step - loss: 0.4621 - accuracy: 0.8069 - val_loss: 0.4315 - val_accuracy: 0.8413\n",
      "Epoch 6/10\n",
      "20/20 [==============================] - ETA: 0s - loss: 0.3727 - accuracy: 0.8764\n",
      "Epoch 00006: val_accuracy improved from 0.84135 to 0.86701, saving model to best_model.hdf5\n",
      "20/20 [==============================] - 8s 423ms/step - loss: 0.3727 - accuracy: 0.8764 - val_loss: 0.3836 - val_accuracy: 0.8670\n",
      "Epoch 7/10\n",
      "20/20 [==============================] - ETA: 0s - loss: 0.3271 - accuracy: 0.8917\n",
      "Epoch 00007: val_accuracy improved from 0.86701 to 0.87637, saving model to best_model.hdf5\n",
      "20/20 [==============================] - 8s 379ms/step - loss: 0.3271 - accuracy: 0.8917 - val_loss: 0.3678 - val_accuracy: 0.8764\n",
      "Epoch 8/10\n",
      "20/20 [==============================] - ETA: 0s - loss: 0.2989 - accuracy: 0.9028\n",
      "Epoch 00008: val_accuracy improved from 0.87637 to 0.88073, saving model to best_model.hdf5\n",
      "20/20 [==============================] - 9s 430ms/step - loss: 0.2989 - accuracy: 0.9028 - val_loss: 0.3642 - val_accuracy: 0.8807\n",
      "Epoch 9/10\n",
      "20/20 [==============================] - ETA: 0s - loss: 0.2771 - accuracy: 0.9085\n",
      "Epoch 00009: val_accuracy did not improve from 0.88073\n",
      "20/20 [==============================] - 8s 381ms/step - loss: 0.2771 - accuracy: 0.9085 - val_loss: 0.3873 - val_accuracy: 0.8767\n",
      "Epoch 10/10\n",
      "20/20 [==============================] - ETA: 0s - loss: 0.2692 - accuracy: 0.9120\n",
      "Epoch 00010: val_accuracy improved from 0.88073 to 0.88202, saving model to best_model.hdf5\n",
      "20/20 [==============================] - 8s 420ms/step - loss: 0.2692 - accuracy: 0.9120 - val_loss: 0.3736 - val_accuracy: 0.8820\n"
     ]
    }
   ],
   "source": [
    "history1 = model.fit(X_train, y_train,steps_per_epoch=20,epochs=10,validation_data=(X_test, y_test),callbacks=[checkpoint])"
   ]
  },
  {
   "cell_type": "code",
   "execution_count": 33,
   "id": "d5828fe1",
   "metadata": {},
   "outputs": [
    {
     "data": {
      "image/png": "[encoded data removed]",
      "text/plain": [
       "<Figure size 432x288 with 1 Axes>"
      ]
     },
     "metadata": {
      "needs_background": "light"
     },
     "output_type": "display_data"
    },
    {
     "data": {
      "text/plain": [
       "<Figure size 432x288 with 0 Axes>"
      ]
     },
     "metadata": {},
     "output_type": "display_data"
    }
   ],
   "source": [
    "import matplotlib.pyplot as plt\n",
    "acc = history1.history['accuracy']\n",
    "val_acc = history1.history['val_accuracy']\n",
    "\n",
    "epochs = range(1, 11)\n",
    "\n",
    "plt.plot(epochs, acc, 'orange', label='Training acc')\n",
    "plt.plot(epochs, val_acc, 'b', label='Validation acc')\n",
    "plt.title('Training and validation accuracy for LSTM Model with word level one hot encoding as Feature')\n",
    "plt.xlabel('Epochs')\n",
    "plt.ylabel('Accuracy')\n",
    "plt.legend()\n",
    "plt.figure()\n",
    "plt.show()"
   ]
  },
  {
   "cell_type": "code",
   "execution_count": 34,
   "id": "df5e0570",
   "metadata": {},
   "outputs": [
    {
     "data": {
      "image/png": "[encoded data removed]",
      "text/plain": [
       "<Figure size 432x288 with 1 Axes>"
      ]
     },
     "metadata": {
      "needs_background": "light"
     },
     "output_type": "display_data"
    }
   ],
   "source": [
    "loss = history1.history['loss']\n",
    "val_loss = history1.history['val_loss']\n",
    "\n",
    "epochs = range(1, 11)\n",
    "\n",
    "plt.plot(epochs, loss, 'orange', label='Training loss')\n",
    "plt.plot(epochs, val_loss, 'b', label='Validation loss')\n",
    "plt.title('Training and validation loss for LSTM Model with word level one hot encoding as Feature')\n",
    "plt.xlabel('Epochs')\n",
    "plt.ylabel('Loss')\n",
    "plt.legend()\n",
    "plt.show()"
   ]
  },
  {
   "cell_type": "code",
   "execution_count": 53,
   "id": "3d03d553",
   "metadata": {},
   "outputs": [
    {
     "name": "stdout",
     "output_type": "stream",
     "text": [
      "Test loss: 0.20353253185749054\n",
      "Test accuracy: 0.9351194500923157\n"
     ]
    }
   ],
   "source": [
    "score1 = model.evaluate(X_test, y_test, verbose=0)\n",
    "print('Test loss:', score1[0])\n",
    "print('Test accuracy:', score1[1])"
   ]
  },
  {
   "cell_type": "code",
   "execution_count": 57,
   "id": "5f92bfc3",
   "metadata": {},
   "outputs": [
    {
     "data": {
      "image/png": "[encoded data removed]",
      "text/plain": [
       "<Figure size 216x216 with 1 Axes>"
      ]
     },
     "metadata": {
      "needs_background": "light"
     },
     "output_type": "display_data"
    }
   ],
   "source": [
    "from sklearn.metrics import confusion_matrix\n",
    "import seaborn as sns\n",
    "fig = plt.figure(figsize=(3, 3)) \n",
    "\n",
    "y_preds = model.predict(X_test) \n",
    "\n",
    "Y_pred = np.argmax(y_preds, 1) \n",
    "Y_test = np.argmax(y_test, 1) \n",
    "\n",
    "mat = confusion_matrix(Y_test, Y_pred) \n",
    "\n",
    "sns.heatmap(mat.T, square=True, annot=True, cbar=False, cmap=plt.cm.Blues)\n",
    "plt.title('Confusion Matrix for  LSTM Model with word level one hot encoding as Feature ')\n",
    "plt.xlabel('Predicted Values')\n",
    "plt.ylabel('True Values');\n",
    "plt.show();"
   ]
  },
  {
   "cell_type": "code",
   "execution_count": 61,
   "id": "370d1cea",
   "metadata": {},
   "outputs": [
    {
     "name": "stdout",
     "output_type": "stream",
     "text": [
      "Model: \"sequential\"\n",
      "_________________________________________________________________\n",
      "Layer (type)                 Output Shape              Param #   \n",
      "=================================================================\n",
      "embedding (Embedding)        (None, None, 20)          100000    \n",
      "_________________________________________________________________\n",
      "lstm (LSTM)                  (None, 15)                2160      \n",
      "_________________________________________________________________\n",
      "flatten (Flatten)            (None, 15)                0         \n",
      "_________________________________________________________________\n",
      "dropout (Dropout)            (None, 15)                0         \n",
      "_________________________________________________________________\n",
      "dense (Dense)                (None, 512)               8192      \n",
      "_________________________________________________________________\n",
      "dense_1 (Dense)              (None, 3)                 1539      \n",
      "=================================================================\n",
      "Total params: 111,891\n",
      "Trainable params: 111,891\n",
      "Non-trainable params: 0\n",
      "_________________________________________________________________\n"
     ]
    }
   ],
   "source": [
    "model.summary()"
   ]
  }
 ],
 "metadata": {
  "kernelspec": {
   "display_name": "Python 3",
   "language": "python",
   "name": "python3"
  },
  "language_info": {
   "codemirror_mode": {
    "name": "ipython",
    "version": 3
   },
   "file_extension": ".py",
   "mimetype": "text/x-python",
   "name": "python",
   "nbconvert_exporter": "python",
   "pygments_lexer": "ipython3",
   "version": "3.8.8"
  }
 },
 "nbformat": 4,
 "nbformat_minor": 5
}
